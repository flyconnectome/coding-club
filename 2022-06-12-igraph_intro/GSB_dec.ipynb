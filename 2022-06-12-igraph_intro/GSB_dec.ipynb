{
 "cells": [
  {
   "cell_type": "code",
   "execution_count": 1,
   "id": "22a5f2a0-5255-4588-8b64-c79db4427a88",
   "metadata": {},
   "outputs": [
    {
     "name": "stdout",
     "output_type": "stream",
     "text": [
      "env: SEATABLE_TOKEN=59481ea08c6a2ff4f3635ea54199520ce1a0f1dd\n",
      "env: SEATABLE_SERVER=https://flytable.mrc-lmb.cam.ac.uk/\n"
     ]
    }
   ],
   "source": [
    "import numpy as np\n",
    "import pandas as pd\n",
    "\n",
    "from tqdm.contrib import tzip\n",
    "from tqdm import tqdm \n",
    "\n",
    "import matplotlib.pyplot as plt\n",
    "\n",
    "import igraph as ig\n",
    "\n",
    "import seaserpent as ss\n",
    "%env SEATABLE_TOKEN = 59481ea08c6a2ff4f3635ea54199520ce1a0f1dd\n",
    "%env SEATABLE_SERVER = https://flytable.mrc-lmb.cam.ac.uk/"
   ]
  },
  {
   "cell_type": "markdown",
   "id": "904197f9",
   "metadata": {},
   "source": [
    "1. Load in Sven's connectivity per neuropil"
   ]
  },
  {
   "cell_type": "code",
   "execution_count": 2,
   "id": "40f017b9-d77e-4eac-81ef-276c27c51022",
   "metadata": {},
   "outputs": [],
   "source": [
    "df = pd.read_feather('syn_proof_analysis_filtered_520.feather')"
   ]
  },
  {
   "cell_type": "markdown",
   "id": "23b14ead",
   "metadata": {},
   "source": [
    "2. Use _info_ to restrict df to only AL neurons"
   ]
  },
  {
   "cell_type": "code",
   "execution_count": 3,
   "id": "e4e85a1d-89a9-4799-a87b-521315dc17ff",
   "metadata": {},
   "outputs": [],
   "source": [
    "table = ss.Table(base='main', table='info').to_frame().reset_index()"
   ]
  },
  {
   "cell_type": "code",
   "execution_count": 4,
   "id": "43fee1b8-64f3-4f17-9cbe-5bdd41bd7e7b",
   "metadata": {},
   "outputs": [],
   "source": [
    "df = df[df.syn_count>2]\n",
    "df.pre_pt_root_id = df.pre_pt_root_id.astype(str)\n",
    "df.post_pt_root_id = df.post_pt_root_id.astype(str)"
   ]
  },
  {
   "cell_type": "code",
   "execution_count": 23,
   "id": "399937ef-e9b6-445e-8c36-b643ac44f2ba",
   "metadata": {},
   "outputs": [],
   "source": [
    "table.fillna('NA', inplace=True)\n",
    "#table=table[table.cell_type.str.contains('VM5d')]\n",
    "alpns = table[table.cell_class.str.contains('ALPN')]\n",
    "alrns = table[table.cell_type.str.contains('ORN')]\n",
    "allns = table[table.cell_class.str.contains('ALLN')]"
   ]
  },
  {
   "cell_type": "code",
   "execution_count": 25,
   "id": "90f6ccb4",
   "metadata": {},
   "outputs": [],
   "source": [
    "all_ids = list(alpns.root_id)+list(alrns.root_id)+list(allns.root_id)"
   ]
  },
  {
   "cell_type": "code",
   "execution_count": 26,
   "id": "0410d2ce",
   "metadata": {},
   "outputs": [],
   "source": [
    "al_df = df[np.logical_or(df.pre_pt_root_id.isin(all_ids), df.post_pt_root_id.isin(all_ids))][['pre_pt_root_id', 'post_pt_root_id', 'syn_count']]"
   ]
  },
  {
   "cell_type": "markdown",
   "id": "9016c7bf",
   "metadata": {},
   "source": [
    "3. Choose favorite PN Type"
   ]
  },
  {
   "cell_type": "code",
   "execution_count": 27,
   "id": "0c2a1881",
   "metadata": {},
   "outputs": [],
   "source": [
    "PN_TYPE='VM5D'"
   ]
  },
  {
   "cell_type": "markdown",
   "id": "82bd224d",
   "metadata": {},
   "source": [
    "4. Calculate connection strength as input proprtion"
   ]
  },
  {
   "cell_type": "code",
   "execution_count": 28,
   "id": "9eb1de7e",
   "metadata": {},
   "outputs": [],
   "source": [
    "tot_posts = al_df.groupby('post_pt_root_id').syn_count.sum()"
   ]
  },
  {
   "cell_type": "code",
   "execution_count": 29,
   "id": "aeb80e8a-aa40-4392-ae74-72d41e08628c",
   "metadata": {},
   "outputs": [],
   "source": [
    "syn_weights = pd.merge(al_df, tot_posts, left_on = 'post_pt_root_id', right_index =True)"
   ]
  },
  {
   "cell_type": "code",
   "execution_count": 30,
   "id": "6763f3c9-4e57-46cb-9a40-55fb63ea3162",
   "metadata": {},
   "outputs": [],
   "source": [
    "syn_weights['syn_strength'] = syn_weights.syn_count_x / syn_weights.syn_count_y"
   ]
  },
  {
   "cell_type": "code",
   "execution_count": 31,
   "id": "c609aea3-d9b4-40f2-a6b0-40045acf50f0",
   "metadata": {},
   "outputs": [
    {
     "data": {
      "text/html": [
       "<div>\n",
       "<style scoped>\n",
       "    .dataframe tbody tr th:only-of-type {\n",
       "        vertical-align: middle;\n",
       "    }\n",
       "\n",
       "    .dataframe tbody tr th {\n",
       "        vertical-align: top;\n",
       "    }\n",
       "\n",
       "    .dataframe thead th {\n",
       "        text-align: right;\n",
       "    }\n",
       "</style>\n",
       "<table border=\"1\" class=\"dataframe\">\n",
       "  <thead>\n",
       "    <tr style=\"text-align: right;\">\n",
       "      <th></th>\n",
       "      <th>pre_pt_root_id</th>\n",
       "      <th>post_pt_root_id</th>\n",
       "      <th>syn_count_x</th>\n",
       "      <th>syn_count_y</th>\n",
       "      <th>syn_strength</th>\n",
       "    </tr>\n",
       "  </thead>\n",
       "  <tbody>\n",
       "    <tr>\n",
       "      <th>8</th>\n",
       "      <td>720575940626202237</td>\n",
       "      <td>720575940624700140</td>\n",
       "      <td>4</td>\n",
       "      <td>8037</td>\n",
       "      <td>0.000498</td>\n",
       "    </tr>\n",
       "    <tr>\n",
       "      <th>5690</th>\n",
       "      <td>720575940604515808</td>\n",
       "      <td>720575940624700140</td>\n",
       "      <td>129</td>\n",
       "      <td>8037</td>\n",
       "      <td>0.016051</td>\n",
       "    </tr>\n",
       "    <tr>\n",
       "      <th>7253</th>\n",
       "      <td>720575940629540407</td>\n",
       "      <td>720575940624700140</td>\n",
       "      <td>527</td>\n",
       "      <td>8037</td>\n",
       "      <td>0.065572</td>\n",
       "    </tr>\n",
       "    <tr>\n",
       "      <th>10217</th>\n",
       "      <td>720575940631287912</td>\n",
       "      <td>720575940624700140</td>\n",
       "      <td>30</td>\n",
       "      <td>8037</td>\n",
       "      <td>0.003733</td>\n",
       "    </tr>\n",
       "    <tr>\n",
       "      <th>10587</th>\n",
       "      <td>720575940636000631</td>\n",
       "      <td>720575940624700140</td>\n",
       "      <td>313</td>\n",
       "      <td>8037</td>\n",
       "      <td>0.038945</td>\n",
       "    </tr>\n",
       "    <tr>\n",
       "      <th>...</th>\n",
       "      <td>...</td>\n",
       "      <td>...</td>\n",
       "      <td>...</td>\n",
       "      <td>...</td>\n",
       "      <td>...</td>\n",
       "    </tr>\n",
       "    <tr>\n",
       "      <th>12515793</th>\n",
       "      <td>720575940623303108</td>\n",
       "      <td>720575940618778247</td>\n",
       "      <td>3</td>\n",
       "      <td>3</td>\n",
       "      <td>1.000000</td>\n",
       "    </tr>\n",
       "    <tr>\n",
       "      <th>12517210</th>\n",
       "      <td>720575940617779284</td>\n",
       "      <td>720575940628175363</td>\n",
       "      <td>6</td>\n",
       "      <td>6</td>\n",
       "      <td>1.000000</td>\n",
       "    </tr>\n",
       "    <tr>\n",
       "      <th>12521371</th>\n",
       "      <td>720575940614457086</td>\n",
       "      <td>720575940627169673</td>\n",
       "      <td>3</td>\n",
       "      <td>3</td>\n",
       "      <td>1.000000</td>\n",
       "    </tr>\n",
       "    <tr>\n",
       "      <th>12527014</th>\n",
       "      <td>720575940614326162</td>\n",
       "      <td>720575940605162924</td>\n",
       "      <td>4</td>\n",
       "      <td>4</td>\n",
       "      <td>1.000000</td>\n",
       "    </tr>\n",
       "    <tr>\n",
       "      <th>12533536</th>\n",
       "      <td>720575940632695981</td>\n",
       "      <td>720575940635887246</td>\n",
       "      <td>4</td>\n",
       "      <td>4</td>\n",
       "      <td>1.000000</td>\n",
       "    </tr>\n",
       "  </tbody>\n",
       "</table>\n",
       "<p>194455 rows × 5 columns</p>\n",
       "</div>"
      ],
      "text/plain": [
       "              pre_pt_root_id     post_pt_root_id  syn_count_x  syn_count_y  \\\n",
       "8         720575940626202237  720575940624700140            4         8037   \n",
       "5690      720575940604515808  720575940624700140          129         8037   \n",
       "7253      720575940629540407  720575940624700140          527         8037   \n",
       "10217     720575940631287912  720575940624700140           30         8037   \n",
       "10587     720575940636000631  720575940624700140          313         8037   \n",
       "...                      ...                 ...          ...          ...   \n",
       "12515793  720575940623303108  720575940618778247            3            3   \n",
       "12517210  720575940617779284  720575940628175363            6            6   \n",
       "12521371  720575940614457086  720575940627169673            3            3   \n",
       "12527014  720575940614326162  720575940605162924            4            4   \n",
       "12533536  720575940632695981  720575940635887246            4            4   \n",
       "\n",
       "          syn_strength  \n",
       "8             0.000498  \n",
       "5690          0.016051  \n",
       "7253          0.065572  \n",
       "10217         0.003733  \n",
       "10587         0.038945  \n",
       "...                ...  \n",
       "12515793      1.000000  \n",
       "12517210      1.000000  \n",
       "12521371      1.000000  \n",
       "12527014      1.000000  \n",
       "12533536      1.000000  \n",
       "\n",
       "[194455 rows x 5 columns]"
      ]
     },
     "execution_count": 31,
     "metadata": {},
     "output_type": "execute_result"
    }
   ],
   "source": [
    "syn_weights"
   ]
  },
  {
   "cell_type": "markdown",
   "id": "da661dc4",
   "metadata": {},
   "source": [
    "5. Make graph using ratio in 4"
   ]
  },
  {
   "cell_type": "code",
   "execution_count": 32,
   "id": "c39ff674-2f22-4d8d-98bf-7d3ea1a0dc1a",
   "metadata": {},
   "outputs": [],
   "source": [
    "col_names = [syn_weights.columns[x] for x in [0,1,-1]]"
   ]
  },
  {
   "cell_type": "code",
   "execution_count": 33,
   "id": "79ddc9a5-85fc-441b-9925-76ba7709a615",
   "metadata": {},
   "outputs": [],
   "source": [
    "# g = ig.Graph.DataFrame(vm5d, directed=True)\n",
    "tuples = [tuple(x) for x in syn_weights[col_names].values]\n",
    "g = ig.Graph.TupleList(tuples, directed = True, edge_attrs = ['weight'])"
   ]
  },
  {
   "cell_type": "markdown",
   "id": "91ea4b1e-ef40-447b-9484-feeed494fa02",
   "metadata": {},
   "source": [
    "6. Use igraph to get all neuron ids within 3 hops of an ALRN to a specific PN of your choice."
   ]
  },
  {
   "cell_type": "code",
   "execution_count": 34,
   "id": "f7bd33bc-486a-43ca-8002-ab5c2776d0ba",
   "metadata": {},
   "outputs": [],
   "source": [
    "select_pn = table[table.cell_type.str.contains('VM5d')]\n",
    "select_pn = select_pn[select_pn.cell_class.str.contains(\"ALPN\")]\n",
    "select_df = syn_weights[np.logical_or(syn_weights.pre_pt_root_id.isin(select_pn.root_id), syn_weights.post_pt_root_id.isin(select_pn.root_id))]"
   ]
  },
  {
   "cell_type": "code",
   "execution_count": 41,
   "id": "b58bc055-8c37-44c7-bf77-a020585f397a",
   "metadata": {},
   "outputs": [],
   "source": [
    "pn_names = select_pn.root_id\n",
    "v_names = np.asarray(g.vs()['name'])\n",
    "v_name = v_names[3]\n",
    "v_val = np.argwhere(v_names == v_name)[0][0]"
   ]
  },
  {
   "cell_type": "code",
   "execution_count": 42,
   "id": "fe12f0e5-f376-4ed1-a256-3e0627ae6e22",
   "metadata": {},
   "outputs": [],
   "source": [
    "alrn_names = np.asarray(alrns.root_id)\n",
    "alrn_vals = pd.Series(v_names).isin(alrn_names)\n",
    "alrn_vals = alrn_vals[alrn_vals].index"
   ]
  },
  {
   "cell_type": "code",
   "execution_count": 43,
   "id": "ae2692dc-8fdc-4737-9873-198b4a3ad3f4",
   "metadata": {},
   "outputs": [
    {
     "data": {
      "text/plain": [
       "15257"
      ]
     },
     "execution_count": 43,
     "metadata": {},
     "output_type": "execute_result"
    }
   ],
   "source": [
    "g.neighborhood_size(v_val, 3)"
   ]
  },
  {
   "cell_type": "code",
   "execution_count": 44,
   "id": "fd14c335-96aa-4080-92c5-cefd193cc6ac",
   "metadata": {},
   "outputs": [],
   "source": [
    "dists = np.asarray(g.distances(v_val, alrn_vals))\n",
    "dists = dists[dists!=np.inf]"
   ]
  },
  {
   "cell_type": "code",
   "execution_count": 47,
   "id": "5ed29bd0-93b9-42f2-9334-c9da52baa31a",
   "metadata": {},
   "outputs": [
    {
     "data": {
      "text/plain": [
       "(array([1179.,  587.,  229.,    6.]),\n",
       " array([1.  , 1.75, 2.5 , 3.25, 4.  ]),\n",
       " <BarContainer object of 4 artists>)"
      ]
     },
     "execution_count": 47,
     "metadata": {},
     "output_type": "execute_result"
    },
    {
     "data": {
      "image/png": "[encoded data removed]",
      "text/plain": [
       "<Figure size 432x288 with 1 Axes>"
      ]
     },
     "metadata": {
      "needs_background": "light"
     },
     "output_type": "display_data"
    }
   ],
   "source": [
    "plt.hist(dists, bins=4)"
   ]
  },
  {
   "cell_type": "code",
   "execution_count": 48,
   "id": "6b0666bf-6677-43cb-98c6-2202c19f490f",
   "metadata": {},
   "outputs": [
    {
     "data": {
      "text/plain": [
       "3562     720575940644961588\n",
       "6723     720575940629279544\n",
       "7803     720575940616020795\n",
       "10854    720575940635082871\n",
       "15050    720575940606649865\n",
       "45455    720575940627035388\n",
       "56830    720575940634325087\n",
       "57996    720575940639121571\n",
       "58142    720575940611372714\n",
       "Name: root_id, dtype: object"
      ]
     },
     "execution_count": 48,
     "metadata": {},
     "output_type": "execute_result"
    }
   ],
   "source": [
    "pn_names"
   ]
  },
  {
   "cell_type": "code",
   "execution_count": 49,
   "id": "87805af5-19c8-459d-988f-364a0b4d9bb1",
   "metadata": {},
   "outputs": [],
   "source": [
    "alrn_to_pn = []\n",
    "for pn in pn_names:\n",
    "    curr_paths = g.get_all_simple_paths(pn, alrn_vals, cutoff=3, mode='in')\n",
    "    alrn_to_pn += ([x[::-1] for x in curr_paths if pn not in x[1:]])\n"
   ]
  },
  {
   "cell_type": "code",
   "execution_count": 50,
   "id": "14e268e4-51ef-4e9d-8336-5e3f8f867ae8",
   "metadata": {},
   "outputs": [],
   "source": [
    "dists = [len(x) for x in alrn_to_pn]"
   ]
  },
  {
   "cell_type": "code",
   "execution_count": 51,
   "id": "b62112c2-3858-4650-b335-8f6dba7fe0c6",
   "metadata": {
    "tags": []
   },
   "outputs": [
    {
     "data": {
      "application/vnd.jupyter.widget-view+json": {
       "model_id": "2815d3d845fb41b8b69df5e43207ccd9",
       "version_major": 2,
       "version_minor": 0
      },
      "text/plain": [
       "  0%|          | 0/5786545 [00:00<?, ?it/s]"
      ]
     },
     "metadata": {},
     "output_type": "display_data"
    }
   ],
   "source": [
    "xd = dict({1:[], 2:[], 3:[], 4:[]})\n",
    "v_names_series = pd.Series(v_names)\n",
    "for d, v in tzip(dists, alrn_to_pn):\n",
    "    ratios = []\n",
    "    for n,i in enumerate(v[1:]):\n",
    "        #by_posts = syn_weights[syn_weights.post_pt_root_id == str(i)]\n",
    "        #by_pres = by_posts[by_posts.pre_pt_root_id==str(post_names[n])]\n",
    "        ratios.append(g.es()[g.get_eid(v[n], i, directed=True, error=True)]['weight'])\n",
    "    xd[d].append(np.prod(ratios))\n"
   ]
  },
  {
   "cell_type": "code",
   "execution_count": 52,
   "id": "71f8a5ed-a6a7-4038-a042-67d8366ebf4a",
   "metadata": {
    "tags": []
   },
   "outputs": [
    {
     "data": {
      "text/plain": [
       "[0, 592, 47751, 5738202]"
      ]
     },
     "execution_count": 52,
     "metadata": {},
     "output_type": "execute_result"
    }
   ],
   "source": [
    "[len(xd[i]) for i in [1,2,3,4]]"
   ]
  },
  {
   "cell_type": "code",
   "execution_count": 53,
   "id": "94b8d688-0b19-4100-a158-5f91b0834a75",
   "metadata": {},
   "outputs": [
    {
     "name": "stdout",
     "output_type": "stream",
     "text": [
      "592\n",
      "green\n",
      "47751\n",
      "blue\n",
      "5738202\n",
      "pink\n"
     ]
    },
    {
     "data": {
      "image/png": "[encoded data removed]",
      "text/plain": [
       "<Figure size 432x288 with 1 Axes>"
      ]
     },
     "metadata": {
      "needs_background": "light"
     },
     "output_type": "display_data"
    }
   ],
   "source": [
    "cols=['red', 'green', 'blue', 'pink']\n",
    "maxer = np.max([np.max(xd[x]) for x in [2,3,4]])\n",
    "for i in [2,3,4]:\n",
    "    print(len(xd[i]))\n",
    "    print(cols[i-1])\n",
    "    plt.hist(xd[i]/maxer, color=cols[i-1], label=str(i-1)+\" hops\", bins=20, density=True, log=True, alpha=.7)\n",
    "plt.legend()\n",
    "plt.show()"
   ]
  },
  {
   "cell_type": "code",
   "execution_count": 54,
   "id": "2e9c4164-572c-4bca-8aef-0c95d6e0dfdd",
   "metadata": {},
   "outputs": [
    {
     "data": {
      "image/png": "[encoded data removed]",
      "text/plain": [
       "<Figure size 432x288 with 1 Axes>"
      ]
     },
     "metadata": {
      "needs_background": "light"
     },
     "output_type": "display_data"
    }
   ],
   "source": [
    "# cols=['red', 'green', 'blue', 'pink']\n",
    "# maxer = np.max([np.max(xd[x]) for x in [2,3,4]])\n",
    "# for i in [2,3,4]:\n",
    "#     print(len(xd[i]))\n",
    "#     print(cols[i-1])\n",
    "#     plt.boxplot()\n",
    "# plt.legend()\n",
    "# plt.show()\n",
    "plt.boxplot([xd[2], xd[3], xd[4]], labels=[str(x-1)+\" hops\" for x in [2,3,4]])\n",
    "plt.show()"
   ]
  },
  {
   "cell_type": "code",
   "execution_count": 55,
   "id": "af769e3f-0aba-4f79-abd6-2464264ef1de",
   "metadata": {},
   "outputs": [],
   "source": [
    "alrn_by_pn = []\n",
    "for pn in pn_names:\n",
    "    curr_paths = g.get_all_simple_paths(pn, alrn_vals, cutoff=3, mode='in')\n",
    "    alrn_by_pn.append([x[::-1] for x in curr_paths if pn not in x[1:]])\n"
   ]
  },
  {
   "cell_type": "code",
   "execution_count": 56,
   "id": "24d0f763-c4af-4707-9cef-8fdcff179059",
   "metadata": {},
   "outputs": [
    {
     "name": "stderr",
     "output_type": "stream",
     "text": [
      "100%|█████████████████████████████████████████████████████████████████████████████████████████████████████████████████████████████████████████| 9/9 [01:10<00:00,  7.87s/it]\n"
     ]
    }
   ],
   "source": [
    "sums = []\n",
    "for alpn in tqdm(alrn_by_pn): #loop through the 9 row matrix\n",
    "    flunk = []\n",
    "    for p in alpn: #loop through each path within all path of the pns\n",
    "        ratios = []\n",
    "        for n,i in enumerate(p[1:]):\n",
    "            ratios.append(g.es()[g.get_eid(p[n], i, directed=True, error=True)]['weight'])\n",
    "        flunk.append(np.prod(ratios))\n",
    "    sums.append(sum(flunk))\n"
   ]
  },
  {
   "cell_type": "code",
   "execution_count": 57,
   "id": "e050d080-be53-4b3a-99c6-daadc4772558",
   "metadata": {},
   "outputs": [
    {
     "data": {
      "text/plain": [
       "[0.9123119769149979,\n",
       " 0.9126695858199431,\n",
       " 0.9417961100032325,\n",
       " 0.8758125278791459,\n",
       " 0.8659154771316941,\n",
       " 0.9472184271105334,\n",
       " 0.8853270808802153,\n",
       " 0.9207211930843343,\n",
       " 0.9268705104191401]"
      ]
     },
     "execution_count": 57,
     "metadata": {},
     "output_type": "execute_result"
    }
   ],
   "source": [
    "sums"
   ]
  },
  {
   "cell_type": "code",
   "execution_count": null,
   "id": "21980ff1-9000-461e-8587-255af0a8337e",
   "metadata": {},
   "outputs": [],
   "source": []
  }
 ],
 "metadata": {
  "kernelspec": {
   "display_name": "Python 3 (ipykernel)",
   "language": "python",
   "name": "python3"
  },
  "language_info": {
   "codemirror_mode": {
    "name": "ipython",
    "version": 3
   },
   "file_extension": ".py",
   "mimetype": "text/x-python",
   "name": "python",
   "nbconvert_exporter": "python",
   "pygments_lexer": "ipython3",
   "version": "3.10.6"
  },
  "widgets": {
   "application/vnd.jupyter.widget-state+json": {
    "state": {
     "2815d3d845fb41b8b69df5e43207ccd9": {
      "model_module": "@jupyter-widgets/controls",
      "model_module_version": "2.0.0",
      "model_name": "HBoxModel",
      "state": {
       "children": [
        "IPY_MODEL_eb33f1ef2c944fb38ce863453b7e2706",
        "IPY_MODEL_a04fa414b50345229d42ebfac593f4d9",
        "IPY_MODEL_4c05ddeedc924f5c8e81b7858eed4cb7"
       ],
       "layout": "IPY_MODEL_e735c9f1926d4aba8e2ee42beec52249"
      }
     },
     "4c05ddeedc924f5c8e81b7858eed4cb7": {
      "model_module": "@jupyter-widgets/controls",
      "model_module_version": "2.0.0",
      "model_name": "HTMLModel",
      "state": {
       "layout": "IPY_MODEL_8cc401641daa4cd49d72bc8eede8a716",
       "style": "IPY_MODEL_d3cce5be790d412599211da9a71c3ce2",
       "value": " 5786545/5786545 [01:16&lt;00:00, 75953.47it/s]"
      }
     },
     "68faca13cc104a09852792df74b2f7c4": {
      "model_module": "@jupyter-widgets/controls",
      "model_module_version": "2.0.0",
      "model_name": "HTMLStyleModel",
      "state": {
       "description_width": "",
       "font_size": null,
       "text_color": null
      }
     },
     "81a328b6deca4840b3c55f5ec9e00d84": {
      "model_module": "@jupyter-widgets/base",
      "model_module_version": "2.0.0",
      "model_name": "LayoutModel",
      "state": {}
     },
     "8cc401641daa4cd49d72bc8eede8a716": {
      "model_module": "@jupyter-widgets/base",
      "model_module_version": "2.0.0",
      "model_name": "LayoutModel",
      "state": {}
     },
     "9a2cf6fae30b44d2aba11b792257c1f8": {
      "model_module": "@jupyter-widgets/base",
      "model_module_version": "2.0.0",
      "model_name": "LayoutModel",
      "state": {}
     },
     "a04fa414b50345229d42ebfac593f4d9": {
      "model_module": "@jupyter-widgets/controls",
      "model_module_version": "2.0.0",
      "model_name": "FloatProgressModel",
      "state": {
       "bar_style": "success",
       "layout": "IPY_MODEL_9a2cf6fae30b44d2aba11b792257c1f8",
       "max": 5786545,
       "style": "IPY_MODEL_ee336d32918f455093fbba04214f1930",
       "value": 5786545
      }
     },
     "d3cce5be790d412599211da9a71c3ce2": {
      "model_module": "@jupyter-widgets/controls",
      "model_module_version": "2.0.0",
      "model_name": "HTMLStyleModel",
      "state": {
       "description_width": "",
       "font_size": null,
       "text_color": null
      }
     },
     "e735c9f1926d4aba8e2ee42beec52249": {
      "model_module": "@jupyter-widgets/base",
      "model_module_version": "2.0.0",
      "model_name": "LayoutModel",
      "state": {}
     },
     "eb33f1ef2c944fb38ce863453b7e2706": {
      "model_module": "@jupyter-widgets/controls",
      "model_module_version": "2.0.0",
      "model_name": "HTMLModel",
      "state": {
       "layout": "IPY_MODEL_81a328b6deca4840b3c55f5ec9e00d84",
       "style": "IPY_MODEL_68faca13cc104a09852792df74b2f7c4",
       "value": "100%"
      }
     },
     "ee336d32918f455093fbba04214f1930": {
      "model_module": "@jupyter-widgets/controls",
      "model_module_version": "2.0.0",
      "model_name": "ProgressStyleModel",
      "state": {
       "description_width": ""
      }
     }
    },
    "version_major": 2,
    "version_minor": 0
   }
  }
 },
 "nbformat": 4,
 "nbformat_minor": 5
}
