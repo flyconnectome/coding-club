{
 "cells": [
  {
   "cell_type": "code",
   "execution_count": 1,
   "metadata": {
    "collapsed": false
   },
   "outputs": [
    {
     "name": "stderr",
     "output_type": "stream",
     "text": [
      "INFO  : Global CATMAID instance set. (pymaid.pymaid)\n"
     ]
    },
    {
     "data": {
      "text/plain": [
       "<pymaid.pymaid.CatmaidInstance at 0x10b227f28>"
      ]
     },
     "execution_count": 1,
     "metadata": {},
     "output_type": "execute_result"
    }
   ],
   "source": [
    "#Set environment - fill in '/Users/[]/ with the name of your local environment. Have the dendro_new function in the environment you specify\n",
    "\n",
    "import sys\n",
    "sys.path.append('/Users/')\n",
    "\n",
    "#import the packages required. \n",
    "\n",
    "import pymaid\n",
    "import time\n",
    "import matplotlib.pyplot as plt\n",
    "import networkx as nx\n",
    "import numpy as np\n",
    "import pandas as ps\n",
    "import dendro_new\n",
    "\n",
    "\n",
    "#fill in these to access catmaid via pymaid\n",
    "server = \n",
    "http_user = \n",
    "http_pw = \n",
    "token = \n",
    "\n",
    "\n",
    "#connect to catmaid\n",
    "\n",
    "def connect_adult_em():\n",
    "    return pymaid.CatmaidInstance( server, http_user, http_pw, token)\n",
    "\n",
    "connect_adult_em()\n"
   ]
  },
  {
   "cell_type": "code",
   "execution_count": 2,
   "metadata": {
    "collapsed": false
   },
   "outputs": [
    {
     "name": "stderr",
     "output_type": "stream",
     "text": [
      "Fetching neurons:   0%|          | 0/1 [00:00<?, ?it/s]Exception in thread Thread-4:\n",
      "Traceback (most recent call last):\n",
      "  File \"/Users/markuswilliampleijzier/anaconda/lib/python3.6/threading.py\", line 916, in _bootstrap_inner\n",
      "    self.run()\n",
      "  File \"/Users/markuswilliampleijzier/anaconda/lib/python3.6/site-packages/pymaid/pymaid.py\", line 528, in run\n",
      "    self.data = self.remote_instance.fetch(self.url)\n",
      "  File \"/Users/markuswilliampleijzier/anaconda/lib/python3.6/site-packages/pymaid/pymaid.py\", line 204, in fetch\n",
      "    return json.loads(response.read().decode(\"utf-8\"))\n",
      "  File \"/Users/markuswilliampleijzier/anaconda/lib/python3.6/json/__init__.py\", line 354, in loads\n",
      "    return _default_decoder.decode(s)\n",
      "  File \"/Users/markuswilliampleijzier/anaconda/lib/python3.6/json/decoder.py\", line 339, in decode\n",
      "    obj, end = self.raw_decode(s, idx=_w(s, 0).end())\n",
      "  File \"/Users/markuswilliampleijzier/anaconda/lib/python3.6/json/decoder.py\", line 357, in raw_decode\n",
      "    raise JSONDecodeError(\"Expecting value\", s, err.value) from None\n",
      "json.decoder.JSONDecodeError: Expecting value: line 1 column 1 (char 0)\n",
      "\n",
      "Fetching neurons:   0%|          | 0/1 [00:01<?, ?it/s]ERROR : Failed to join thread for https://neuropil.janelia.org/tracing/fafb/v13//1/skeletons/2109445/compact-detail?with_history=false&with_tags=true&with_connectors=true&with_merge_history=false (pymaid.pymaid)\n",
      "\n"
     ]
    },
    {
     "ename": "KeyboardInterrupt",
     "evalue": "",
     "output_type": "error",
     "traceback": [
      "\u001b[0;31m---------------------------------------------------------------------------\u001b[0m",
      "\u001b[0;31mKeyboardInterrupt\u001b[0m                         Traceback (most recent call last)",
      "\u001b[0;32m<ipython-input-2-eef55e6cfdf8>\u001b[0m in \u001b[0;36m<module>\u001b[0;34m()\u001b[0m\n\u001b[1;32m     21\u001b[0m \u001b[0mx\u001b[0m \u001b[0;34m=\u001b[0m \u001b[0;36m0\u001b[0m\u001b[0;34m\u001b[0m\u001b[0m\n\u001b[1;32m     22\u001b[0m \u001b[0;32mif\u001b[0m \u001b[0mx\u001b[0m \u001b[0;34m!=\u001b[0m \u001b[0;36m1\u001b[0m\u001b[0;34m:\u001b[0m\u001b[0;34m\u001b[0m\u001b[0m\n\u001b[0;32m---> 23\u001b[0;31m     \u001b[0mM6Rmain\u001b[0m \u001b[0;34m=\u001b[0m \u001b[0mpymaid\u001b[0m\u001b[0;34m.\u001b[0m\u001b[0mget_neuron\u001b[0m\u001b[0;34m(\u001b[0m\u001b[0mM6R\u001b[0m\u001b[0;34m)\u001b[0m\u001b[0;34m\u001b[0m\u001b[0m\n\u001b[0m\u001b[1;32m     24\u001b[0m     \u001b[0mfrag1\u001b[0m \u001b[0;34m=\u001b[0m \u001b[0mpymaid\u001b[0m\u001b[0;34m.\u001b[0m\u001b[0mget_neuron\u001b[0m\u001b[0;34m(\u001b[0m\u001b[0mfg1\u001b[0m\u001b[0;34m)\u001b[0m\u001b[0;34m\u001b[0m\u001b[0m\n\u001b[1;32m     25\u001b[0m     \u001b[0mfrag2\u001b[0m \u001b[0;34m=\u001b[0m \u001b[0mpymaid\u001b[0m\u001b[0;34m.\u001b[0m\u001b[0mget_neuron\u001b[0m\u001b[0;34m(\u001b[0m\u001b[0mfg2\u001b[0m\u001b[0;34m)\u001b[0m\u001b[0;34m\u001b[0m\u001b[0m\n",
      "\u001b[0;32m/Users/markuswilliampleijzier/anaconda/lib/python3.6/site-packages/pymaid/pymaid.py\u001b[0m in \u001b[0;36mget_neuron\u001b[0;34m(x, remote_instance, connector_flag, tag_flag, get_history, get_merge_history, get_abutting, return_df, kwargs)\u001b[0m\n\u001b[1;32m    685\u001b[0m         \u001b[0murls\u001b[0m\u001b[0;34m.\u001b[0m\u001b[0mappend\u001b[0m\u001b[0;34m(\u001b[0m\u001b[0mremote_compact_skeleton_url\u001b[0m\u001b[0;34m)\u001b[0m\u001b[0;34m\u001b[0m\u001b[0m\n\u001b[1;32m    686\u001b[0m \u001b[0;34m\u001b[0m\u001b[0m\n\u001b[0;32m--> 687\u001b[0;31m     \u001b[0mskdata\u001b[0m \u001b[0;34m=\u001b[0m \u001b[0m_get_urls_threaded\u001b[0m\u001b[0;34m(\u001b[0m\u001b[0murls\u001b[0m\u001b[0;34m,\u001b[0m \u001b[0mremote_instance\u001b[0m\u001b[0;34m,\u001b[0m \u001b[0mdesc\u001b[0m\u001b[0;34m=\u001b[0m\u001b[0;34m'neurons'\u001b[0m\u001b[0;34m)\u001b[0m\u001b[0;34m\u001b[0m\u001b[0m\n\u001b[0m\u001b[1;32m    688\u001b[0m \u001b[0;34m\u001b[0m\u001b[0m\n\u001b[1;32m    689\u001b[0m     \u001b[0;31m# Retrieve abutting\u001b[0m\u001b[0;34m\u001b[0m\u001b[0;34m\u001b[0m\u001b[0m\n",
      "\u001b[0;32m/Users/markuswilliampleijzier/anaconda/lib/python3.6/site-packages/pymaid/pymaid.py\u001b[0m in \u001b[0;36m_get_urls_threaded\u001b[0;34m(urls, remote_instance, post_data, desc, split)\u001b[0m\n\u001b[1;32m    480\u001b[0m                     \u001b[0mdata\u001b[0m\u001b[0;34m[\u001b[0m\u001b[0mint\u001b[0m\u001b[0;34m(\u001b[0m\u001b[0mt\u001b[0m\u001b[0;34m)\u001b[0m\u001b[0;34m]\u001b[0m \u001b[0;34m=\u001b[0m \u001b[0mthreads\u001b[0m\u001b[0;34m[\u001b[0m\u001b[0mt\u001b[0m\u001b[0;34m]\u001b[0m\u001b[0;34m.\u001b[0m\u001b[0mjoin\u001b[0m\u001b[0;34m(\u001b[0m\u001b[0;34m)\u001b[0m\u001b[0;34m\u001b[0m\u001b[0m\n\u001b[1;32m    481\u001b[0m                     \u001b[0mthreads_closed\u001b[0m\u001b[0;34m.\u001b[0m\u001b[0mappend\u001b[0m\u001b[0;34m(\u001b[0m\u001b[0mt\u001b[0m\u001b[0;34m)\u001b[0m\u001b[0;34m\u001b[0m\u001b[0m\n\u001b[0;32m--> 482\u001b[0;31m             \u001b[0mtime\u001b[0m\u001b[0;34m.\u001b[0m\u001b[0msleep\u001b[0m\u001b[0;34m(\u001b[0m\u001b[0;36m1\u001b[0m\u001b[0;34m)\u001b[0m\u001b[0;34m\u001b[0m\u001b[0m\n\u001b[0m\u001b[1;32m    483\u001b[0m             \u001b[0mcur_time\u001b[0m \u001b[0;34m=\u001b[0m \u001b[0mtime\u001b[0m\u001b[0;34m.\u001b[0m\u001b[0mtime\u001b[0m\u001b[0;34m(\u001b[0m\u001b[0;34m)\u001b[0m\u001b[0;34m\u001b[0m\u001b[0m\n\u001b[1;32m    484\u001b[0m             \u001b[0mpbar\u001b[0m\u001b[0;34m.\u001b[0m\u001b[0mupdate\u001b[0m\u001b[0;34m(\u001b[0m\u001b[0mlen\u001b[0m\u001b[0;34m(\u001b[0m\u001b[0mthreads_closed\u001b[0m\u001b[0;34m)\u001b[0m\u001b[0;34m)\u001b[0m\u001b[0;34m\u001b[0m\u001b[0m\n",
      "\u001b[0;31mKeyboardInterrupt\u001b[0m: "
     ]
    }
   ],
   "source": [
    "#neuron skids\n",
    "MVP2R = 2333007\n",
    "MVP2L = 2120177\n",
    "M4 = 4291899\n",
    "M6L = 2699293\n",
    "\n",
    "\n",
    "M6R = 2109445\n",
    "fg1 = 2673522\n",
    "fg2 = 2727925\n",
    "fg3 = 2727949\n",
    "fg4 = 2847972\n",
    "fg5 = 3496489\n",
    "fg6 = 3496570\n",
    "fg7 = 3496600\n",
    "fg8 = 3759776\n",
    "fg9 = 4908875\n",
    "fg10 = 5221021\n",
    "fg11 = 5221355\n",
    "\n",
    "#Concatenate the M6R neuron - Janelia still using them - not necessary for plotting other neurons. \n",
    "x = 0\n",
    "if x != 1: \n",
    "    M6Rmain = pymaid.get_neuron(M6R)\n",
    "    frag1 = pymaid.get_neuron(fg1)\n",
    "    frag2 = pymaid.get_neuron(fg2)\n",
    "    frag3 = pymaid.get_neuron(fg3)\n",
    "    frag4 = pymaid.get_neuron(fg4)\n",
    "    frag5 = pymaid.get_neuron(fg5)\n",
    "    frag6 = pymaid.get_neuron(fg6)\n",
    "    frag7 = pymaid.get_neuron(fg7)\n",
    "    frag8 = pymaid.get_neuron(fg8)\n",
    "    frag9 = pymaid.get_neuron(fg9)\n",
    "    frag10 = pymaid.get_neuron(fg10)\n",
    "    frag11 = pymaid.get_neuron(fg11)\n",
    "    x+1\n",
    "    \n",
    "M6concat = pymaid.stitch_neurons(M6Rmain, frag1, frag2, frag3, \n",
    "                                 frag4, frag5, frag6, frag7, \n",
    "                                 frag8, frag9, frag10, frag11)\n"
   ]
  },
  {
   "cell_type": "code",
   "execution_count": null,
   "metadata": {
    "collapsed": true
   },
   "outputs": [],
   "source": [
    "#M4 with MVP2R and MVP2L inputs\n",
    "\n",
    "#Access the M4 neuron via pymaid and downsample. Downsampling is to be used for large neuron, to reduce the processing\n",
    "#time for the neuron. Connector treenodes are preserved here --> check the pymaid documentation for more info\n",
    "\n",
    "M4_neuron = pymaid.get_neuron(M4)\n",
    "M4_neuron.downsample(1000000, preserve_cn_treenodes = True)\n",
    "\n",
    "#Find the MVP2R_to_M4_connectors: direcational means a --> b. If False then it is a<-->b\n",
    "\n",
    "MVP2R_to_M4 = pymaid.get_connectors_between(MVP2R, M4, directional = True)\n",
    "\n",
    "#Subset the connector_ids\n",
    "\n",
    "MVP2R_to_M4_conn_id = MVP2R_to_M4['connector_id']\n",
    "\n",
    "#Convert to a list\n",
    "\n",
    "Connlist_1 = ps.Series.tolist(MVP2R_to_M4_conn_id)\n",
    "\n",
    "#MVP2L to M4 connectors\n",
    "\n",
    "MVP2L_to_M4 = pymaid.get_connectors_between(MVP2L, M4, directional = True)\n",
    "\n",
    "MVP2L_to_M4_conn_id = MVP2L_to_M4['connector_id']\n",
    "\n",
    "Connlist_2 = ps.Series.tolist(MVP2L_to_M4_conn_id)\n",
    "\n",
    "#Add the two lists from both MVP2 neurons\n",
    "\n",
    "Both_MVP2_to_M4_conn_id = Connlist_1 + Connlist_2\n"
   ]
  },
  {
   "cell_type": "code",
   "execution_count": null,
   "metadata": {
    "collapsed": true
   },
   "outputs": [],
   "source": [
    "#M6R with both MVP2R and MVP2L inputs\n",
    "\n",
    "M6R_neuron = pymaid.get_neuron(M6concat)\n",
    "M6R_neuron.downsample(1000000, preserve_cn_treenodes = True)\n",
    "\n",
    "#MVP2R_to_M6R \n",
    "\n",
    "MVP2R_to_M6R = pymaid.get_connectors_between(MVP2R, M6R, directional = True)\n",
    "\n",
    "MVP2R_to_M6R_conn_id = MVP2R_to_M6R['connector_id']\n",
    "\n",
    "Connlist_3 = ps.Series.tolist(MVP2R_to_M6R_conn_id)\n",
    "\n",
    "#MVP2L_to_M6R \n",
    "\n",
    "MVP2L_to_M6R = pymaid.get_connectors_between(MVP2L, M6R, directional = True)\n",
    "\n",
    "MVP2L_to_M6R_conn_id = MVP2L_to_M6R['connector_id']\n",
    "\n",
    "Connlist_4 = ps.Series.tolist(MVP2L_to_M6R_conn_id)\n",
    "\n",
    "Both_MVP2_to_M6R_conn_id = Connlist_3 + Connlist_4\n",
    "\n"
   ]
  },
  {
   "cell_type": "code",
   "execution_count": null,
   "metadata": {
    "collapsed": true
   },
   "outputs": [],
   "source": [
    "#Plot M4 neuron\n",
    "\n",
    "#First call the dendro_new file and specify the plot_nx function. Plot connectors is to plot the inputs and outputs - see other file\n",
    "#Highlight connectors takes a list created above of the connector ids and plots them onto the neuron. Prog is the plotting\n",
    "#program used - dot is the clearest, with no overlaps\n",
    "#neato plots like a spring - one after the other and has lots of overlaps, although nicer representation \n",
    "#These are mathematical graphs - not graphs with axes. \n",
    "\n",
    "dendro_new.plot_nx(M4_neuron, plot_connectors = True, highlight_connectors = Both_MVP2_to_M4_conn_id, prog = 'dot')\n",
    "plt.show()\n",
    "plt.savefig('M4_with_MVP2_inputs_no_ds.svg')\n",
    "\n"
   ]
  },
  {
   "cell_type": "code",
   "execution_count": null,
   "metadata": {
    "collapsed": true
   },
   "outputs": [],
   "source": [
    "#Plot M6 neuron\n",
    "\n",
    "dendro_new.plot_nx(M6R_neuron, plot_connectors = True, highlight_connectors = Both_MVP2_to_M6R_conn_id, prog = 'dot')\n",
    "#plt.show()\n",
    "plt.savefig('M6R_with_MVP2_intputs_16_10_2017.svg')\n",
    "\n",
    "\n",
    "\n"
   ]
  },
  {
   "cell_type": "code",
   "execution_count": null,
   "metadata": {
    "collapsed": true
   },
   "outputs": [],
   "source": [
    "#New M6 with axons\n",
    "M6concat.downsample(1000000, preserve_cn_treenodes = True)\n",
    "dendro_new.plot_nx(M6concat, plot_connectors = True, highlight_connectors = Both_MVP2_to_M6R_conn_id, prog = 'dot')\n",
    "plt.savefig('M6R_with_MVP2_intputs_16_10_2017.svg')\n",
    "\n",
    "\n"
   ]
  },
  {
   "cell_type": "code",
   "execution_count": null,
   "metadata": {
    "collapsed": true
   },
   "outputs": [],
   "source": [
    "#M6L with MVP2 inputs \n",
    "\n",
    "M6L_neuron = pymaid.get_neuron(M6L)\n",
    "M6L_neuron.downsample(1000000, preserve_cn_treenodes = True)\n",
    "\n",
    "#MVP2R to M6L \n",
    " \n",
    "\n",
    "MVP2R_to_M6L = pymaid.get_connectors_between(MVP2R, M6L, directional = True)\n",
    "\n",
    "MVP2R_to_M6L_conn_id = MVP2R_to_M6L['connector_id']\n",
    "\n",
    "Connlist_5 = ps.Series.tolist(MVP2R_to_M6L_conn_id)\n",
    "\n",
    "#MVP2L_to_M6L \n",
    "\n",
    "MVP2L_to_M6L = pymaid.get_connectors_between(MVP2L, M6L, directional = True)\n",
    "\n",
    "MVP2L_to_M6L_conn_id = MVP2L_to_M6L['connector_id']\n",
    "\n",
    "Connlist_6 = ps.Series.tolist(MVP2L_to_M6L_conn_id)\n",
    "\n",
    "Both_MVP2_to_M6L_conn_id = Connlist_5 + Connlist_6\n",
    "\n",
    "\n",
    "dendro_new.plot_nx(M6L_neuron, plot_connectors = True, highlight_connectors = Both_MVP2_to_M6L_conn_id)\n",
    "plt.savefig('M6L_with_MVP2_inputs.svg')\n"
   ]
  },
  {
   "cell_type": "code",
   "execution_count": null,
   "metadata": {
    "collapsed": true
   },
   "outputs": [],
   "source": [
    "M6R_neuron = pymaid.get_neuron(M6R)\n",
    "M6R_neuron.downsample(1000000, preserve_cn_treenodes = True)"
   ]
  },
  {
   "cell_type": "code",
   "execution_count": null,
   "metadata": {
    "collapsed": true
   },
   "outputs": [],
   "source": [
    "dendro_new.plot_nx(M6R_neuron, plot_connectors = True, highlight_connectors = None, prog = 'neato')\n",
    "plt.show()"
   ]
  },
  {
   "cell_type": "code",
   "execution_count": null,
   "metadata": {
    "collapsed": true
   },
   "outputs": [],
   "source": [
    "dendro_new.plot_nx(M6concat, plot_connectors = True, highlight_connectors = Both_MVP2_to_M6R_conn_id, prog = 'neato')\n",
    "plt.savefig('M6R_with_MVP2_inputs_neato.svg')\n",
    "\n"
   ]
  }
 ],
 "metadata": {
  "kernelspec": {
   "display_name": "Python 3",
   "language": "python",
   "name": "python3"
  },
  "language_info": {
   "codemirror_mode": {
    "name": "ipython",
    "version": 3
   },
   "file_extension": ".py",
   "mimetype": "text/x-python",
   "name": "python",
   "nbconvert_exporter": "python",
   "pygments_lexer": "ipython3",
   "version": "3.6.0"
  }
 },
 "nbformat": 4,
 "nbformat_minor": 2
}
