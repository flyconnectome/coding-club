{
 "cells": [
  {
   "cell_type": "markdown",
   "id": "c93ee242-64f0-43e3-b3d3-cd0e4e02062c",
   "metadata": {},
   "source": [
    "## Oct. Coding Club: Is local connectivity specific or random?\n",
    "If we presume that local connections are random, and simply occur due to two neurons being in close proximity, then it follows that the more arbours there are of one neuron within radius r of a target neuron, then the more likely this neuron makes connections with the target neuron. If there is non-random connectivity, however, there is unlikely to be a correlation between arbour counts within r and number of connections between the two neurons. The goal for this coding club is to test these two hypotheses.\n"
   ]
  },
  {
   "cell_type": "code",
   "execution_count": 2,
   "id": "19b807f2-bb1c-45e7-8194-2b42c51df3f2",
   "metadata": {},
   "outputs": [],
   "source": [
    "import math\n",
    "\n",
    "import numpy as np\n",
    "import pandas as pd\n",
    "\n",
    "import matplotlib.pyplot as plt\n",
    "from tqdm import tqdm \n",
    "import scipy\n",
    "\n",
    "from fafbseg import flywire"
   ]
  },
  {
   "cell_type": "markdown",
   "id": "74f4746a-16f7-46ba-8740-ffb0b98fc7d1",
   "metadata": {},
   "source": [
    "## 1. Make a function that takes an x,y,z location (p) in FlyWire and a radius length r (in either voxels or nms), and n (number of points sampled per side).\n",
    "This function should return a list of voxel locations evenly distributed within a sphere around point p with radius r. Feel free to mess around with how dense the distribution of voxel locations is."
   ]
  },
  {
   "cell_type": "markdown",
   "id": "60695f95-8a47-4bfa-913e-dcab9de175df",
   "metadata": {},
   "source": [
    "### One possible way to do this:\n",
    "- Create a cube with size 2r that is centered at p.\n",
    "- For the cube with side length l, get n points per side (with l/n distance between each point) (n can/will vary significantly depending on how large r is). This will get you 3 lists (x_list, y_list, z_list) of equal size.\n",
    "- To evenly sample across the cube then, get all possible combinations of points made of one element from each list (x_list[i], y_list[j], z_list[k]). This will give you a list of locations (p_list).\n",
    "- Remove all locations in p_list where the euclidean distance to p > r.\n",
    "There are other ways to do this though."
   ]
  },
  {
   "cell_type": "code",
   "execution_count": 3,
   "id": "d37b5f9e-59a0-449c-a6a8-1755fb8eb182",
   "metadata": {},
   "outputs": [],
   "source": [
    "### euclid_helper((3,1)array:loc, (3,1)array:p)\n",
    "### just a quick euclidean distance function so I can map nicely\n",
    "### returns distance from p to loc\n",
    "def euclid_helper(loc, p):\n",
    "    [x,y,z] = p\n",
    "    return math.sqrt((loc[0]-x)**2+(loc[1]-y)**2+(10*(loc[2]-z))**2)"
   ]
  },
  {
   "cell_type": "code",
   "execution_count": 4,
   "id": "6f186f06-e437-4aed-967e-8279349ae08f",
   "metadata": {},
   "outputs": [],
   "source": [
    "### in_sphere((3,1)array:loc, list of (3,)arrays: locs, int: r)\n",
    "### looks at all the x,y,z points in locs and determines which \n",
    "### are inside of the sphere around loc w/ radius r\n",
    "### returns list of Binary which functions as a mask on locs\n",
    "\n",
    "def in_sphere(loc, locs, r):\n",
    "    print(\"Sphere check starting!\")\n",
    "    [x,y,z] = loc\n",
    "    in_sphere = []\n",
    "#    for loc in tqdm(locs):\n",
    "#        curr_dist = math.sqrt((loc[0]-x)**2+(loc[1]-y)**2+(10*(loc[2]-z))**2)\n",
    "#        in_sphere.append(curr_dist<r)\n",
    "    curr_dist = np.asarray(list(map(euclid_helper, locs, [loc]*len(locs))))\n",
    "    in_sphere = curr_dist<r\n",
    "    print(\"Sphere check done!\")\n",
    "    return in_sphere"
   ]
  },
  {
   "cell_type": "code",
   "execution_count": 5,
   "id": "16f3abba-848f-4a73-a217-6bfb95a4983a",
   "metadata": {},
   "outputs": [],
   "source": [
    "### sampler((3,1)array:loc, int r, int n)\n",
    "### evenly samples inside a sphere around loc w/ radius r\n",
    "### and n/2 points sampled along each radius (in an ideal world)\n",
    "### returns list of (3,1)arrays that are the sampling points in the sphere\n",
    "\n",
    "def sampler(loc, r, n):\n",
    "    [x,y,z] = loc\n",
    "    cube_locs = []\n",
    "    cube_dists = []\n",
    "    # first we make a cube that is centered at loc\n",
    "    # and has side length 2r and has sample locations\n",
    "    # at each 2r/n point\n",
    "    for xi in tqdm(np.linspace(x-r, x+r, n)):\n",
    "        for yi in np.linspace(y-r, y+r, n):\n",
    "            for zi in np.linspace(z-(r/10), z+(r/10), n):\n",
    "                #print(zi)\n",
    "                cube_locs.append([xi, yi, zi])\n",
    "    cube_locs = np.asarray(cube_locs)\n",
    "    print('Sampling Done!')\n",
    "    return cube_locs[in_sphere([x,y,z], cube_locs, r)]"
   ]
  },
  {
   "cell_type": "code",
   "execution_count": 6,
   "id": "8087659c-b8bf-4d46-8b1b-e24ba5a15aec",
   "metadata": {},
   "outputs": [
    {
     "name": "stderr",
     "output_type": "stream",
     "text": [
      "100%|██████████████████████████████████████████████████████████████████████████████████████████| 25/25 [00:00<00:00, 1479.83it/s]"
     ]
    },
    {
     "name": "stdout",
     "output_type": "stream",
     "text": [
      "Sampling Done!\n",
      "Sphere check starting!\n",
      "Sphere check done!\n"
     ]
    },
    {
     "name": "stderr",
     "output_type": "stream",
     "text": [
      "\n"
     ]
    }
   ],
   "source": [
    "sample_locs = sampler([112367, 56132, 3613], 5000, 25)"
   ]
  },
  {
   "cell_type": "code",
   "execution_count": 7,
   "id": "da10217b-25b3-4527-909f-2e1bcdabbd60",
   "metadata": {},
   "outputs": [
    {
     "data": {
      "text/plain": [
       "'https://ngl.flywire.ai/?json_url=https://globalv1.flywire-daf.com/nglstate/6409700690100224'"
      ]
     },
     "execution_count": 7,
     "metadata": {},
     "output_type": "execute_result"
    }
   ],
   "source": [
    "flywire.encode_url(720575940621039145, coords=[112367, 56132, 3613], annotations = sample_locs)"
   ]
  },
  {
   "cell_type": "markdown",
   "id": "2e7323a0-a861-4484-8d87-9fc99f7269da",
   "metadata": {},
   "source": [
    "## 2. Choose a neuron, and set p as a point in the axon of the neuron. Run the function you described above with different r values until you get a somewhat normal looking distribution of counts of root Ids.\n",
    "Fetch the root IDs at each of the locations within the sphere. This should be a general quantification of amount of arbour near the target location. You will want to make sure you know how many times each root ID appears within the set of points you constructed earlier.\n",
    "Optional: feel free to restrict this to juse proofread neurons, or if that is messy then just neurons that are above a certain size. Try a few things until you get a good understanding.\n"
   ]
  },
  {
   "cell_type": "code",
   "execution_count": 8,
   "id": "b9c7afc3-cd60-4d5f-856f-39c56eb91909",
   "metadata": {},
   "outputs": [],
   "source": [
    "### id_counter((3,) list of arrays:locs)\n",
    "### literally just returns np.unique(x, return_counts=True) where x is the \n",
    "### body ids assocated with some locations you pass\n",
    "def id_counter(locs):\n",
    "    ids = []\n",
    "    if len(locs)>100000:\n",
    "        i = 0\n",
    "        run=1\n",
    "        print(\"More than 1000000 locs given, will need \"+str(len(locs)/1000000)+\" id grabs w/ size 1000000 each\")\n",
    "        while len(locs)-i>1000000:\n",
    "            print(\"Run \"+str(run))\n",
    "            ids = ids + list(flywire.locs_to_segments(locs[i:i+1000000]))\n",
    "            i+=1000000\n",
    "            run+=1\n",
    "        ids = np.asarray(ids+list(flywire.locs_to_segments(locs[i:])))\n",
    "    else:\n",
    "        ids = flywire.locs_to_segments(locs)\n",
    "    return np.unique(ids, return_counts=True)"
   ]
  },
  {
   "cell_type": "code",
   "execution_count": 9,
   "id": "129e1149-bae0-445f-8777-d70b86e176ee",
   "metadata": {},
   "outputs": [
    {
     "name": "stderr",
     "output_type": "stream",
     "text": [
      "100%|██████████████████████████████████████████████████████████████████████████████████████████| 150/150 [00:02<00:00, 61.43it/s]\n"
     ]
    },
    {
     "name": "stdout",
     "output_type": "stream",
     "text": [
      "Sampling Done!\n",
      "Sphere check starting!\n",
      "Sphere check done!\n",
      "More than 1000000 locs given, will need 1.731608 id grabs w/ size 1000000 each\n",
      "Run 1\n"
     ]
    },
    {
     "name": "stderr",
     "output_type": "stream",
     "text": [
      "                                                                                                                                 \r"
     ]
    }
   ],
   "source": [
    "counts = id_counter(sampler([112367, 56132, 3613], 5000, 150))"
   ]
  },
  {
   "cell_type": "code",
   "execution_count": 10,
   "id": "acfbd0d2-7bda-4158-b59b-6fa59018d523",
   "metadata": {},
   "outputs": [
    {
     "data": {
      "image/png": "[encoded data removed]",
      "text/plain": [
       "<Figure size 432x288 with 1 Axes>"
      ]
     },
     "metadata": {
      "needs_background": "light"
     },
     "output_type": "display_data"
    }
   ],
   "source": [
    "plt.hist(counts[1][counts[1]<30],bins=30)\n",
    "plt.show()"
   ]
  },
  {
   "cell_type": "markdown",
   "id": "95125c1c-8a0d-479c-a583-f0f3ca5c0948",
   "metadata": {},
   "source": [
    "## 3. Fetch the synapses from the target neuron (the neuron that is located at p). Of the synapses that are within the sphere around p, fetch the root IDs of the downstream (or upstream if you’re looking at a dendrite area) neurons.\n",
    "Plot arbour amounts vs. synapse number. Plot the line of best fit and the R-squared value for this correlation (if it’s non-linear see if you can fit a function to it).\n",
    "Does the correlation or the R-squared vary as you vary radius r? Test a few locations in FlyWire to see if different neuropils have different values."
   ]
  },
  {
   "cell_type": "code",
   "execution_count": 11,
   "id": "cd7cb4df-6089-492e-9d42-378443bcaaf8",
   "metadata": {},
   "outputs": [],
   "source": [
    "### synapse_fetcher((3,1)array: loc, int: r)\n",
    "### simply grabs all the synapses of the neuron at loc in a sphere\n",
    "### returns the np.unique(x, return_counts=True) where x is the ids \n",
    "### of synapses that are inside of a sphere centered at loc w/ radius r\n",
    "def synapse_fetcher(loc, r):\n",
    "    loc_id = flywire.locs_to_segments([loc])\n",
    "    syns = flywire.synapses.fetch_synapses(loc_id)\n",
    "    locs = np.asarray([np.asarray(syns.pre_x)/4, np.asarray(syns.pre_y)/4, np.asarray(syns.pre_z)/40]).T\n",
    "    mask = in_sphere(loc, locs, r)\n",
    "    return np.unique(list(syns[mask].pre)+list(syns[mask].post), return_counts=True)"
   ]
  },
  {
   "cell_type": "code",
   "execution_count": 12,
   "id": "a9897781-f0ba-426b-a13f-f9cf9e235a85",
   "metadata": {},
   "outputs": [],
   "source": [
    "#synapses = synapse_fetcher([112367, 56132, 3613], 5000)"
   ]
  },
  {
   "cell_type": "code",
   "execution_count": 13,
   "id": "a7fb31f2-9c40-47b4-9875-90182ab68efa",
   "metadata": {},
   "outputs": [],
   "source": [
    "# syn_table = pd.DataFrame(index=synapses[0], columns=['syn_count'])\n",
    "# syn_table.syn_count = synapses[1]\n",
    "# sample_table = pd.DataFrame(index=counts[0], columns=['sample_count'])\n",
    "# sample_table.sample_count = counts[1]\n",
    "\n",
    "# out_table = syn_table.merge(sample_table, left_index=True, right_index=True)\n",
    "# out_table.fillna(0, inplace=True)\n",
    "# out_table.sort_values(by='sample_count', inplace=True)\n",
    "# plot_table = out_table.drop(flywire.locs_to_segments([[112367, 56132, 3613]]))"
   ]
  },
  {
   "cell_type": "code",
   "execution_count": 14,
   "id": "802ebbef-00ce-48ae-b45d-749c6acce4f9",
   "metadata": {},
   "outputs": [],
   "source": [
    "# plotter = plot_table.plot(kind='scatter', x='sample_count', y='syn_count', xlabel='Occurences in Sphere', ylabel='# of Synapses with Target')\n",
    "# #plotter.set_xscale('log')\n",
    "# plotter.set_title('Occurences of ID in Sampled Sphere vs. Synapses Made with Target')\n",
    "# slope, intercept, r_value, p_value, _ = scipy.stats.linregress(plot_table.sample_count, plot_table.syn_count)\n",
    "# plt.plot(plot_table.sample_count, a*plot_table.sample_count+b)\n",
    "# plt.text(1, 17, 'y = ' + '{:.6f}'.format(intercept) + ' + {:.6f}'.format(slope) + 'x', size=14)\n",
    "# plt.text(1, 15, 'r2 = '+ '{:.6f}'.format(r_value), size=14)\n",
    "# plt.text(1, 13, 'p = '+ '{:.6f}'.format(p_value), size=14)\n",
    "# plt.show()"
   ]
  },
  {
   "cell_type": "code",
   "execution_count": 17,
   "id": "530a1962-db76-4b7a-a81e-885d90f1eef3",
   "metadata": {},
   "outputs": [],
   "source": [
    "def runner(loc, r, n, ret_table=False):\n",
    "    sampled_locs = sampler(loc, r, n)\n",
    "    counts = id_counter(sampled_locs)\n",
    "    syns = synapse_fetcher(loc, r)\n",
    "    \n",
    "    syn_table = pd.DataFrame(index=syns[0], columns=['syn_count'])\n",
    "    syn_table.syn_count = syns[1]\n",
    "    \n",
    "    sample_table = pd.DataFrame(index=counts[0], columns=['sample_count'])\n",
    "    sample_table.sample_count = counts[1]\n",
    "\n",
    "    out_table = syn_table.merge(sample_table, left_index=True, right_index=True)\n",
    "    out_table.fillna(0, inplace=True)\n",
    "    \n",
    "    plot_table = out_table.drop(flywire.locs_to_segments([loc]))\n",
    "    if ret_table:\n",
    "        return plot_table\n",
    "    \n",
    "    plotter = plot_table.plot(kind='scatter', x='sample_count', y='syn_count', xlabel='Occurences in Sphere', ylabel='# of Synapses with Target')\n",
    "    #plotter.set_xscale('log')\n",
    "    plotter.set_title('Occurences of ID in Sampled Sphere vs. Synapses Made with Target')\n",
    "    slope, intercept, r_value, p_value, _ = scipy.stats.linregress(plot_table.sample_count, plot_table.syn_count)\n",
    "    plt.plot(plot_table.sample_count, slope*plot_table.sample_count+intercept)\n",
    "    plt.text(1, 17, 'y = ' + '{:.6f}'.format(intercept) + ' + {:.6f}'.format(slope) + 'x', size=14)\n",
    "    plt.text(1, 15, 'r2 = '+ '{:.6f}'.format(r_value), size=14)\n",
    "    plt.text(1, 13, 'p = '+ '{:.6f}'.format(p_value), size=14)\n",
    "    plt.show()"
   ]
  },
  {
   "cell_type": "code",
   "execution_count": null,
   "id": "3106d865-07ba-4b18-84fb-d7465f68fe80",
   "metadata": {},
   "outputs": [
    {
     "name": "stderr",
     "output_type": "stream",
     "text": [
      "100%|██████████████████████████████████████████████████████████████████████████████████████████| 500/500 [01:06<00:00,  7.54it/s]\n"
     ]
    },
    {
     "name": "stdout",
     "output_type": "stream",
     "text": [
      "Sampling Done!\n",
      "Sphere check starting!\n",
      "Sphere check done!\n",
      "More than 1000000 locs given, will need 65.052408 id grabs w/ size 1000000 each\n",
      "Run 1\n"
     ]
    },
    {
     "name": "stderr",
     "output_type": "stream",
     "text": [
      "                                                                                                                                 \r"
     ]
    },
    {
     "name": "stdout",
     "output_type": "stream",
     "text": [
      "Run 2\n"
     ]
    },
    {
     "name": "stderr",
     "output_type": "stream",
     "text": [
      "                                                                                                                                 \r"
     ]
    },
    {
     "name": "stdout",
     "output_type": "stream",
     "text": [
      "Run 3\n"
     ]
    },
    {
     "name": "stderr",
     "output_type": "stream",
     "text": [
      "                                                                                                                                 \r"
     ]
    },
    {
     "name": "stdout",
     "output_type": "stream",
     "text": [
      "Run 4\n"
     ]
    },
    {
     "name": "stderr",
     "output_type": "stream",
     "text": [
      "                                                                                                                                 \r"
     ]
    },
    {
     "name": "stdout",
     "output_type": "stream",
     "text": [
      "Run 5\n"
     ]
    },
    {
     "name": "stderr",
     "output_type": "stream",
     "text": [
      "                                                                                                                                 \r"
     ]
    },
    {
     "name": "stdout",
     "output_type": "stream",
     "text": [
      "Run 6\n"
     ]
    },
    {
     "name": "stderr",
     "output_type": "stream",
     "text": [
      "                                                                                                                                 \r"
     ]
    },
    {
     "name": "stdout",
     "output_type": "stream",
     "text": [
      "Run 7\n"
     ]
    },
    {
     "name": "stderr",
     "output_type": "stream",
     "text": [
      "                                                                                                                                 \r"
     ]
    },
    {
     "name": "stdout",
     "output_type": "stream",
     "text": [
      "Run 8\n"
     ]
    },
    {
     "name": "stderr",
     "output_type": "stream",
     "text": [
      "                                                                                                                                 \r"
     ]
    },
    {
     "name": "stdout",
     "output_type": "stream",
     "text": [
      "Run 9\n"
     ]
    },
    {
     "name": "stderr",
     "output_type": "stream",
     "text": [
      "                                                                                                                                 \r"
     ]
    },
    {
     "name": "stdout",
     "output_type": "stream",
     "text": [
      "Run 10\n"
     ]
    },
    {
     "name": "stderr",
     "output_type": "stream",
     "text": [
      "                                                                                                                                 \r"
     ]
    },
    {
     "name": "stdout",
     "output_type": "stream",
     "text": [
      "Run 11\n"
     ]
    },
    {
     "name": "stderr",
     "output_type": "stream",
     "text": [
      "                                                                                                                                 \r"
     ]
    },
    {
     "name": "stdout",
     "output_type": "stream",
     "text": [
      "Run 12\n"
     ]
    },
    {
     "name": "stderr",
     "output_type": "stream",
     "text": [
      "                                                                                                                                 \r"
     ]
    },
    {
     "name": "stdout",
     "output_type": "stream",
     "text": [
      "Run 13\n"
     ]
    },
    {
     "name": "stderr",
     "output_type": "stream",
     "text": [
      "                                                                                                                                 \r"
     ]
    },
    {
     "name": "stdout",
     "output_type": "stream",
     "text": [
      "Run 14\n"
     ]
    },
    {
     "name": "stderr",
     "output_type": "stream",
     "text": [
      "                                                                                                                                 \r"
     ]
    },
    {
     "name": "stdout",
     "output_type": "stream",
     "text": [
      "Run 15\n"
     ]
    },
    {
     "name": "stderr",
     "output_type": "stream",
     "text": [
      "                                                                                                                                 \r"
     ]
    },
    {
     "name": "stdout",
     "output_type": "stream",
     "text": [
      "Run 16\n"
     ]
    },
    {
     "name": "stderr",
     "output_type": "stream",
     "text": [
      "                                                                                                                                 \r"
     ]
    },
    {
     "name": "stdout",
     "output_type": "stream",
     "text": [
      "Run 17\n"
     ]
    },
    {
     "name": "stderr",
     "output_type": "stream",
     "text": [
      "                                                                                                                                 \r"
     ]
    },
    {
     "name": "stdout",
     "output_type": "stream",
     "text": [
      "Run 18\n"
     ]
    },
    {
     "name": "stderr",
     "output_type": "stream",
     "text": [
      "                                                                                                                                 \r"
     ]
    },
    {
     "name": "stdout",
     "output_type": "stream",
     "text": [
      "Run 19\n"
     ]
    },
    {
     "name": "stderr",
     "output_type": "stream",
     "text": [
      "                                                                                                                                 \r"
     ]
    },
    {
     "name": "stdout",
     "output_type": "stream",
     "text": [
      "Run 20\n"
     ]
    },
    {
     "name": "stderr",
     "output_type": "stream",
     "text": [
      "                                                                                                                                 \r"
     ]
    },
    {
     "name": "stdout",
     "output_type": "stream",
     "text": [
      "Run 21\n"
     ]
    },
    {
     "name": "stderr",
     "output_type": "stream",
     "text": [
      "                                                                                                                                 \r"
     ]
    },
    {
     "name": "stdout",
     "output_type": "stream",
     "text": [
      "Run 22\n"
     ]
    },
    {
     "name": "stderr",
     "output_type": "stream",
     "text": [
      "                                                                                                                                 \r"
     ]
    },
    {
     "name": "stdout",
     "output_type": "stream",
     "text": [
      "Run 23\n"
     ]
    },
    {
     "name": "stderr",
     "output_type": "stream",
     "text": [
      "                                                                                                                                 \r"
     ]
    },
    {
     "name": "stdout",
     "output_type": "stream",
     "text": [
      "Run 24\n"
     ]
    },
    {
     "name": "stderr",
     "output_type": "stream",
     "text": [
      "                                                                                                                                 \r"
     ]
    },
    {
     "name": "stdout",
     "output_type": "stream",
     "text": [
      "Run 25\n"
     ]
    },
    {
     "name": "stderr",
     "output_type": "stream",
     "text": [
      "                                                                                                                                 \r"
     ]
    },
    {
     "name": "stdout",
     "output_type": "stream",
     "text": [
      "Run 26\n"
     ]
    },
    {
     "name": "stderr",
     "output_type": "stream",
     "text": [
      "                                                                                                                                 \r"
     ]
    },
    {
     "name": "stdout",
     "output_type": "stream",
     "text": [
      "Run 27\n"
     ]
    },
    {
     "name": "stderr",
     "output_type": "stream",
     "text": [
      "                                                                                                                                 \r"
     ]
    },
    {
     "name": "stdout",
     "output_type": "stream",
     "text": [
      "Run 28\n"
     ]
    },
    {
     "name": "stderr",
     "output_type": "stream",
     "text": [
      "                                                                                                                                 \r"
     ]
    },
    {
     "name": "stdout",
     "output_type": "stream",
     "text": [
      "Run 29\n"
     ]
    },
    {
     "name": "stderr",
     "output_type": "stream",
     "text": [
      "                                                                                                                                 \r"
     ]
    },
    {
     "name": "stdout",
     "output_type": "stream",
     "text": [
      "Run 30\n"
     ]
    },
    {
     "name": "stderr",
     "output_type": "stream",
     "text": [
      "                                                                                                                                 \r"
     ]
    },
    {
     "name": "stdout",
     "output_type": "stream",
     "text": [
      "Run 31\n"
     ]
    },
    {
     "name": "stderr",
     "output_type": "stream",
     "text": [
      "                                                                                                                                 \r"
     ]
    },
    {
     "name": "stdout",
     "output_type": "stream",
     "text": [
      "Run 32\n"
     ]
    },
    {
     "name": "stderr",
     "output_type": "stream",
     "text": [
      "                                                                                                                                 \r"
     ]
    },
    {
     "name": "stdout",
     "output_type": "stream",
     "text": [
      "Run 33\n"
     ]
    },
    {
     "name": "stderr",
     "output_type": "stream",
     "text": [
      "                                                                                                                                 \r"
     ]
    },
    {
     "name": "stdout",
     "output_type": "stream",
     "text": [
      "Run 34\n"
     ]
    },
    {
     "name": "stderr",
     "output_type": "stream",
     "text": [
      "                                                                                                                                 \r"
     ]
    },
    {
     "name": "stdout",
     "output_type": "stream",
     "text": [
      "Run 35\n"
     ]
    },
    {
     "name": "stderr",
     "output_type": "stream",
     "text": [
      "                                                                                                                                 \r"
     ]
    },
    {
     "name": "stdout",
     "output_type": "stream",
     "text": [
      "Run 36\n"
     ]
    },
    {
     "name": "stderr",
     "output_type": "stream",
     "text": [
      "                                                                                                                                 \r"
     ]
    },
    {
     "name": "stdout",
     "output_type": "stream",
     "text": [
      "Run 37\n"
     ]
    },
    {
     "name": "stderr",
     "output_type": "stream",
     "text": [
      "                                                                                                                                 \r"
     ]
    },
    {
     "name": "stdout",
     "output_type": "stream",
     "text": [
      "Run 38\n"
     ]
    },
    {
     "name": "stderr",
     "output_type": "stream",
     "text": [
      "                                                                                                                                 \r"
     ]
    },
    {
     "name": "stdout",
     "output_type": "stream",
     "text": [
      "Run 39\n"
     ]
    },
    {
     "name": "stderr",
     "output_type": "stream",
     "text": [
      "                                                                                                                                 \r"
     ]
    },
    {
     "name": "stdout",
     "output_type": "stream",
     "text": [
      "Run 40\n"
     ]
    },
    {
     "name": "stderr",
     "output_type": "stream",
     "text": [
      "                                                                                                                                 \r"
     ]
    },
    {
     "name": "stdout",
     "output_type": "stream",
     "text": [
      "Run 41\n"
     ]
    },
    {
     "name": "stderr",
     "output_type": "stream",
     "text": [
      "                                                                                                                                 \r"
     ]
    },
    {
     "name": "stdout",
     "output_type": "stream",
     "text": [
      "Run 42\n"
     ]
    },
    {
     "name": "stderr",
     "output_type": "stream",
     "text": [
      "                                                                                                                                 \r"
     ]
    },
    {
     "name": "stdout",
     "output_type": "stream",
     "text": [
      "Run 43\n"
     ]
    },
    {
     "name": "stderr",
     "output_type": "stream",
     "text": [
      "                                                                                                                                 \r"
     ]
    },
    {
     "name": "stdout",
     "output_type": "stream",
     "text": [
      "Run 44\n"
     ]
    },
    {
     "name": "stderr",
     "output_type": "stream",
     "text": [
      "                                                                                                                                 \r"
     ]
    },
    {
     "name": "stdout",
     "output_type": "stream",
     "text": [
      "Run 45\n"
     ]
    },
    {
     "name": "stderr",
     "output_type": "stream",
     "text": [
      "                                                                                                                                 \r"
     ]
    },
    {
     "name": "stdout",
     "output_type": "stream",
     "text": [
      "Run 46\n"
     ]
    },
    {
     "name": "stderr",
     "output_type": "stream",
     "text": [
      "                                                                                                                                 \r"
     ]
    },
    {
     "name": "stdout",
     "output_type": "stream",
     "text": [
      "Run 47\n"
     ]
    },
    {
     "name": "stderr",
     "output_type": "stream",
     "text": [
      "                                                                                                                                 \r"
     ]
    },
    {
     "name": "stdout",
     "output_type": "stream",
     "text": [
      "Run 48\n"
     ]
    },
    {
     "name": "stderr",
     "output_type": "stream",
     "text": [
      "                                                                                                                                 \r"
     ]
    },
    {
     "name": "stdout",
     "output_type": "stream",
     "text": [
      "Run 49\n"
     ]
    },
    {
     "name": "stderr",
     "output_type": "stream",
     "text": [
      "                                                                                                                                 \r"
     ]
    },
    {
     "name": "stdout",
     "output_type": "stream",
     "text": [
      "Run 50\n"
     ]
    },
    {
     "name": "stderr",
     "output_type": "stream",
     "text": [
      "                                                                                                                                 \r"
     ]
    },
    {
     "name": "stdout",
     "output_type": "stream",
     "text": [
      "Run 51\n"
     ]
    },
    {
     "name": "stderr",
     "output_type": "stream",
     "text": [
      "                                                                                                                                 \r"
     ]
    },
    {
     "name": "stdout",
     "output_type": "stream",
     "text": [
      "Run 52\n"
     ]
    },
    {
     "name": "stderr",
     "output_type": "stream",
     "text": [
      "                                                                                                                                 \r"
     ]
    },
    {
     "name": "stdout",
     "output_type": "stream",
     "text": [
      "Run 53\n"
     ]
    },
    {
     "name": "stderr",
     "output_type": "stream",
     "text": [
      "                                                                                                                                 \r"
     ]
    },
    {
     "name": "stdout",
     "output_type": "stream",
     "text": [
      "Run 54\n"
     ]
    },
    {
     "name": "stderr",
     "output_type": "stream",
     "text": [
      "                                                                                                                                 \r"
     ]
    },
    {
     "name": "stdout",
     "output_type": "stream",
     "text": [
      "Run 55\n"
     ]
    },
    {
     "name": "stderr",
     "output_type": "stream",
     "text": [
      "                                                                                                                                 \r"
     ]
    },
    {
     "name": "stdout",
     "output_type": "stream",
     "text": [
      "Run 56\n"
     ]
    },
    {
     "name": "stderr",
     "output_type": "stream",
     "text": [
      "                                                                                                                                 \r"
     ]
    },
    {
     "name": "stdout",
     "output_type": "stream",
     "text": [
      "Run 57\n"
     ]
    },
    {
     "name": "stderr",
     "output_type": "stream",
     "text": [
      "                                                                                                                                 \r"
     ]
    },
    {
     "name": "stdout",
     "output_type": "stream",
     "text": [
      "Run 58\n"
     ]
    },
    {
     "name": "stderr",
     "output_type": "stream",
     "text": [
      "                                                                                                                                 \r"
     ]
    },
    {
     "name": "stdout",
     "output_type": "stream",
     "text": [
      "Run 59\n"
     ]
    },
    {
     "name": "stderr",
     "output_type": "stream",
     "text": [
      "                                                                                                                                 \r"
     ]
    },
    {
     "name": "stdout",
     "output_type": "stream",
     "text": [
      "Run 60\n"
     ]
    },
    {
     "name": "stderr",
     "output_type": "stream",
     "text": [
      "                                                                                                                                 \r"
     ]
    },
    {
     "name": "stdout",
     "output_type": "stream",
     "text": [
      "Run 61\n"
     ]
    },
    {
     "name": "stderr",
     "output_type": "stream",
     "text": [
      "                                                                                                                                 \r"
     ]
    },
    {
     "name": "stdout",
     "output_type": "stream",
     "text": [
      "Run 62\n"
     ]
    },
    {
     "name": "stderr",
     "output_type": "stream",
     "text": [
      "                                                                                                                                 \r"
     ]
    },
    {
     "name": "stdout",
     "output_type": "stream",
     "text": [
      "Run 63\n"
     ]
    },
    {
     "name": "stderr",
     "output_type": "stream",
     "text": [
      "                                                                                                                                 \r"
     ]
    },
    {
     "name": "stdout",
     "output_type": "stream",
     "text": [
      "Run 64\n"
     ]
    },
    {
     "name": "stderr",
     "output_type": "stream",
     "text": [
      "                                                                                                                                 \r"
     ]
    },
    {
     "name": "stdout",
     "output_type": "stream",
     "text": [
      "Run 65\n"
     ]
    },
    {
     "name": "stderr",
     "output_type": "stream",
     "text": [
      "Fetching roots:  89%|████████████████████████████████████████████████████████▉       | 890000/1000000 [01:30<00:10, 10769.79it/s]"
     ]
    }
   ],
   "source": [
    "runner([112367, 56132, 3613],5000,500)#.show()"
   ]
  },
  {
   "cell_type": "markdown",
   "id": "0e7c568d-1b76-48ca-b1ff-ce6d9af366e9",
   "metadata": {},
   "source": [
    "## Bonus challenge: Instead of focusing on a specific neuron, fetch all synapses within the sphere and ask if higher arbour counts are correlated with more synapses."
   ]
  },
  {
   "cell_type": "code",
   "execution_count": null,
   "id": "c75eae81-c572-4d29-8fa6-0f065ff022bd",
   "metadata": {},
   "outputs": [],
   "source": []
  }
 ],
 "metadata": {
  "kernelspec": {
   "display_name": "Python 3 (ipykernel)",
   "language": "python",
   "name": "python3"
  },
  "language_info": {
   "codemirror_mode": {
    "name": "ipython",
    "version": 3
   },
   "file_extension": ".py",
   "mimetype": "text/x-python",
   "name": "python",
   "nbconvert_exporter": "python",
   "pygments_lexer": "ipython3",
   "version": "3.10.6"
  }
 },
 "nbformat": 4,
 "nbformat_minor": 5
}
