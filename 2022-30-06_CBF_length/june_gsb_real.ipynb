{
 "cells": [
  {
   "cell_type": "markdown",
   "id": "e557d399-8e1c-48a6-8d5d-905427e678d8",
   "metadata": {},
   "source": [
    "# General Prompt:\n",
    "Choose ring neurons from the main FlyTable. <br>\n",
    "Isolate the cable from soma to where the axon cable enters the ellipsoid body and determine that distance for each neuron. <br>\n",
    "Determine if the morphologies of ring neurons correlate with their age predicted by cable length."
   ]
  },
  {
   "cell_type": "markdown",
   "id": "f0446f32-03d1-49a3-b22b-3b568072cfbb",
   "metadata": {},
   "source": [
    "## to-do\n",
    "- left/right separation or combination\n",
    "- plot mean value + stdv"
   ]
  },
  {
   "cell_type": "code",
   "execution_count": 95,
   "id": "db82f913-34f9-4045-bb16-3d612ddb1bad",
   "metadata": {},
   "outputs": [
    {
     "name": "stdout",
     "output_type": "stream",
     "text": [
      "env: SEATABLE_TOKEN=59481ea08c6a2ff4f3635ea54199520ce1a0f1dd\n",
      "env: SEATABLE_SERVER=https://flytable.mrc-lmb.cam.ac.uk/\n"
     ]
    }
   ],
   "source": [
    "from fafbseg import flywire\n",
    "import navis as navis\n",
    "\n",
    "import seaserpent as ss\n",
    "\n",
    "import math\n",
    "\n",
    "import numpy as np\n",
    "import pandas as pd\n",
    "\n",
    "from scipy.spatial.distance import squareform\n",
    "from scipy.cluster.hierarchy import linkage, dendrogram, set_link_color_palette\n",
    "from scipy.cluster.hierarchy import fcluster\n",
    "\n",
    "import matplotlib.pyplot as plt\n",
    "import matplotlib.colors as mcl\n",
    "import seaborn as sns\n",
    "from scipy import stats\n",
    "\n",
    "%env SEATABLE_TOKEN = 59481ea08c6a2ff4f3635ea54199520ce1a0f1dd\n",
    "%env SEATABLE_SERVER = https://flytable.mrc-lmb.cam.ac.uk/"
   ]
  },
  {
   "cell_type": "code",
   "execution_count": 2,
   "id": "ad68c1c5-393b-4125-832e-b64fa66e344b",
   "metadata": {},
   "outputs": [],
   "source": [
    "# simple function to get all rows which have a specified descriptor in their \"cell_class\" field \n",
    "def class_from_main(class_desc):\n",
    "    table = ss.Table(table=\"info\").to_frame()\n",
    "    sub = table[table.cell_class.isin([class_desc])]\n",
    "    return sub"
   ]
  },
  {
   "cell_type": "code",
   "execution_count": 3,
   "id": "0f3fb345-f4a0-4cbf-b261-d6613e11b6a8",
   "metadata": {},
   "outputs": [],
   "source": [
    "# the meat - explained in internal comments\n",
    "def longest_axon_neurite(ids: list):\n",
    "    #decide if worth parallelizing (long story) and heals nicely\n",
    "    if len(ids)>5 and type(ids)!=str:\n",
    "        skels = navis.heal_skeleton(flywire.skeletonize_neuron_parallel(ids))\n",
    "    else:\n",
    "        skels = navis.heal_skeleton(flywire.skeletonize_neuron(ids))\n",
    "    #fetch synapses to allow for splitting\n",
    "    flywire.synapses.fetch_synapses(skels, attach=True)\n",
    "    #rerooting which philipp suggested as a good step somewhere\n",
    "    for i in skels:\n",
    "        navis.reroot_skeleton(i, i.soma, inplace=True)\n",
    "    #split each neuron into axonic bit, dendritic bit, linker, and cell body fiber (segregation_index metric is the best)\n",
    "    #this is needed to cover a scenario where the geodesic distance from soma to dendrite tip is shorter than geodesic distance from soma to axon tip\n",
    "    skels_split = navis.split_axon_dendrite(skels, cellbodyfiber='soma', metric='segregation_index', omit_failures=True)\n",
    "    #print(skels_split.soma)\n",
    "    #now we keep everything that isn't a dendrite (so CBF, axon, linker)\n",
    "    skels_keep = skels_split[skels_split.compartment!=\"dendrite\"]\n",
    "    skels_combed = navis.NeuronList(skels[0])\n",
    "    #now we stitch those kept elements together - THIS DOES NOT PERFECTLY RECREATE THE NEURON MINUS THE DENDRITE if the dendrite region is some chunk of space along the CBF, not just the major split for dendrite\n",
    "    for i in list(set(skels_keep.id)):\n",
    "        skels_combed.append(navis.stitch_skeletons(skels_keep[skels_keep.id==i]))\n",
    "    skels_healed = navis.heal_skeleton(skels_combed[1:])\n",
    "    #we also return the full skels so we can use them for nblasting and not skeletonize twice, but because some of the splits fail this ensures we only keep good ones\n",
    "    skels = skels[pd.Series(skels.id).isin(skels_healed.id)]\n",
    "    #and we want to return only the longest neurite of the only axonal bits of neuron we have left, hence pruning by longest neurite\n",
    "    return [skels, skels_healed.prune_by_longest_neurite(reroot_soma=True)]"
   ]
  },
  {
   "cell_type": "code",
   "execution_count": 4,
   "id": "38ea064d-cc9d-4231-969f-2028f3613ea6",
   "metadata": {},
   "outputs": [],
   "source": [
    "#this removes anything in the mesh selected and returns only the bit of the neuron with the soma of the leftover fragments\n",
    "def remove_in_mesh(neurites, mesh):\n",
    "    pruned = neurites.prune_by_volume(mesh, 'OUT')\n",
    "    frags = navis.NeuronList(pruned[0])\n",
    "    for i in pruned:\n",
    "        frag = navis.break_fragments(i)\n",
    "        frags.append(frag)\n",
    "    frags = frags[1:]\n",
    "    out_frags = frags[frags.soma!=None]\n",
    "    return out_frags"
   ]
  },
  {
   "cell_type": "code",
   "execution_count": 5,
   "id": "16697e1d-0945-43f9-bf6c-d81d8cc11c7e",
   "metadata": {},
   "outputs": [],
   "source": [
    "#make nblast before plotting so we only have to do once\n",
    "def make_nblast(skels):\n",
    "    dps = navis.make_dotprops(skels/1000)\n",
    "    nbl = navis.nblast_allbyall(dps, progress=False)\n",
    "    nbl_vec = squareform(((nbl + nbl.T) / 2 - 1) * -1, checks=False)\n",
    "    Z_nbl = linkage(nbl_vec, method='ward', optimal_ordering=True)\n",
    "    return Z_nbl"
   ]
  },
  {
   "cell_type": "code",
   "execution_count": 6,
   "id": "dfa64576-84bf-4a45-b3d5-beda43be802b",
   "metadata": {},
   "outputs": [],
   "source": [
    "def sort_by_avg_lens(df, by, lens='lens'):\n",
    "    df.sort_values(by=by, inplace=True)\n",
    "    old_by = list(dict.fromkeys(df[by]))\n",
    "    avg_lens = df.groupby([by]).mean()[lens]\n",
    "    avg_lens_dict = dict(zip(old_by, avg_lens))\n",
    "    avg_name = 'avg'+lens\n",
    "    df[avg_name] = [avg_lens_dict[i] for i in df[by]]\n",
    "    df.sort_values(by=[avg_name], inplace=True)\n",
    "    return df"
   ]
  },
  {
   "cell_type": "code",
   "execution_count": 7,
   "id": "19a7fd8b-b8de-4a6c-b5b5-26f81465388d",
   "metadata": {},
   "outputs": [],
   "source": [
    "#anddddd plot\n",
    "def plot_age_nbl_clust(z_nbl, cable_lens, t=1):\n",
    "    Z_nbl = z_nbl\n",
    "    cl = fcluster(Z_nbl, t, criterion='distance')\n",
    "    zs = [np.array(z) for z in Z_nbl]\n",
    "    zs.append([0,0,0,0])\n",
    "    d = {'Z_nbl' : zs, 'lens' : cable_lens, 'cl' : cl}\n",
    "    df = pd.DataFrame(data=d)\n",
    "\n",
    "    fig, axes = plt.subplots(1, 2, figsize=(12, 5))\n",
    "    dn1 = dendrogram(list(df.Z_nbl)[:-1], no_labels=True, color_threshold=t, ax=axes[0])\n",
    "    df = sort_by_avg_lens(df, 'cl')\n",
    "    colors = ['C'+str(i%10) for i in df.cl]\n",
    "    df['colors'] = colors\n",
    "    old_cl = list(dict.fromkeys(df.cl))\n",
    "    new_cl = np.arange(max(df.cl))\n",
    "    cl_dict = dict(zip(old_cl, new_cl))\n",
    "    new_cl = [cl_dict[i]+1 for i in df.cl]\n",
    "    df['cl_n'] = new_cl\n",
    "    axes[1].scatter(df.lens, df.cl_n, c = df.colors)\n",
    "#        axes[1].scatter(cl, cable_lens)\n",
    "    statz=stats.pearsonr(df.lens, df.cl_n)\n",
    "    print(\"r^2 = {:f}, p = {:f}\".format(statz[0], statz[1]))\n",
    "\n",
    "    plt.show()\n",
    "    return df"
   ]
  },
  {
   "cell_type": "code",
   "execution_count": 111,
   "id": "07756a2c-9bc2-4e93-bd73-b1304c3ce90d",
   "metadata": {},
   "outputs": [],
   "source": [
    "def plot_age_type(types, cable_lens, sides = [], cmap='hsv'):\n",
    "    all_types = list(set(types)) #gets all unique types, ignoring sides\n",
    "    df = pd.DataFrame({\"types\":types, \"lens\":cable_lens}) #makes a df with type and len for each neuron\n",
    "    df['color_num'] = [all_types.index(i) for i in df.types] #makes a color number for each type (basically whichever order it's in in the unique type set)\n",
    "    colors = plt.cm.get_cmap(cmap, len(all_types)) #creates color map\n",
    "\n",
    "    if len(sides)>0: #where the side array exists\n",
    "        sides_options = list(set(sides))\n",
    "        types = [t+'_'+s for t,s in zip(types, sides)] #add side to the type list\n",
    "        sides_type_options = list(set(types)) #get unique list of sides+types combos (basically l/r for each type generally)\n",
    "        df['side'] = sides #sets side col in df to sides array\n",
    "        df['side_types'] = types #now sets the side and type combo into the side_types col in the df\n",
    "        df['side_type_num'] = [sides_type_options.index(i) for i in df.side_types] #and creates a new # for the side_type combo for easying ID-ing later \n",
    "\n",
    "        df = sort_by_avg_lens(df, 'side_type_num') #and so sort by the specific side+type\n",
    "    else:\n",
    "        df = sort_by_avg_lens(df, 'color_num') #and if no sides then just sort by the type num ID\n",
    "\n",
    "    if len(sides)>0:\n",
    "        fig, axes = plt.subplots(1, len(sides_options), sharey=True)\n",
    "        for ns, s in enumerate(sides_options):\n",
    "            df_s = df[df.side==s]\n",
    "            for n,i in enumerate(list(dict.fromkeys(df_s.side_type_num))):\n",
    "                only_type = df_s[df_s.side_type_num==i]\n",
    "                c = list(set(only_type.color_num))[0]\n",
    "                axes[ns].scatter(np.full(len(only_type.lens), n), only_type.lens, color=colors(c))\n",
    "        \n",
    "    else:\n",
    "        for n,i in enumerate(list(dict.fromkeys(df.color_num))):\n",
    "            only_type = df[df.color_num==i]\n",
    "            plt.scatter(np.full(len(only_type.lens), n), only_type.lens, color=colors(n))\n",
    "\n",
    "            \n",
    "    statz=stats.pearsonr(df.side_type_num, df.lens)\n",
    "    print(\"r^2 = {:f}, p = {:f}\".format(statz[0], statz[1]))\n",
    "\n",
    "    plt.show()\n",
    "    \n",
    "    return df"
   ]
  },
  {
   "cell_type": "code",
   "execution_count": 9,
   "id": "8a70c3ed-1dd2-4741-b3c7-86cdc9934584",
   "metadata": {},
   "outputs": [],
   "source": [
    "def plot_3d_cell_types(skels, types, cmap = 'hsv', mesh=None):\n",
    "    all_types = list(set(types))\n",
    "    colors = plt.cm.get_cmap(cmap, len(all_types))\n",
    "    c = [colors(all_types.index(i)) for i in types]\n",
    "    col_map = dict(zip(skels.id, c))\n",
    "    if mesh:\n",
    "        navis.plot3d([mesh, skels], color=col_map)\n",
    "    else:\n",
    "        navis.plot3d(skels, color=col_map)\n",
    "    return\n",
    "        "
   ]
  },
  {
   "cell_type": "code",
   "execution_count": 10,
   "id": "b804c22a-fa06-42fe-b630-11165e5a6e97",
   "metadata": {},
   "outputs": [],
   "source": [
    "ring_rows = class_from_main(\"ring neuron\")\n",
    "ring_ids = ring_rows.root_id\n",
    "ring_types = ring_rows[['root_id', 'cell_type']] "
   ]
  },
  {
   "cell_type": "code",
   "execution_count": 12,
   "id": "5a6f8ed5-ca46-4417-a19d-a7bc2ab042e7",
   "metadata": {},
   "outputs": [
    {
     "data": {
      "application/vnd.jupyter.widget-view+json": {
       "model_id": "5c371fa746944f35b6536bef6d235a8a",
       "version_major": 2,
       "version_minor": 0
      },
      "text/plain": [
       "Skeletonizing:   0%|          | 0/271 [00:00<?, ?it/s]"
      ]
     },
     "metadata": {},
     "output_type": "display_data"
    },
    {
     "data": {
      "application/vnd.jupyter.widget-view+json": {
       "model_id": "",
       "version_major": 2,
       "version_minor": 0
      },
      "text/plain": [
       "Healing:   0%|          | 0/271 [00:00<?, ?it/s]"
      ]
     },
     "metadata": {},
     "output_type": "display_data"
    },
    {
     "data": {
      "application/vnd.jupyter.widget-view+json": {
       "model_id": "773256af22b1413b8792ee8e55cc37cb",
       "version_major": 2,
       "version_minor": 0
      },
      "text/plain": [
       "Fetching synapses:   0%|          | 0/10 [00:00<?, ?it/s]"
      ]
     },
     "metadata": {},
     "output_type": "display_data"
    },
    {
     "data": {
      "application/vnd.jupyter.widget-view+json": {
       "model_id": "",
       "version_major": 2,
       "version_minor": 0
      },
      "text/plain": [
       "Splitting:   0%|          | 0/271 [00:00<?, ?it/s]"
      ]
     },
     "metadata": {},
     "output_type": "display_data"
    },
    {
     "name": "stderr",
     "output_type": "stream",
     "text": [
      "WARNING : 3 of 271 runs failed. Set logging to debug (`navis.set_loggers(\"DEBUG\")`) or repeat with `omit_failures=False` for details. (navis)\n",
      "WARNING:navis:3 of 271 runs failed. Set logging to debug (`navis.set_loggers(\"DEBUG\")`) or repeat with `omit_failures=False` for details.\n"
     ]
    },
    {
     "data": {
      "application/vnd.jupyter.widget-view+json": {
       "model_id": "",
       "version_major": 2,
       "version_minor": 0
      },
      "text/plain": [
       "Healing:   0%|          | 0/268 [00:00<?, ?it/s]"
      ]
     },
     "metadata": {},
     "output_type": "display_data"
    },
    {
     "data": {
      "application/vnd.jupyter.widget-view+json": {
       "model_id": "",
       "version_major": 2,
       "version_minor": 0
      },
      "text/plain": [
       "prune_by_longest_neurite:   0%|          | 0/268 [00:00<?, ?it/s]"
      ]
     },
     "metadata": {},
     "output_type": "display_data"
    }
   ],
   "source": [
    "[ring_neurons, ring_neurites] = longest_axon_neurite(ring_ids)"
   ]
  },
  {
   "cell_type": "code",
   "execution_count": 13,
   "id": "a1e3e922-80c5-4bf7-b40b-8f6dc2a28439",
   "metadata": {},
   "outputs": [],
   "source": [
    "eb_mesh = navis.read_mesh('./JFRC2NP.surf.FAFB14/EB.stl')"
   ]
  },
  {
   "cell_type": "code",
   "execution_count": 14,
   "id": "196ab403-f179-4bd4-afd2-c5e8b3070b3d",
   "metadata": {
    "collapsed": true,
    "jupyter": {
     "outputs_hidden": true
    },
    "tags": []
   },
   "outputs": [
    {
     "data": {
      "application/vnd.jupyter.widget-view+json": {
       "model_id": "",
       "version_major": 2,
       "version_minor": 0
      },
      "text/plain": [
       "prune_by_volume:   0%|          | 0/268 [00:00<?, ?it/s]"
      ]
     },
     "metadata": {},
     "output_type": "display_data"
    },
    {
     "data": {
      "application/vnd.jupyter.widget-view+json": {
       "model_id": "",
       "version_major": 2,
       "version_minor": 0
      },
      "text/plain": [
       "Breaking:   0%|          | 0/6 [00:00<?, ?it/s]"
      ]
     },
     "metadata": {},
     "output_type": "display_data"
    },
    {
     "data": {
      "application/vnd.jupyter.widget-view+json": {
       "model_id": "",
       "version_major": 2,
       "version_minor": 0
      },
      "text/plain": [
       "Breaking:   0%|          | 0/5 [00:00<?, ?it/s]"
      ]
     },
     "metadata": {},
     "output_type": "display_data"
    },
    {
     "data": {
      "application/vnd.jupyter.widget-view+json": {
       "model_id": "",
       "version_major": 2,
       "version_minor": 0
      },
      "text/plain": [
       "Breaking:   0%|          | 0/1 [00:00<?, ?it/s]"
      ]
     },
     "metadata": {},
     "output_type": "display_data"
    },
    {
     "data": {
      "application/vnd.jupyter.widget-view+json": {
       "model_id": "",
       "version_major": 2,
       "version_minor": 0
      },
      "text/plain": [
       "Breaking:   0%|          | 0/2 [00:00<?, ?it/s]"
      ]
     },
     "metadata": {},
     "output_type": "display_data"
    },
    {
     "data": {
      "application/vnd.jupyter.widget-view+json": {
       "model_id": "",
       "version_major": 2,
       "version_minor": 0
      },
      "text/plain": [
       "Breaking:   0%|          | 0/5 [00:00<?, ?it/s]"
      ]
     },
     "metadata": {},
     "output_type": "display_data"
    },
    {
     "data": {
      "application/vnd.jupyter.widget-view+json": {
       "model_id": "",
       "version_major": 2,
       "version_minor": 0
      },
      "text/plain": [
       "Breaking:   0%|          | 0/2 [00:00<?, ?it/s]"
      ]
     },
     "metadata": {},
     "output_type": "display_data"
    },
    {
     "data": {
      "application/vnd.jupyter.widget-view+json": {
       "model_id": "",
       "version_major": 2,
       "version_minor": 0
      },
      "text/plain": [
       "Breaking:   0%|          | 0/4 [00:00<?, ?it/s]"
      ]
     },
     "metadata": {},
     "output_type": "display_data"
    },
    {
     "data": {
      "application/vnd.jupyter.widget-view+json": {
       "model_id": "",
       "version_major": 2,
       "version_minor": 0
      },
      "text/plain": [
       "Breaking:   0%|          | 0/5 [00:00<?, ?it/s]"
      ]
     },
     "metadata": {},
     "output_type": "display_data"
    },
    {
     "data": {
      "application/vnd.jupyter.widget-view+json": {
       "model_id": "",
       "version_major": 2,
       "version_minor": 0
      },
      "text/plain": [
       "Breaking:   0%|          | 0/1 [00:00<?, ?it/s]"
      ]
     },
     "metadata": {},
     "output_type": "display_data"
    },
    {
     "data": {
      "application/vnd.jupyter.widget-view+json": {
       "model_id": "",
       "version_major": 2,
       "version_minor": 0
      },
      "text/plain": [
       "Breaking:   0%|          | 0/1 [00:00<?, ?it/s]"
      ]
     },
     "metadata": {},
     "output_type": "display_data"
    },
    {
     "data": {
      "application/vnd.jupyter.widget-view+json": {
       "model_id": "",
       "version_major": 2,
       "version_minor": 0
      },
      "text/plain": [
       "Breaking:   0%|          | 0/3 [00:00<?, ?it/s]"
      ]
     },
     "metadata": {},
     "output_type": "display_data"
    },
    {
     "data": {
      "application/vnd.jupyter.widget-view+json": {
       "model_id": "",
       "version_major": 2,
       "version_minor": 0
      },
      "text/plain": [
       "Breaking:   0%|          | 0/2 [00:00<?, ?it/s]"
      ]
     },
     "metadata": {},
     "output_type": "display_data"
    },
    {
     "data": {
      "application/vnd.jupyter.widget-view+json": {
       "model_id": "",
       "version_major": 2,
       "version_minor": 0
      },
      "text/plain": [
       "Breaking:   0%|          | 0/3 [00:00<?, ?it/s]"
      ]
     },
     "metadata": {},
     "output_type": "display_data"
    },
    {
     "data": {
      "application/vnd.jupyter.widget-view+json": {
       "model_id": "",
       "version_major": 2,
       "version_minor": 0
      },
      "text/plain": [
       "Breaking:   0%|          | 0/6 [00:00<?, ?it/s]"
      ]
     },
     "metadata": {},
     "output_type": "display_data"
    },
    {
     "data": {
      "application/vnd.jupyter.widget-view+json": {
       "model_id": "",
       "version_major": 2,
       "version_minor": 0
      },
      "text/plain": [
       "Breaking:   0%|          | 0/3 [00:00<?, ?it/s]"
      ]
     },
     "metadata": {},
     "output_type": "display_data"
    },
    {
     "data": {
      "application/vnd.jupyter.widget-view+json": {
       "model_id": "",
       "version_major": 2,
       "version_minor": 0
      },
      "text/plain": [
       "Breaking:   0%|          | 0/4 [00:00<?, ?it/s]"
      ]
     },
     "metadata": {},
     "output_type": "display_data"
    },
    {
     "data": {
      "application/vnd.jupyter.widget-view+json": {
       "model_id": "",
       "version_major": 2,
       "version_minor": 0
      },
      "text/plain": [
       "Breaking:   0%|          | 0/2 [00:00<?, ?it/s]"
      ]
     },
     "metadata": {},
     "output_type": "display_data"
    },
    {
     "data": {
      "application/vnd.jupyter.widget-view+json": {
       "model_id": "",
       "version_major": 2,
       "version_minor": 0
      },
      "text/plain": [
       "Breaking:   0%|          | 0/3 [00:00<?, ?it/s]"
      ]
     },
     "metadata": {},
     "output_type": "display_data"
    },
    {
     "data": {
      "application/vnd.jupyter.widget-view+json": {
       "model_id": "",
       "version_major": 2,
       "version_minor": 0
      },
      "text/plain": [
       "Breaking:   0%|          | 0/9 [00:00<?, ?it/s]"
      ]
     },
     "metadata": {},
     "output_type": "display_data"
    },
    {
     "data": {
      "application/vnd.jupyter.widget-view+json": {
       "model_id": "",
       "version_major": 2,
       "version_minor": 0
      },
      "text/plain": [
       "Breaking:   0%|          | 0/6 [00:00<?, ?it/s]"
      ]
     },
     "metadata": {},
     "output_type": "display_data"
    },
    {
     "data": {
      "application/vnd.jupyter.widget-view+json": {
       "model_id": "",
       "version_major": 2,
       "version_minor": 0
      },
      "text/plain": [
       "Breaking:   0%|          | 0/8 [00:00<?, ?it/s]"
      ]
     },
     "metadata": {},
     "output_type": "display_data"
    },
    {
     "data": {
      "application/vnd.jupyter.widget-view+json": {
       "model_id": "",
       "version_major": 2,
       "version_minor": 0
      },
      "text/plain": [
       "Breaking:   0%|          | 0/4 [00:00<?, ?it/s]"
      ]
     },
     "metadata": {},
     "output_type": "display_data"
    },
    {
     "data": {
      "application/vnd.jupyter.widget-view+json": {
       "model_id": "",
       "version_major": 2,
       "version_minor": 0
      },
      "text/plain": [
       "Breaking:   0%|          | 0/10 [00:00<?, ?it/s]"
      ]
     },
     "metadata": {},
     "output_type": "display_data"
    },
    {
     "data": {
      "application/vnd.jupyter.widget-view+json": {
       "model_id": "",
       "version_major": 2,
       "version_minor": 0
      },
      "text/plain": [
       "Breaking:   0%|          | 0/4 [00:00<?, ?it/s]"
      ]
     },
     "metadata": {},
     "output_type": "display_data"
    },
    {
     "data": {
      "application/vnd.jupyter.widget-view+json": {
       "model_id": "",
       "version_major": 2,
       "version_minor": 0
      },
      "text/plain": [
       "Breaking:   0%|          | 0/4 [00:00<?, ?it/s]"
      ]
     },
     "metadata": {},
     "output_type": "display_data"
    },
    {
     "data": {
      "application/vnd.jupyter.widget-view+json": {
       "model_id": "",
       "version_major": 2,
       "version_minor": 0
      },
      "text/plain": [
       "Breaking:   0%|          | 0/1 [00:00<?, ?it/s]"
      ]
     },
     "metadata": {},
     "output_type": "display_data"
    },
    {
     "data": {
      "application/vnd.jupyter.widget-view+json": {
       "model_id": "",
       "version_major": 2,
       "version_minor": 0
      },
      "text/plain": [
       "Breaking:   0%|          | 0/4 [00:00<?, ?it/s]"
      ]
     },
     "metadata": {},
     "output_type": "display_data"
    },
    {
     "data": {
      "application/vnd.jupyter.widget-view+json": {
       "model_id": "",
       "version_major": 2,
       "version_minor": 0
      },
      "text/plain": [
       "Breaking:   0%|          | 0/3 [00:00<?, ?it/s]"
      ]
     },
     "metadata": {},
     "output_type": "display_data"
    },
    {
     "data": {
      "application/vnd.jupyter.widget-view+json": {
       "model_id": "",
       "version_major": 2,
       "version_minor": 0
      },
      "text/plain": [
       "Breaking:   0%|          | 0/2 [00:00<?, ?it/s]"
      ]
     },
     "metadata": {},
     "output_type": "display_data"
    },
    {
     "data": {
      "application/vnd.jupyter.widget-view+json": {
       "model_id": "",
       "version_major": 2,
       "version_minor": 0
      },
      "text/plain": [
       "Breaking:   0%|          | 0/5 [00:00<?, ?it/s]"
      ]
     },
     "metadata": {},
     "output_type": "display_data"
    },
    {
     "data": {
      "application/vnd.jupyter.widget-view+json": {
       "model_id": "",
       "version_major": 2,
       "version_minor": 0
      },
      "text/plain": [
       "Breaking:   0%|          | 0/4 [00:00<?, ?it/s]"
      ]
     },
     "metadata": {},
     "output_type": "display_data"
    },
    {
     "data": {
      "application/vnd.jupyter.widget-view+json": {
       "model_id": "",
       "version_major": 2,
       "version_minor": 0
      },
      "text/plain": [
       "Breaking:   0%|          | 0/1 [00:00<?, ?it/s]"
      ]
     },
     "metadata": {},
     "output_type": "display_data"
    },
    {
     "data": {
      "application/vnd.jupyter.widget-view+json": {
       "model_id": "",
       "version_major": 2,
       "version_minor": 0
      },
      "text/plain": [
       "Breaking:   0%|          | 0/5 [00:00<?, ?it/s]"
      ]
     },
     "metadata": {},
     "output_type": "display_data"
    },
    {
     "data": {
      "application/vnd.jupyter.widget-view+json": {
       "model_id": "",
       "version_major": 2,
       "version_minor": 0
      },
      "text/plain": [
       "Breaking:   0%|          | 0/3 [00:00<?, ?it/s]"
      ]
     },
     "metadata": {},
     "output_type": "display_data"
    },
    {
     "data": {
      "application/vnd.jupyter.widget-view+json": {
       "model_id": "",
       "version_major": 2,
       "version_minor": 0
      },
      "text/plain": [
       "Breaking:   0%|          | 0/1 [00:00<?, ?it/s]"
      ]
     },
     "metadata": {},
     "output_type": "display_data"
    },
    {
     "data": {
      "application/vnd.jupyter.widget-view+json": {
       "model_id": "",
       "version_major": 2,
       "version_minor": 0
      },
      "text/plain": [
       "Breaking:   0%|          | 0/4 [00:00<?, ?it/s]"
      ]
     },
     "metadata": {},
     "output_type": "display_data"
    },
    {
     "data": {
      "application/vnd.jupyter.widget-view+json": {
       "model_id": "",
       "version_major": 2,
       "version_minor": 0
      },
      "text/plain": [
       "Breaking:   0%|          | 0/7 [00:00<?, ?it/s]"
      ]
     },
     "metadata": {},
     "output_type": "display_data"
    },
    {
     "data": {
      "application/vnd.jupyter.widget-view+json": {
       "model_id": "",
       "version_major": 2,
       "version_minor": 0
      },
      "text/plain": [
       "Breaking:   0%|          | 0/5 [00:00<?, ?it/s]"
      ]
     },
     "metadata": {},
     "output_type": "display_data"
    },
    {
     "data": {
      "application/vnd.jupyter.widget-view+json": {
       "model_id": "",
       "version_major": 2,
       "version_minor": 0
      },
      "text/plain": [
       "Breaking:   0%|          | 0/8 [00:00<?, ?it/s]"
      ]
     },
     "metadata": {},
     "output_type": "display_data"
    },
    {
     "data": {
      "application/vnd.jupyter.widget-view+json": {
       "model_id": "",
       "version_major": 2,
       "version_minor": 0
      },
      "text/plain": [
       "Breaking:   0%|          | 0/1 [00:00<?, ?it/s]"
      ]
     },
     "metadata": {},
     "output_type": "display_data"
    },
    {
     "data": {
      "application/vnd.jupyter.widget-view+json": {
       "model_id": "",
       "version_major": 2,
       "version_minor": 0
      },
      "text/plain": [
       "Breaking:   0%|          | 0/4 [00:00<?, ?it/s]"
      ]
     },
     "metadata": {},
     "output_type": "display_data"
    },
    {
     "data": {
      "application/vnd.jupyter.widget-view+json": {
       "model_id": "",
       "version_major": 2,
       "version_minor": 0
      },
      "text/plain": [
       "Breaking:   0%|          | 0/2 [00:00<?, ?it/s]"
      ]
     },
     "metadata": {},
     "output_type": "display_data"
    },
    {
     "data": {
      "application/vnd.jupyter.widget-view+json": {
       "model_id": "",
       "version_major": 2,
       "version_minor": 0
      },
      "text/plain": [
       "Breaking:   0%|          | 0/1 [00:00<?, ?it/s]"
      ]
     },
     "metadata": {},
     "output_type": "display_data"
    },
    {
     "data": {
      "application/vnd.jupyter.widget-view+json": {
       "model_id": "",
       "version_major": 2,
       "version_minor": 0
      },
      "text/plain": [
       "Breaking:   0%|          | 0/6 [00:00<?, ?it/s]"
      ]
     },
     "metadata": {},
     "output_type": "display_data"
    },
    {
     "data": {
      "application/vnd.jupyter.widget-view+json": {
       "model_id": "",
       "version_major": 2,
       "version_minor": 0
      },
      "text/plain": [
       "Breaking:   0%|          | 0/2 [00:00<?, ?it/s]"
      ]
     },
     "metadata": {},
     "output_type": "display_data"
    },
    {
     "data": {
      "application/vnd.jupyter.widget-view+json": {
       "model_id": "",
       "version_major": 2,
       "version_minor": 0
      },
      "text/plain": [
       "Breaking:   0%|          | 0/7 [00:00<?, ?it/s]"
      ]
     },
     "metadata": {},
     "output_type": "display_data"
    },
    {
     "data": {
      "application/vnd.jupyter.widget-view+json": {
       "model_id": "",
       "version_major": 2,
       "version_minor": 0
      },
      "text/plain": [
       "Breaking:   0%|          | 0/5 [00:00<?, ?it/s]"
      ]
     },
     "metadata": {},
     "output_type": "display_data"
    },
    {
     "data": {
      "application/vnd.jupyter.widget-view+json": {
       "model_id": "",
       "version_major": 2,
       "version_minor": 0
      },
      "text/plain": [
       "Breaking:   0%|          | 0/4 [00:00<?, ?it/s]"
      ]
     },
     "metadata": {},
     "output_type": "display_data"
    },
    {
     "data": {
      "application/vnd.jupyter.widget-view+json": {
       "model_id": "",
       "version_major": 2,
       "version_minor": 0
      },
      "text/plain": [
       "Breaking:   0%|          | 0/3 [00:00<?, ?it/s]"
      ]
     },
     "metadata": {},
     "output_type": "display_data"
    },
    {
     "data": {
      "application/vnd.jupyter.widget-view+json": {
       "model_id": "",
       "version_major": 2,
       "version_minor": 0
      },
      "text/plain": [
       "Breaking:   0%|          | 0/2 [00:00<?, ?it/s]"
      ]
     },
     "metadata": {},
     "output_type": "display_data"
    },
    {
     "data": {
      "application/vnd.jupyter.widget-view+json": {
       "model_id": "",
       "version_major": 2,
       "version_minor": 0
      },
      "text/plain": [
       "Breaking:   0%|          | 0/3 [00:00<?, ?it/s]"
      ]
     },
     "metadata": {},
     "output_type": "display_data"
    },
    {
     "data": {
      "application/vnd.jupyter.widget-view+json": {
       "model_id": "",
       "version_major": 2,
       "version_minor": 0
      },
      "text/plain": [
       "Breaking:   0%|          | 0/1 [00:00<?, ?it/s]"
      ]
     },
     "metadata": {},
     "output_type": "display_data"
    },
    {
     "data": {
      "application/vnd.jupyter.widget-view+json": {
       "model_id": "",
       "version_major": 2,
       "version_minor": 0
      },
      "text/plain": [
       "Breaking:   0%|          | 0/1 [00:00<?, ?it/s]"
      ]
     },
     "metadata": {},
     "output_type": "display_data"
    },
    {
     "data": {
      "application/vnd.jupyter.widget-view+json": {
       "model_id": "",
       "version_major": 2,
       "version_minor": 0
      },
      "text/plain": [
       "Breaking:   0%|          | 0/3 [00:00<?, ?it/s]"
      ]
     },
     "metadata": {},
     "output_type": "display_data"
    },
    {
     "data": {
      "application/vnd.jupyter.widget-view+json": {
       "model_id": "",
       "version_major": 2,
       "version_minor": 0
      },
      "text/plain": [
       "Breaking:   0%|          | 0/3 [00:00<?, ?it/s]"
      ]
     },
     "metadata": {},
     "output_type": "display_data"
    },
    {
     "data": {
      "application/vnd.jupyter.widget-view+json": {
       "model_id": "",
       "version_major": 2,
       "version_minor": 0
      },
      "text/plain": [
       "Breaking:   0%|          | 0/2 [00:00<?, ?it/s]"
      ]
     },
     "metadata": {},
     "output_type": "display_data"
    },
    {
     "data": {
      "application/vnd.jupyter.widget-view+json": {
       "model_id": "",
       "version_major": 2,
       "version_minor": 0
      },
      "text/plain": [
       "Breaking:   0%|          | 0/3 [00:00<?, ?it/s]"
      ]
     },
     "metadata": {},
     "output_type": "display_data"
    },
    {
     "data": {
      "application/vnd.jupyter.widget-view+json": {
       "model_id": "",
       "version_major": 2,
       "version_minor": 0
      },
      "text/plain": [
       "Breaking:   0%|          | 0/6 [00:00<?, ?it/s]"
      ]
     },
     "metadata": {},
     "output_type": "display_data"
    },
    {
     "data": {
      "application/vnd.jupyter.widget-view+json": {
       "model_id": "",
       "version_major": 2,
       "version_minor": 0
      },
      "text/plain": [
       "Breaking:   0%|          | 0/2 [00:00<?, ?it/s]"
      ]
     },
     "metadata": {},
     "output_type": "display_data"
    },
    {
     "data": {
      "application/vnd.jupyter.widget-view+json": {
       "model_id": "",
       "version_major": 2,
       "version_minor": 0
      },
      "text/plain": [
       "Breaking:   0%|          | 0/2 [00:00<?, ?it/s]"
      ]
     },
     "metadata": {},
     "output_type": "display_data"
    },
    {
     "data": {
      "application/vnd.jupyter.widget-view+json": {
       "model_id": "",
       "version_major": 2,
       "version_minor": 0
      },
      "text/plain": [
       "Breaking:   0%|          | 0/3 [00:00<?, ?it/s]"
      ]
     },
     "metadata": {},
     "output_type": "display_data"
    },
    {
     "data": {
      "application/vnd.jupyter.widget-view+json": {
       "model_id": "",
       "version_major": 2,
       "version_minor": 0
      },
      "text/plain": [
       "Breaking:   0%|          | 0/6 [00:00<?, ?it/s]"
      ]
     },
     "metadata": {},
     "output_type": "display_data"
    },
    {
     "data": {
      "application/vnd.jupyter.widget-view+json": {
       "model_id": "",
       "version_major": 2,
       "version_minor": 0
      },
      "text/plain": [
       "Breaking:   0%|          | 0/6 [00:00<?, ?it/s]"
      ]
     },
     "metadata": {},
     "output_type": "display_data"
    },
    {
     "data": {
      "application/vnd.jupyter.widget-view+json": {
       "model_id": "",
       "version_major": 2,
       "version_minor": 0
      },
      "text/plain": [
       "Breaking:   0%|          | 0/2 [00:00<?, ?it/s]"
      ]
     },
     "metadata": {},
     "output_type": "display_data"
    },
    {
     "data": {
      "application/vnd.jupyter.widget-view+json": {
       "model_id": "",
       "version_major": 2,
       "version_minor": 0
      },
      "text/plain": [
       "Breaking:   0%|          | 0/5 [00:00<?, ?it/s]"
      ]
     },
     "metadata": {},
     "output_type": "display_data"
    },
    {
     "data": {
      "application/vnd.jupyter.widget-view+json": {
       "model_id": "",
       "version_major": 2,
       "version_minor": 0
      },
      "text/plain": [
       "Breaking:   0%|          | 0/2 [00:00<?, ?it/s]"
      ]
     },
     "metadata": {},
     "output_type": "display_data"
    },
    {
     "data": {
      "application/vnd.jupyter.widget-view+json": {
       "model_id": "",
       "version_major": 2,
       "version_minor": 0
      },
      "text/plain": [
       "Breaking:   0%|          | 0/11 [00:00<?, ?it/s]"
      ]
     },
     "metadata": {},
     "output_type": "display_data"
    },
    {
     "data": {
      "application/vnd.jupyter.widget-view+json": {
       "model_id": "",
       "version_major": 2,
       "version_minor": 0
      },
      "text/plain": [
       "Breaking:   0%|          | 0/3 [00:00<?, ?it/s]"
      ]
     },
     "metadata": {},
     "output_type": "display_data"
    },
    {
     "data": {
      "application/vnd.jupyter.widget-view+json": {
       "model_id": "",
       "version_major": 2,
       "version_minor": 0
      },
      "text/plain": [
       "Breaking:   0%|          | 0/3 [00:00<?, ?it/s]"
      ]
     },
     "metadata": {},
     "output_type": "display_data"
    },
    {
     "data": {
      "application/vnd.jupyter.widget-view+json": {
       "model_id": "",
       "version_major": 2,
       "version_minor": 0
      },
      "text/plain": [
       "Breaking:   0%|          | 0/8 [00:00<?, ?it/s]"
      ]
     },
     "metadata": {},
     "output_type": "display_data"
    },
    {
     "data": {
      "application/vnd.jupyter.widget-view+json": {
       "model_id": "",
       "version_major": 2,
       "version_minor": 0
      },
      "text/plain": [
       "Breaking:   0%|          | 0/9 [00:00<?, ?it/s]"
      ]
     },
     "metadata": {},
     "output_type": "display_data"
    },
    {
     "data": {
      "application/vnd.jupyter.widget-view+json": {
       "model_id": "",
       "version_major": 2,
       "version_minor": 0
      },
      "text/plain": [
       "Breaking:   0%|          | 0/2 [00:00<?, ?it/s]"
      ]
     },
     "metadata": {},
     "output_type": "display_data"
    },
    {
     "data": {
      "application/vnd.jupyter.widget-view+json": {
       "model_id": "",
       "version_major": 2,
       "version_minor": 0
      },
      "text/plain": [
       "Breaking:   0%|          | 0/4 [00:00<?, ?it/s]"
      ]
     },
     "metadata": {},
     "output_type": "display_data"
    },
    {
     "data": {
      "application/vnd.jupyter.widget-view+json": {
       "model_id": "",
       "version_major": 2,
       "version_minor": 0
      },
      "text/plain": [
       "Breaking:   0%|          | 0/4 [00:00<?, ?it/s]"
      ]
     },
     "metadata": {},
     "output_type": "display_data"
    },
    {
     "data": {
      "application/vnd.jupyter.widget-view+json": {
       "model_id": "",
       "version_major": 2,
       "version_minor": 0
      },
      "text/plain": [
       "Breaking:   0%|          | 0/8 [00:00<?, ?it/s]"
      ]
     },
     "metadata": {},
     "output_type": "display_data"
    },
    {
     "data": {
      "application/vnd.jupyter.widget-view+json": {
       "model_id": "",
       "version_major": 2,
       "version_minor": 0
      },
      "text/plain": [
       "Breaking:   0%|          | 0/3 [00:00<?, ?it/s]"
      ]
     },
     "metadata": {},
     "output_type": "display_data"
    },
    {
     "data": {
      "application/vnd.jupyter.widget-view+json": {
       "model_id": "",
       "version_major": 2,
       "version_minor": 0
      },
      "text/plain": [
       "Breaking:   0%|          | 0/3 [00:00<?, ?it/s]"
      ]
     },
     "metadata": {},
     "output_type": "display_data"
    },
    {
     "data": {
      "application/vnd.jupyter.widget-view+json": {
       "model_id": "",
       "version_major": 2,
       "version_minor": 0
      },
      "text/plain": [
       "Breaking:   0%|          | 0/4 [00:00<?, ?it/s]"
      ]
     },
     "metadata": {},
     "output_type": "display_data"
    },
    {
     "data": {
      "application/vnd.jupyter.widget-view+json": {
       "model_id": "",
       "version_major": 2,
       "version_minor": 0
      },
      "text/plain": [
       "Breaking:   0%|          | 0/2 [00:00<?, ?it/s]"
      ]
     },
     "metadata": {},
     "output_type": "display_data"
    },
    {
     "data": {
      "application/vnd.jupyter.widget-view+json": {
       "model_id": "",
       "version_major": 2,
       "version_minor": 0
      },
      "text/plain": [
       "Breaking:   0%|          | 0/3 [00:00<?, ?it/s]"
      ]
     },
     "metadata": {},
     "output_type": "display_data"
    },
    {
     "data": {
      "application/vnd.jupyter.widget-view+json": {
       "model_id": "",
       "version_major": 2,
       "version_minor": 0
      },
      "text/plain": [
       "Breaking:   0%|          | 0/3 [00:00<?, ?it/s]"
      ]
     },
     "metadata": {},
     "output_type": "display_data"
    },
    {
     "data": {
      "application/vnd.jupyter.widget-view+json": {
       "model_id": "",
       "version_major": 2,
       "version_minor": 0
      },
      "text/plain": [
       "Breaking:   0%|          | 0/3 [00:00<?, ?it/s]"
      ]
     },
     "metadata": {},
     "output_type": "display_data"
    },
    {
     "data": {
      "application/vnd.jupyter.widget-view+json": {
       "model_id": "",
       "version_major": 2,
       "version_minor": 0
      },
      "text/plain": [
       "Breaking:   0%|          | 0/7 [00:00<?, ?it/s]"
      ]
     },
     "metadata": {},
     "output_type": "display_data"
    },
    {
     "data": {
      "application/vnd.jupyter.widget-view+json": {
       "model_id": "",
       "version_major": 2,
       "version_minor": 0
      },
      "text/plain": [
       "Breaking:   0%|          | 0/5 [00:00<?, ?it/s]"
      ]
     },
     "metadata": {},
     "output_type": "display_data"
    },
    {
     "data": {
      "application/vnd.jupyter.widget-view+json": {
       "model_id": "",
       "version_major": 2,
       "version_minor": 0
      },
      "text/plain": [
       "Breaking:   0%|          | 0/2 [00:00<?, ?it/s]"
      ]
     },
     "metadata": {},
     "output_type": "display_data"
    },
    {
     "data": {
      "application/vnd.jupyter.widget-view+json": {
       "model_id": "",
       "version_major": 2,
       "version_minor": 0
      },
      "text/plain": [
       "Breaking:   0%|          | 0/8 [00:00<?, ?it/s]"
      ]
     },
     "metadata": {},
     "output_type": "display_data"
    },
    {
     "data": {
      "application/vnd.jupyter.widget-view+json": {
       "model_id": "",
       "version_major": 2,
       "version_minor": 0
      },
      "text/plain": [
       "Breaking:   0%|          | 0/3 [00:00<?, ?it/s]"
      ]
     },
     "metadata": {},
     "output_type": "display_data"
    },
    {
     "data": {
      "application/vnd.jupyter.widget-view+json": {
       "model_id": "",
       "version_major": 2,
       "version_minor": 0
      },
      "text/plain": [
       "Breaking:   0%|          | 0/6 [00:00<?, ?it/s]"
      ]
     },
     "metadata": {},
     "output_type": "display_data"
    },
    {
     "data": {
      "application/vnd.jupyter.widget-view+json": {
       "model_id": "",
       "version_major": 2,
       "version_minor": 0
      },
      "text/plain": [
       "Breaking:   0%|          | 0/4 [00:00<?, ?it/s]"
      ]
     },
     "metadata": {},
     "output_type": "display_data"
    },
    {
     "data": {
      "application/vnd.jupyter.widget-view+json": {
       "model_id": "",
       "version_major": 2,
       "version_minor": 0
      },
      "text/plain": [
       "Breaking:   0%|          | 0/4 [00:00<?, ?it/s]"
      ]
     },
     "metadata": {},
     "output_type": "display_data"
    },
    {
     "data": {
      "application/vnd.jupyter.widget-view+json": {
       "model_id": "",
       "version_major": 2,
       "version_minor": 0
      },
      "text/plain": [
       "Breaking:   0%|          | 0/4 [00:00<?, ?it/s]"
      ]
     },
     "metadata": {},
     "output_type": "display_data"
    },
    {
     "data": {
      "application/vnd.jupyter.widget-view+json": {
       "model_id": "",
       "version_major": 2,
       "version_minor": 0
      },
      "text/plain": [
       "Breaking:   0%|          | 0/3 [00:00<?, ?it/s]"
      ]
     },
     "metadata": {},
     "output_type": "display_data"
    },
    {
     "data": {
      "application/vnd.jupyter.widget-view+json": {
       "model_id": "",
       "version_major": 2,
       "version_minor": 0
      },
      "text/plain": [
       "Breaking:   0%|          | 0/1 [00:00<?, ?it/s]"
      ]
     },
     "metadata": {},
     "output_type": "display_data"
    },
    {
     "data": {
      "application/vnd.jupyter.widget-view+json": {
       "model_id": "",
       "version_major": 2,
       "version_minor": 0
      },
      "text/plain": [
       "Breaking:   0%|          | 0/2 [00:00<?, ?it/s]"
      ]
     },
     "metadata": {},
     "output_type": "display_data"
    },
    {
     "data": {
      "application/vnd.jupyter.widget-view+json": {
       "model_id": "",
       "version_major": 2,
       "version_minor": 0
      },
      "text/plain": [
       "Breaking:   0%|          | 0/3 [00:00<?, ?it/s]"
      ]
     },
     "metadata": {},
     "output_type": "display_data"
    },
    {
     "data": {
      "application/vnd.jupyter.widget-view+json": {
       "model_id": "",
       "version_major": 2,
       "version_minor": 0
      },
      "text/plain": [
       "Breaking:   0%|          | 0/5 [00:00<?, ?it/s]"
      ]
     },
     "metadata": {},
     "output_type": "display_data"
    },
    {
     "data": {
      "application/vnd.jupyter.widget-view+json": {
       "model_id": "",
       "version_major": 2,
       "version_minor": 0
      },
      "text/plain": [
       "Breaking:   0%|          | 0/4 [00:00<?, ?it/s]"
      ]
     },
     "metadata": {},
     "output_type": "display_data"
    },
    {
     "data": {
      "application/vnd.jupyter.widget-view+json": {
       "model_id": "",
       "version_major": 2,
       "version_minor": 0
      },
      "text/plain": [
       "Breaking:   0%|          | 0/8 [00:00<?, ?it/s]"
      ]
     },
     "metadata": {},
     "output_type": "display_data"
    },
    {
     "data": {
      "application/vnd.jupyter.widget-view+json": {
       "model_id": "",
       "version_major": 2,
       "version_minor": 0
      },
      "text/plain": [
       "Breaking:   0%|          | 0/3 [00:00<?, ?it/s]"
      ]
     },
     "metadata": {},
     "output_type": "display_data"
    },
    {
     "data": {
      "application/vnd.jupyter.widget-view+json": {
       "model_id": "",
       "version_major": 2,
       "version_minor": 0
      },
      "text/plain": [
       "Breaking:   0%|          | 0/4 [00:00<?, ?it/s]"
      ]
     },
     "metadata": {},
     "output_type": "display_data"
    },
    {
     "data": {
      "application/vnd.jupyter.widget-view+json": {
       "model_id": "",
       "version_major": 2,
       "version_minor": 0
      },
      "text/plain": [
       "Breaking:   0%|          | 0/1 [00:00<?, ?it/s]"
      ]
     },
     "metadata": {},
     "output_type": "display_data"
    },
    {
     "data": {
      "application/vnd.jupyter.widget-view+json": {
       "model_id": "",
       "version_major": 2,
       "version_minor": 0
      },
      "text/plain": [
       "Breaking:   0%|          | 0/1 [00:00<?, ?it/s]"
      ]
     },
     "metadata": {},
     "output_type": "display_data"
    },
    {
     "data": {
      "application/vnd.jupyter.widget-view+json": {
       "model_id": "",
       "version_major": 2,
       "version_minor": 0
      },
      "text/plain": [
       "Breaking:   0%|          | 0/2 [00:00<?, ?it/s]"
      ]
     },
     "metadata": {},
     "output_type": "display_data"
    },
    {
     "data": {
      "application/vnd.jupyter.widget-view+json": {
       "model_id": "",
       "version_major": 2,
       "version_minor": 0
      },
      "text/plain": [
       "Breaking:   0%|          | 0/4 [00:00<?, ?it/s]"
      ]
     },
     "metadata": {},
     "output_type": "display_data"
    },
    {
     "data": {
      "application/vnd.jupyter.widget-view+json": {
       "model_id": "",
       "version_major": 2,
       "version_minor": 0
      },
      "text/plain": [
       "Breaking:   0%|          | 0/3 [00:00<?, ?it/s]"
      ]
     },
     "metadata": {},
     "output_type": "display_data"
    },
    {
     "data": {
      "application/vnd.jupyter.widget-view+json": {
       "model_id": "",
       "version_major": 2,
       "version_minor": 0
      },
      "text/plain": [
       "Breaking:   0%|          | 0/2 [00:00<?, ?it/s]"
      ]
     },
     "metadata": {},
     "output_type": "display_data"
    },
    {
     "data": {
      "application/vnd.jupyter.widget-view+json": {
       "model_id": "",
       "version_major": 2,
       "version_minor": 0
      },
      "text/plain": [
       "Breaking:   0%|          | 0/3 [00:00<?, ?it/s]"
      ]
     },
     "metadata": {},
     "output_type": "display_data"
    },
    {
     "data": {
      "application/vnd.jupyter.widget-view+json": {
       "model_id": "",
       "version_major": 2,
       "version_minor": 0
      },
      "text/plain": [
       "Breaking:   0%|          | 0/7 [00:00<?, ?it/s]"
      ]
     },
     "metadata": {},
     "output_type": "display_data"
    },
    {
     "data": {
      "application/vnd.jupyter.widget-view+json": {
       "model_id": "",
       "version_major": 2,
       "version_minor": 0
      },
      "text/plain": [
       "Breaking:   0%|          | 0/3 [00:00<?, ?it/s]"
      ]
     },
     "metadata": {},
     "output_type": "display_data"
    },
    {
     "data": {
      "application/vnd.jupyter.widget-view+json": {
       "model_id": "",
       "version_major": 2,
       "version_minor": 0
      },
      "text/plain": [
       "Breaking:   0%|          | 0/5 [00:00<?, ?it/s]"
      ]
     },
     "metadata": {},
     "output_type": "display_data"
    },
    {
     "data": {
      "application/vnd.jupyter.widget-view+json": {
       "model_id": "",
       "version_major": 2,
       "version_minor": 0
      },
      "text/plain": [
       "Breaking:   0%|          | 0/3 [00:00<?, ?it/s]"
      ]
     },
     "metadata": {},
     "output_type": "display_data"
    },
    {
     "data": {
      "application/vnd.jupyter.widget-view+json": {
       "model_id": "",
       "version_major": 2,
       "version_minor": 0
      },
      "text/plain": [
       "Breaking:   0%|          | 0/3 [00:00<?, ?it/s]"
      ]
     },
     "metadata": {},
     "output_type": "display_data"
    },
    {
     "data": {
      "application/vnd.jupyter.widget-view+json": {
       "model_id": "",
       "version_major": 2,
       "version_minor": 0
      },
      "text/plain": [
       "Breaking:   0%|          | 0/2 [00:00<?, ?it/s]"
      ]
     },
     "metadata": {},
     "output_type": "display_data"
    },
    {
     "data": {
      "application/vnd.jupyter.widget-view+json": {
       "model_id": "",
       "version_major": 2,
       "version_minor": 0
      },
      "text/plain": [
       "Breaking:   0%|          | 0/2 [00:00<?, ?it/s]"
      ]
     },
     "metadata": {},
     "output_type": "display_data"
    },
    {
     "data": {
      "application/vnd.jupyter.widget-view+json": {
       "model_id": "",
       "version_major": 2,
       "version_minor": 0
      },
      "text/plain": [
       "Breaking:   0%|          | 0/1 [00:00<?, ?it/s]"
      ]
     },
     "metadata": {},
     "output_type": "display_data"
    },
    {
     "data": {
      "application/vnd.jupyter.widget-view+json": {
       "model_id": "",
       "version_major": 2,
       "version_minor": 0
      },
      "text/plain": [
       "Breaking:   0%|          | 0/8 [00:00<?, ?it/s]"
      ]
     },
     "metadata": {},
     "output_type": "display_data"
    },
    {
     "data": {
      "application/vnd.jupyter.widget-view+json": {
       "model_id": "",
       "version_major": 2,
       "version_minor": 0
      },
      "text/plain": [
       "Breaking:   0%|          | 0/1 [00:00<?, ?it/s]"
      ]
     },
     "metadata": {},
     "output_type": "display_data"
    },
    {
     "data": {
      "application/vnd.jupyter.widget-view+json": {
       "model_id": "",
       "version_major": 2,
       "version_minor": 0
      },
      "text/plain": [
       "Breaking:   0%|          | 0/2 [00:00<?, ?it/s]"
      ]
     },
     "metadata": {},
     "output_type": "display_data"
    },
    {
     "data": {
      "application/vnd.jupyter.widget-view+json": {
       "model_id": "",
       "version_major": 2,
       "version_minor": 0
      },
      "text/plain": [
       "Breaking:   0%|          | 0/2 [00:00<?, ?it/s]"
      ]
     },
     "metadata": {},
     "output_type": "display_data"
    },
    {
     "data": {
      "application/vnd.jupyter.widget-view+json": {
       "model_id": "",
       "version_major": 2,
       "version_minor": 0
      },
      "text/plain": [
       "Breaking:   0%|          | 0/3 [00:00<?, ?it/s]"
      ]
     },
     "metadata": {},
     "output_type": "display_data"
    },
    {
     "data": {
      "application/vnd.jupyter.widget-view+json": {
       "model_id": "",
       "version_major": 2,
       "version_minor": 0
      },
      "text/plain": [
       "Breaking:   0%|          | 0/1 [00:00<?, ?it/s]"
      ]
     },
     "metadata": {},
     "output_type": "display_data"
    },
    {
     "data": {
      "application/vnd.jupyter.widget-view+json": {
       "model_id": "",
       "version_major": 2,
       "version_minor": 0
      },
      "text/plain": [
       "Breaking:   0%|          | 0/3 [00:00<?, ?it/s]"
      ]
     },
     "metadata": {},
     "output_type": "display_data"
    },
    {
     "data": {
      "application/vnd.jupyter.widget-view+json": {
       "model_id": "",
       "version_major": 2,
       "version_minor": 0
      },
      "text/plain": [
       "Breaking:   0%|          | 0/1 [00:00<?, ?it/s]"
      ]
     },
     "metadata": {},
     "output_type": "display_data"
    },
    {
     "data": {
      "application/vnd.jupyter.widget-view+json": {
       "model_id": "",
       "version_major": 2,
       "version_minor": 0
      },
      "text/plain": [
       "Breaking:   0%|          | 0/2 [00:00<?, ?it/s]"
      ]
     },
     "metadata": {},
     "output_type": "display_data"
    },
    {
     "data": {
      "application/vnd.jupyter.widget-view+json": {
       "model_id": "",
       "version_major": 2,
       "version_minor": 0
      },
      "text/plain": [
       "Breaking:   0%|          | 0/5 [00:00<?, ?it/s]"
      ]
     },
     "metadata": {},
     "output_type": "display_data"
    },
    {
     "data": {
      "application/vnd.jupyter.widget-view+json": {
       "model_id": "",
       "version_major": 2,
       "version_minor": 0
      },
      "text/plain": [
       "Breaking:   0%|          | 0/2 [00:00<?, ?it/s]"
      ]
     },
     "metadata": {},
     "output_type": "display_data"
    },
    {
     "data": {
      "application/vnd.jupyter.widget-view+json": {
       "model_id": "",
       "version_major": 2,
       "version_minor": 0
      },
      "text/plain": [
       "Breaking:   0%|          | 0/5 [00:00<?, ?it/s]"
      ]
     },
     "metadata": {},
     "output_type": "display_data"
    },
    {
     "data": {
      "application/vnd.jupyter.widget-view+json": {
       "model_id": "",
       "version_major": 2,
       "version_minor": 0
      },
      "text/plain": [
       "Breaking:   0%|          | 0/1 [00:00<?, ?it/s]"
      ]
     },
     "metadata": {},
     "output_type": "display_data"
    },
    {
     "data": {
      "application/vnd.jupyter.widget-view+json": {
       "model_id": "",
       "version_major": 2,
       "version_minor": 0
      },
      "text/plain": [
       "Breaking:   0%|          | 0/6 [00:00<?, ?it/s]"
      ]
     },
     "metadata": {},
     "output_type": "display_data"
    },
    {
     "data": {
      "application/vnd.jupyter.widget-view+json": {
       "model_id": "",
       "version_major": 2,
       "version_minor": 0
      },
      "text/plain": [
       "Breaking:   0%|          | 0/4 [00:00<?, ?it/s]"
      ]
     },
     "metadata": {},
     "output_type": "display_data"
    },
    {
     "data": {
      "application/vnd.jupyter.widget-view+json": {
       "model_id": "",
       "version_major": 2,
       "version_minor": 0
      },
      "text/plain": [
       "Breaking:   0%|          | 0/2 [00:00<?, ?it/s]"
      ]
     },
     "metadata": {},
     "output_type": "display_data"
    },
    {
     "data": {
      "application/vnd.jupyter.widget-view+json": {
       "model_id": "",
       "version_major": 2,
       "version_minor": 0
      },
      "text/plain": [
       "Breaking:   0%|          | 0/3 [00:00<?, ?it/s]"
      ]
     },
     "metadata": {},
     "output_type": "display_data"
    },
    {
     "data": {
      "application/vnd.jupyter.widget-view+json": {
       "model_id": "",
       "version_major": 2,
       "version_minor": 0
      },
      "text/plain": [
       "Breaking:   0%|          | 0/8 [00:00<?, ?it/s]"
      ]
     },
     "metadata": {},
     "output_type": "display_data"
    },
    {
     "data": {
      "application/vnd.jupyter.widget-view+json": {
       "model_id": "",
       "version_major": 2,
       "version_minor": 0
      },
      "text/plain": [
       "Breaking:   0%|          | 0/5 [00:00<?, ?it/s]"
      ]
     },
     "metadata": {},
     "output_type": "display_data"
    },
    {
     "data": {
      "application/vnd.jupyter.widget-view+json": {
       "model_id": "",
       "version_major": 2,
       "version_minor": 0
      },
      "text/plain": [
       "Breaking:   0%|          | 0/2 [00:00<?, ?it/s]"
      ]
     },
     "metadata": {},
     "output_type": "display_data"
    },
    {
     "data": {
      "application/vnd.jupyter.widget-view+json": {
       "model_id": "",
       "version_major": 2,
       "version_minor": 0
      },
      "text/plain": [
       "Breaking:   0%|          | 0/4 [00:00<?, ?it/s]"
      ]
     },
     "metadata": {},
     "output_type": "display_data"
    },
    {
     "data": {
      "application/vnd.jupyter.widget-view+json": {
       "model_id": "",
       "version_major": 2,
       "version_minor": 0
      },
      "text/plain": [
       "Breaking:   0%|          | 0/1 [00:00<?, ?it/s]"
      ]
     },
     "metadata": {},
     "output_type": "display_data"
    },
    {
     "data": {
      "application/vnd.jupyter.widget-view+json": {
       "model_id": "",
       "version_major": 2,
       "version_minor": 0
      },
      "text/plain": [
       "Breaking:   0%|          | 0/1 [00:00<?, ?it/s]"
      ]
     },
     "metadata": {},
     "output_type": "display_data"
    },
    {
     "data": {
      "application/vnd.jupyter.widget-view+json": {
       "model_id": "",
       "version_major": 2,
       "version_minor": 0
      },
      "text/plain": [
       "Breaking:   0%|          | 0/8 [00:00<?, ?it/s]"
      ]
     },
     "metadata": {},
     "output_type": "display_data"
    },
    {
     "data": {
      "application/vnd.jupyter.widget-view+json": {
       "model_id": "",
       "version_major": 2,
       "version_minor": 0
      },
      "text/plain": [
       "Breaking:   0%|          | 0/7 [00:00<?, ?it/s]"
      ]
     },
     "metadata": {},
     "output_type": "display_data"
    },
    {
     "data": {
      "application/vnd.jupyter.widget-view+json": {
       "model_id": "",
       "version_major": 2,
       "version_minor": 0
      },
      "text/plain": [
       "Breaking:   0%|          | 0/2 [00:00<?, ?it/s]"
      ]
     },
     "metadata": {},
     "output_type": "display_data"
    },
    {
     "data": {
      "application/vnd.jupyter.widget-view+json": {
       "model_id": "",
       "version_major": 2,
       "version_minor": 0
      },
      "text/plain": [
       "Breaking:   0%|          | 0/4 [00:00<?, ?it/s]"
      ]
     },
     "metadata": {},
     "output_type": "display_data"
    },
    {
     "data": {
      "application/vnd.jupyter.widget-view+json": {
       "model_id": "",
       "version_major": 2,
       "version_minor": 0
      },
      "text/plain": [
       "Breaking:   0%|          | 0/3 [00:00<?, ?it/s]"
      ]
     },
     "metadata": {},
     "output_type": "display_data"
    },
    {
     "data": {
      "application/vnd.jupyter.widget-view+json": {
       "model_id": "",
       "version_major": 2,
       "version_minor": 0
      },
      "text/plain": [
       "Breaking:   0%|          | 0/2 [00:00<?, ?it/s]"
      ]
     },
     "metadata": {},
     "output_type": "display_data"
    },
    {
     "data": {
      "application/vnd.jupyter.widget-view+json": {
       "model_id": "",
       "version_major": 2,
       "version_minor": 0
      },
      "text/plain": [
       "Breaking:   0%|          | 0/3 [00:00<?, ?it/s]"
      ]
     },
     "metadata": {},
     "output_type": "display_data"
    },
    {
     "data": {
      "application/vnd.jupyter.widget-view+json": {
       "model_id": "",
       "version_major": 2,
       "version_minor": 0
      },
      "text/plain": [
       "Breaking:   0%|          | 0/5 [00:00<?, ?it/s]"
      ]
     },
     "metadata": {},
     "output_type": "display_data"
    },
    {
     "data": {
      "application/vnd.jupyter.widget-view+json": {
       "model_id": "",
       "version_major": 2,
       "version_minor": 0
      },
      "text/plain": [
       "Breaking:   0%|          | 0/2 [00:00<?, ?it/s]"
      ]
     },
     "metadata": {},
     "output_type": "display_data"
    },
    {
     "data": {
      "application/vnd.jupyter.widget-view+json": {
       "model_id": "",
       "version_major": 2,
       "version_minor": 0
      },
      "text/plain": [
       "Breaking:   0%|          | 0/3 [00:00<?, ?it/s]"
      ]
     },
     "metadata": {},
     "output_type": "display_data"
    },
    {
     "data": {
      "application/vnd.jupyter.widget-view+json": {
       "model_id": "",
       "version_major": 2,
       "version_minor": 0
      },
      "text/plain": [
       "Breaking:   0%|          | 0/1 [00:00<?, ?it/s]"
      ]
     },
     "metadata": {},
     "output_type": "display_data"
    },
    {
     "data": {
      "application/vnd.jupyter.widget-view+json": {
       "model_id": "",
       "version_major": 2,
       "version_minor": 0
      },
      "text/plain": [
       "Breaking:   0%|          | 0/6 [00:00<?, ?it/s]"
      ]
     },
     "metadata": {},
     "output_type": "display_data"
    },
    {
     "data": {
      "application/vnd.jupyter.widget-view+json": {
       "model_id": "",
       "version_major": 2,
       "version_minor": 0
      },
      "text/plain": [
       "Breaking:   0%|          | 0/6 [00:00<?, ?it/s]"
      ]
     },
     "metadata": {},
     "output_type": "display_data"
    },
    {
     "data": {
      "application/vnd.jupyter.widget-view+json": {
       "model_id": "",
       "version_major": 2,
       "version_minor": 0
      },
      "text/plain": [
       "Breaking:   0%|          | 0/6 [00:00<?, ?it/s]"
      ]
     },
     "metadata": {},
     "output_type": "display_data"
    },
    {
     "data": {
      "application/vnd.jupyter.widget-view+json": {
       "model_id": "",
       "version_major": 2,
       "version_minor": 0
      },
      "text/plain": [
       "Breaking:   0%|          | 0/2 [00:00<?, ?it/s]"
      ]
     },
     "metadata": {},
     "output_type": "display_data"
    },
    {
     "data": {
      "application/vnd.jupyter.widget-view+json": {
       "model_id": "",
       "version_major": 2,
       "version_minor": 0
      },
      "text/plain": [
       "Breaking:   0%|          | 0/3 [00:00<?, ?it/s]"
      ]
     },
     "metadata": {},
     "output_type": "display_data"
    },
    {
     "data": {
      "application/vnd.jupyter.widget-view+json": {
       "model_id": "",
       "version_major": 2,
       "version_minor": 0
      },
      "text/plain": [
       "Breaking:   0%|          | 0/2 [00:00<?, ?it/s]"
      ]
     },
     "metadata": {},
     "output_type": "display_data"
    },
    {
     "data": {
      "application/vnd.jupyter.widget-view+json": {
       "model_id": "",
       "version_major": 2,
       "version_minor": 0
      },
      "text/plain": [
       "Breaking:   0%|          | 0/6 [00:00<?, ?it/s]"
      ]
     },
     "metadata": {},
     "output_type": "display_data"
    },
    {
     "data": {
      "application/vnd.jupyter.widget-view+json": {
       "model_id": "",
       "version_major": 2,
       "version_minor": 0
      },
      "text/plain": [
       "Breaking:   0%|          | 0/3 [00:00<?, ?it/s]"
      ]
     },
     "metadata": {},
     "output_type": "display_data"
    },
    {
     "data": {
      "application/vnd.jupyter.widget-view+json": {
       "model_id": "",
       "version_major": 2,
       "version_minor": 0
      },
      "text/plain": [
       "Breaking:   0%|          | 0/4 [00:00<?, ?it/s]"
      ]
     },
     "metadata": {},
     "output_type": "display_data"
    },
    {
     "data": {
      "application/vnd.jupyter.widget-view+json": {
       "model_id": "",
       "version_major": 2,
       "version_minor": 0
      },
      "text/plain": [
       "Breaking:   0%|          | 0/1 [00:00<?, ?it/s]"
      ]
     },
     "metadata": {},
     "output_type": "display_data"
    },
    {
     "data": {
      "application/vnd.jupyter.widget-view+json": {
       "model_id": "",
       "version_major": 2,
       "version_minor": 0
      },
      "text/plain": [
       "Breaking:   0%|          | 0/2 [00:00<?, ?it/s]"
      ]
     },
     "metadata": {},
     "output_type": "display_data"
    },
    {
     "data": {
      "application/vnd.jupyter.widget-view+json": {
       "model_id": "",
       "version_major": 2,
       "version_minor": 0
      },
      "text/plain": [
       "Breaking:   0%|          | 0/4 [00:00<?, ?it/s]"
      ]
     },
     "metadata": {},
     "output_type": "display_data"
    },
    {
     "data": {
      "application/vnd.jupyter.widget-view+json": {
       "model_id": "",
       "version_major": 2,
       "version_minor": 0
      },
      "text/plain": [
       "Breaking:   0%|          | 0/5 [00:00<?, ?it/s]"
      ]
     },
     "metadata": {},
     "output_type": "display_data"
    },
    {
     "data": {
      "application/vnd.jupyter.widget-view+json": {
       "model_id": "",
       "version_major": 2,
       "version_minor": 0
      },
      "text/plain": [
       "Breaking:   0%|          | 0/1 [00:00<?, ?it/s]"
      ]
     },
     "metadata": {},
     "output_type": "display_data"
    },
    {
     "data": {
      "application/vnd.jupyter.widget-view+json": {
       "model_id": "",
       "version_major": 2,
       "version_minor": 0
      },
      "text/plain": [
       "Breaking:   0%|          | 0/4 [00:00<?, ?it/s]"
      ]
     },
     "metadata": {},
     "output_type": "display_data"
    },
    {
     "data": {
      "application/vnd.jupyter.widget-view+json": {
       "model_id": "",
       "version_major": 2,
       "version_minor": 0
      },
      "text/plain": [
       "Breaking:   0%|          | 0/11 [00:00<?, ?it/s]"
      ]
     },
     "metadata": {},
     "output_type": "display_data"
    },
    {
     "data": {
      "application/vnd.jupyter.widget-view+json": {
       "model_id": "",
       "version_major": 2,
       "version_minor": 0
      },
      "text/plain": [
       "Breaking:   0%|          | 0/4 [00:00<?, ?it/s]"
      ]
     },
     "metadata": {},
     "output_type": "display_data"
    },
    {
     "data": {
      "application/vnd.jupyter.widget-view+json": {
       "model_id": "",
       "version_major": 2,
       "version_minor": 0
      },
      "text/plain": [
       "Breaking:   0%|          | 0/5 [00:00<?, ?it/s]"
      ]
     },
     "metadata": {},
     "output_type": "display_data"
    },
    {
     "data": {
      "application/vnd.jupyter.widget-view+json": {
       "model_id": "",
       "version_major": 2,
       "version_minor": 0
      },
      "text/plain": [
       "Breaking:   0%|          | 0/3 [00:00<?, ?it/s]"
      ]
     },
     "metadata": {},
     "output_type": "display_data"
    },
    {
     "data": {
      "application/vnd.jupyter.widget-view+json": {
       "model_id": "",
       "version_major": 2,
       "version_minor": 0
      },
      "text/plain": [
       "Breaking:   0%|          | 0/7 [00:00<?, ?it/s]"
      ]
     },
     "metadata": {},
     "output_type": "display_data"
    },
    {
     "data": {
      "application/vnd.jupyter.widget-view+json": {
       "model_id": "",
       "version_major": 2,
       "version_minor": 0
      },
      "text/plain": [
       "Breaking:   0%|          | 0/7 [00:00<?, ?it/s]"
      ]
     },
     "metadata": {},
     "output_type": "display_data"
    },
    {
     "data": {
      "application/vnd.jupyter.widget-view+json": {
       "model_id": "",
       "version_major": 2,
       "version_minor": 0
      },
      "text/plain": [
       "Breaking:   0%|          | 0/2 [00:00<?, ?it/s]"
      ]
     },
     "metadata": {},
     "output_type": "display_data"
    },
    {
     "data": {
      "application/vnd.jupyter.widget-view+json": {
       "model_id": "",
       "version_major": 2,
       "version_minor": 0
      },
      "text/plain": [
       "Breaking:   0%|          | 0/2 [00:00<?, ?it/s]"
      ]
     },
     "metadata": {},
     "output_type": "display_data"
    },
    {
     "data": {
      "application/vnd.jupyter.widget-view+json": {
       "model_id": "",
       "version_major": 2,
       "version_minor": 0
      },
      "text/plain": [
       "Breaking:   0%|          | 0/2 [00:00<?, ?it/s]"
      ]
     },
     "metadata": {},
     "output_type": "display_data"
    },
    {
     "data": {
      "application/vnd.jupyter.widget-view+json": {
       "model_id": "",
       "version_major": 2,
       "version_minor": 0
      },
      "text/plain": [
       "Breaking:   0%|          | 0/4 [00:00<?, ?it/s]"
      ]
     },
     "metadata": {},
     "output_type": "display_data"
    },
    {
     "data": {
      "application/vnd.jupyter.widget-view+json": {
       "model_id": "",
       "version_major": 2,
       "version_minor": 0
      },
      "text/plain": [
       "Breaking:   0%|          | 0/2 [00:00<?, ?it/s]"
      ]
     },
     "metadata": {},
     "output_type": "display_data"
    },
    {
     "data": {
      "application/vnd.jupyter.widget-view+json": {
       "model_id": "",
       "version_major": 2,
       "version_minor": 0
      },
      "text/plain": [
       "Breaking:   0%|          | 0/2 [00:00<?, ?it/s]"
      ]
     },
     "metadata": {},
     "output_type": "display_data"
    },
    {
     "data": {
      "application/vnd.jupyter.widget-view+json": {
       "model_id": "",
       "version_major": 2,
       "version_minor": 0
      },
      "text/plain": [
       "Breaking:   0%|          | 0/6 [00:00<?, ?it/s]"
      ]
     },
     "metadata": {},
     "output_type": "display_data"
    },
    {
     "data": {
      "application/vnd.jupyter.widget-view+json": {
       "model_id": "",
       "version_major": 2,
       "version_minor": 0
      },
      "text/plain": [
       "Breaking:   0%|          | 0/4 [00:00<?, ?it/s]"
      ]
     },
     "metadata": {},
     "output_type": "display_data"
    },
    {
     "data": {
      "application/vnd.jupyter.widget-view+json": {
       "model_id": "",
       "version_major": 2,
       "version_minor": 0
      },
      "text/plain": [
       "Breaking:   0%|          | 0/3 [00:00<?, ?it/s]"
      ]
     },
     "metadata": {},
     "output_type": "display_data"
    },
    {
     "data": {
      "application/vnd.jupyter.widget-view+json": {
       "model_id": "",
       "version_major": 2,
       "version_minor": 0
      },
      "text/plain": [
       "Breaking:   0%|          | 0/3 [00:00<?, ?it/s]"
      ]
     },
     "metadata": {},
     "output_type": "display_data"
    },
    {
     "data": {
      "application/vnd.jupyter.widget-view+json": {
       "model_id": "",
       "version_major": 2,
       "version_minor": 0
      },
      "text/plain": [
       "Breaking:   0%|          | 0/5 [00:00<?, ?it/s]"
      ]
     },
     "metadata": {},
     "output_type": "display_data"
    },
    {
     "data": {
      "application/vnd.jupyter.widget-view+json": {
       "model_id": "",
       "version_major": 2,
       "version_minor": 0
      },
      "text/plain": [
       "Breaking:   0%|          | 0/3 [00:00<?, ?it/s]"
      ]
     },
     "metadata": {},
     "output_type": "display_data"
    },
    {
     "data": {
      "application/vnd.jupyter.widget-view+json": {
       "model_id": "",
       "version_major": 2,
       "version_minor": 0
      },
      "text/plain": [
       "Breaking:   0%|          | 0/8 [00:00<?, ?it/s]"
      ]
     },
     "metadata": {},
     "output_type": "display_data"
    },
    {
     "data": {
      "application/vnd.jupyter.widget-view+json": {
       "model_id": "",
       "version_major": 2,
       "version_minor": 0
      },
      "text/plain": [
       "Breaking:   0%|          | 0/9 [00:00<?, ?it/s]"
      ]
     },
     "metadata": {},
     "output_type": "display_data"
    },
    {
     "data": {
      "application/vnd.jupyter.widget-view+json": {
       "model_id": "",
       "version_major": 2,
       "version_minor": 0
      },
      "text/plain": [
       "Breaking:   0%|          | 0/1 [00:00<?, ?it/s]"
      ]
     },
     "metadata": {},
     "output_type": "display_data"
    },
    {
     "data": {
      "application/vnd.jupyter.widget-view+json": {
       "model_id": "",
       "version_major": 2,
       "version_minor": 0
      },
      "text/plain": [
       "Breaking:   0%|          | 0/7 [00:00<?, ?it/s]"
      ]
     },
     "metadata": {},
     "output_type": "display_data"
    },
    {
     "data": {
      "application/vnd.jupyter.widget-view+json": {
       "model_id": "",
       "version_major": 2,
       "version_minor": 0
      },
      "text/plain": [
       "Breaking:   0%|          | 0/1 [00:00<?, ?it/s]"
      ]
     },
     "metadata": {},
     "output_type": "display_data"
    },
    {
     "data": {
      "application/vnd.jupyter.widget-view+json": {
       "model_id": "",
       "version_major": 2,
       "version_minor": 0
      },
      "text/plain": [
       "Breaking:   0%|          | 0/4 [00:00<?, ?it/s]"
      ]
     },
     "metadata": {},
     "output_type": "display_data"
    },
    {
     "data": {
      "application/vnd.jupyter.widget-view+json": {
       "model_id": "",
       "version_major": 2,
       "version_minor": 0
      },
      "text/plain": [
       "Breaking:   0%|          | 0/4 [00:00<?, ?it/s]"
      ]
     },
     "metadata": {},
     "output_type": "display_data"
    },
    {
     "data": {
      "application/vnd.jupyter.widget-view+json": {
       "model_id": "",
       "version_major": 2,
       "version_minor": 0
      },
      "text/plain": [
       "Breaking:   0%|          | 0/5 [00:00<?, ?it/s]"
      ]
     },
     "metadata": {},
     "output_type": "display_data"
    },
    {
     "data": {
      "application/vnd.jupyter.widget-view+json": {
       "model_id": "",
       "version_major": 2,
       "version_minor": 0
      },
      "text/plain": [
       "Breaking:   0%|          | 0/7 [00:00<?, ?it/s]"
      ]
     },
     "metadata": {},
     "output_type": "display_data"
    },
    {
     "data": {
      "application/vnd.jupyter.widget-view+json": {
       "model_id": "",
       "version_major": 2,
       "version_minor": 0
      },
      "text/plain": [
       "Breaking:   0%|          | 0/5 [00:00<?, ?it/s]"
      ]
     },
     "metadata": {},
     "output_type": "display_data"
    },
    {
     "data": {
      "application/vnd.jupyter.widget-view+json": {
       "model_id": "",
       "version_major": 2,
       "version_minor": 0
      },
      "text/plain": [
       "Breaking:   0%|          | 0/5 [00:00<?, ?it/s]"
      ]
     },
     "metadata": {},
     "output_type": "display_data"
    },
    {
     "data": {
      "application/vnd.jupyter.widget-view+json": {
       "model_id": "",
       "version_major": 2,
       "version_minor": 0
      },
      "text/plain": [
       "Breaking:   0%|          | 0/6 [00:00<?, ?it/s]"
      ]
     },
     "metadata": {},
     "output_type": "display_data"
    },
    {
     "data": {
      "application/vnd.jupyter.widget-view+json": {
       "model_id": "",
       "version_major": 2,
       "version_minor": 0
      },
      "text/plain": [
       "Breaking:   0%|          | 0/1 [00:00<?, ?it/s]"
      ]
     },
     "metadata": {},
     "output_type": "display_data"
    },
    {
     "data": {
      "application/vnd.jupyter.widget-view+json": {
       "model_id": "",
       "version_major": 2,
       "version_minor": 0
      },
      "text/plain": [
       "Breaking:   0%|          | 0/2 [00:00<?, ?it/s]"
      ]
     },
     "metadata": {},
     "output_type": "display_data"
    },
    {
     "data": {
      "application/vnd.jupyter.widget-view+json": {
       "model_id": "",
       "version_major": 2,
       "version_minor": 0
      },
      "text/plain": [
       "Breaking:   0%|          | 0/5 [00:00<?, ?it/s]"
      ]
     },
     "metadata": {},
     "output_type": "display_data"
    },
    {
     "data": {
      "application/vnd.jupyter.widget-view+json": {
       "model_id": "",
       "version_major": 2,
       "version_minor": 0
      },
      "text/plain": [
       "Breaking:   0%|          | 0/6 [00:00<?, ?it/s]"
      ]
     },
     "metadata": {},
     "output_type": "display_data"
    },
    {
     "data": {
      "application/vnd.jupyter.widget-view+json": {
       "model_id": "",
       "version_major": 2,
       "version_minor": 0
      },
      "text/plain": [
       "Breaking:   0%|          | 0/6 [00:00<?, ?it/s]"
      ]
     },
     "metadata": {},
     "output_type": "display_data"
    },
    {
     "data": {
      "application/vnd.jupyter.widget-view+json": {
       "model_id": "",
       "version_major": 2,
       "version_minor": 0
      },
      "text/plain": [
       "Breaking:   0%|          | 0/1 [00:00<?, ?it/s]"
      ]
     },
     "metadata": {},
     "output_type": "display_data"
    },
    {
     "data": {
      "application/vnd.jupyter.widget-view+json": {
       "model_id": "",
       "version_major": 2,
       "version_minor": 0
      },
      "text/plain": [
       "Breaking:   0%|          | 0/2 [00:00<?, ?it/s]"
      ]
     },
     "metadata": {},
     "output_type": "display_data"
    },
    {
     "data": {
      "application/vnd.jupyter.widget-view+json": {
       "model_id": "",
       "version_major": 2,
       "version_minor": 0
      },
      "text/plain": [
       "Breaking:   0%|          | 0/2 [00:00<?, ?it/s]"
      ]
     },
     "metadata": {},
     "output_type": "display_data"
    },
    {
     "data": {
      "application/vnd.jupyter.widget-view+json": {
       "model_id": "",
       "version_major": 2,
       "version_minor": 0
      },
      "text/plain": [
       "Breaking:   0%|          | 0/3 [00:00<?, ?it/s]"
      ]
     },
     "metadata": {},
     "output_type": "display_data"
    },
    {
     "data": {
      "application/vnd.jupyter.widget-view+json": {
       "model_id": "",
       "version_major": 2,
       "version_minor": 0
      },
      "text/plain": [
       "Breaking:   0%|          | 0/3 [00:00<?, ?it/s]"
      ]
     },
     "metadata": {},
     "output_type": "display_data"
    },
    {
     "data": {
      "application/vnd.jupyter.widget-view+json": {
       "model_id": "",
       "version_major": 2,
       "version_minor": 0
      },
      "text/plain": [
       "Breaking:   0%|          | 0/3 [00:00<?, ?it/s]"
      ]
     },
     "metadata": {},
     "output_type": "display_data"
    },
    {
     "data": {
      "application/vnd.jupyter.widget-view+json": {
       "model_id": "",
       "version_major": 2,
       "version_minor": 0
      },
      "text/plain": [
       "Breaking:   0%|          | 0/4 [00:00<?, ?it/s]"
      ]
     },
     "metadata": {},
     "output_type": "display_data"
    },
    {
     "data": {
      "application/vnd.jupyter.widget-view+json": {
       "model_id": "",
       "version_major": 2,
       "version_minor": 0
      },
      "text/plain": [
       "Breaking:   0%|          | 0/3 [00:00<?, ?it/s]"
      ]
     },
     "metadata": {},
     "output_type": "display_data"
    },
    {
     "data": {
      "application/vnd.jupyter.widget-view+json": {
       "model_id": "",
       "version_major": 2,
       "version_minor": 0
      },
      "text/plain": [
       "Breaking:   0%|          | 0/3 [00:00<?, ?it/s]"
      ]
     },
     "metadata": {},
     "output_type": "display_data"
    },
    {
     "data": {
      "application/vnd.jupyter.widget-view+json": {
       "model_id": "",
       "version_major": 2,
       "version_minor": 0
      },
      "text/plain": [
       "Breaking:   0%|          | 0/6 [00:00<?, ?it/s]"
      ]
     },
     "metadata": {},
     "output_type": "display_data"
    },
    {
     "data": {
      "application/vnd.jupyter.widget-view+json": {
       "model_id": "",
       "version_major": 2,
       "version_minor": 0
      },
      "text/plain": [
       "Breaking:   0%|          | 0/2 [00:00<?, ?it/s]"
      ]
     },
     "metadata": {},
     "output_type": "display_data"
    },
    {
     "data": {
      "application/vnd.jupyter.widget-view+json": {
       "model_id": "",
       "version_major": 2,
       "version_minor": 0
      },
      "text/plain": [
       "Breaking:   0%|          | 0/4 [00:00<?, ?it/s]"
      ]
     },
     "metadata": {},
     "output_type": "display_data"
    },
    {
     "data": {
      "application/vnd.jupyter.widget-view+json": {
       "model_id": "",
       "version_major": 2,
       "version_minor": 0
      },
      "text/plain": [
       "Breaking:   0%|          | 0/8 [00:00<?, ?it/s]"
      ]
     },
     "metadata": {},
     "output_type": "display_data"
    },
    {
     "data": {
      "application/vnd.jupyter.widget-view+json": {
       "model_id": "",
       "version_major": 2,
       "version_minor": 0
      },
      "text/plain": [
       "Breaking:   0%|          | 0/3 [00:00<?, ?it/s]"
      ]
     },
     "metadata": {},
     "output_type": "display_data"
    },
    {
     "data": {
      "application/vnd.jupyter.widget-view+json": {
       "model_id": "",
       "version_major": 2,
       "version_minor": 0
      },
      "text/plain": [
       "Breaking:   0%|          | 0/1 [00:00<?, ?it/s]"
      ]
     },
     "metadata": {},
     "output_type": "display_data"
    },
    {
     "data": {
      "application/vnd.jupyter.widget-view+json": {
       "model_id": "",
       "version_major": 2,
       "version_minor": 0
      },
      "text/plain": [
       "Breaking:   0%|          | 0/2 [00:00<?, ?it/s]"
      ]
     },
     "metadata": {},
     "output_type": "display_data"
    },
    {
     "data": {
      "application/vnd.jupyter.widget-view+json": {
       "model_id": "",
       "version_major": 2,
       "version_minor": 0
      },
      "text/plain": [
       "Breaking:   0%|          | 0/3 [00:00<?, ?it/s]"
      ]
     },
     "metadata": {},
     "output_type": "display_data"
    },
    {
     "data": {
      "application/vnd.jupyter.widget-view+json": {
       "model_id": "",
       "version_major": 2,
       "version_minor": 0
      },
      "text/plain": [
       "Breaking:   0%|          | 0/3 [00:00<?, ?it/s]"
      ]
     },
     "metadata": {},
     "output_type": "display_data"
    },
    {
     "data": {
      "application/vnd.jupyter.widget-view+json": {
       "model_id": "",
       "version_major": 2,
       "version_minor": 0
      },
      "text/plain": [
       "Breaking:   0%|          | 0/2 [00:00<?, ?it/s]"
      ]
     },
     "metadata": {},
     "output_type": "display_data"
    },
    {
     "data": {
      "application/vnd.jupyter.widget-view+json": {
       "model_id": "",
       "version_major": 2,
       "version_minor": 0
      },
      "text/plain": [
       "Breaking:   0%|          | 0/2 [00:00<?, ?it/s]"
      ]
     },
     "metadata": {},
     "output_type": "display_data"
    },
    {
     "data": {
      "application/vnd.jupyter.widget-view+json": {
       "model_id": "",
       "version_major": 2,
       "version_minor": 0
      },
      "text/plain": [
       "Breaking:   0%|          | 0/2 [00:00<?, ?it/s]"
      ]
     },
     "metadata": {},
     "output_type": "display_data"
    },
    {
     "data": {
      "application/vnd.jupyter.widget-view+json": {
       "model_id": "",
       "version_major": 2,
       "version_minor": 0
      },
      "text/plain": [
       "Breaking:   0%|          | 0/4 [00:00<?, ?it/s]"
      ]
     },
     "metadata": {},
     "output_type": "display_data"
    },
    {
     "data": {
      "application/vnd.jupyter.widget-view+json": {
       "model_id": "",
       "version_major": 2,
       "version_minor": 0
      },
      "text/plain": [
       "Breaking:   0%|          | 0/10 [00:00<?, ?it/s]"
      ]
     },
     "metadata": {},
     "output_type": "display_data"
    },
    {
     "data": {
      "application/vnd.jupyter.widget-view+json": {
       "model_id": "",
       "version_major": 2,
       "version_minor": 0
      },
      "text/plain": [
       "Breaking:   0%|          | 0/5 [00:00<?, ?it/s]"
      ]
     },
     "metadata": {},
     "output_type": "display_data"
    },
    {
     "data": {
      "application/vnd.jupyter.widget-view+json": {
       "model_id": "",
       "version_major": 2,
       "version_minor": 0
      },
      "text/plain": [
       "Breaking:   0%|          | 0/1 [00:00<?, ?it/s]"
      ]
     },
     "metadata": {},
     "output_type": "display_data"
    },
    {
     "data": {
      "application/vnd.jupyter.widget-view+json": {
       "model_id": "",
       "version_major": 2,
       "version_minor": 0
      },
      "text/plain": [
       "Breaking:   0%|          | 0/6 [00:00<?, ?it/s]"
      ]
     },
     "metadata": {},
     "output_type": "display_data"
    },
    {
     "data": {
      "application/vnd.jupyter.widget-view+json": {
       "model_id": "",
       "version_major": 2,
       "version_minor": 0
      },
      "text/plain": [
       "Breaking:   0%|          | 0/5 [00:00<?, ?it/s]"
      ]
     },
     "metadata": {},
     "output_type": "display_data"
    },
    {
     "data": {
      "application/vnd.jupyter.widget-view+json": {
       "model_id": "",
       "version_major": 2,
       "version_minor": 0
      },
      "text/plain": [
       "Breaking:   0%|          | 0/7 [00:00<?, ?it/s]"
      ]
     },
     "metadata": {},
     "output_type": "display_data"
    },
    {
     "data": {
      "application/vnd.jupyter.widget-view+json": {
       "model_id": "",
       "version_major": 2,
       "version_minor": 0
      },
      "text/plain": [
       "Breaking:   0%|          | 0/4 [00:00<?, ?it/s]"
      ]
     },
     "metadata": {},
     "output_type": "display_data"
    },
    {
     "data": {
      "application/vnd.jupyter.widget-view+json": {
       "model_id": "",
       "version_major": 2,
       "version_minor": 0
      },
      "text/plain": [
       "Breaking:   0%|          | 0/7 [00:00<?, ?it/s]"
      ]
     },
     "metadata": {},
     "output_type": "display_data"
    },
    {
     "data": {
      "application/vnd.jupyter.widget-view+json": {
       "model_id": "",
       "version_major": 2,
       "version_minor": 0
      },
      "text/plain": [
       "Breaking:   0%|          | 0/2 [00:00<?, ?it/s]"
      ]
     },
     "metadata": {},
     "output_type": "display_data"
    },
    {
     "data": {
      "application/vnd.jupyter.widget-view+json": {
       "model_id": "",
       "version_major": 2,
       "version_minor": 0
      },
      "text/plain": [
       "Breaking:   0%|          | 0/7 [00:00<?, ?it/s]"
      ]
     },
     "metadata": {},
     "output_type": "display_data"
    },
    {
     "data": {
      "application/vnd.jupyter.widget-view+json": {
       "model_id": "",
       "version_major": 2,
       "version_minor": 0
      },
      "text/plain": [
       "Breaking:   0%|          | 0/6 [00:00<?, ?it/s]"
      ]
     },
     "metadata": {},
     "output_type": "display_data"
    },
    {
     "data": {
      "application/vnd.jupyter.widget-view+json": {
       "model_id": "",
       "version_major": 2,
       "version_minor": 0
      },
      "text/plain": [
       "Breaking:   0%|          | 0/6 [00:00<?, ?it/s]"
      ]
     },
     "metadata": {},
     "output_type": "display_data"
    },
    {
     "data": {
      "application/vnd.jupyter.widget-view+json": {
       "model_id": "",
       "version_major": 2,
       "version_minor": 0
      },
      "text/plain": [
       "Breaking:   0%|          | 0/3 [00:00<?, ?it/s]"
      ]
     },
     "metadata": {},
     "output_type": "display_data"
    },
    {
     "data": {
      "application/vnd.jupyter.widget-view+json": {
       "model_id": "",
       "version_major": 2,
       "version_minor": 0
      },
      "text/plain": [
       "Breaking:   0%|          | 0/4 [00:00<?, ?it/s]"
      ]
     },
     "metadata": {},
     "output_type": "display_data"
    },
    {
     "data": {
      "application/vnd.jupyter.widget-view+json": {
       "model_id": "",
       "version_major": 2,
       "version_minor": 0
      },
      "text/plain": [
       "Breaking:   0%|          | 0/7 [00:00<?, ?it/s]"
      ]
     },
     "metadata": {},
     "output_type": "display_data"
    },
    {
     "data": {
      "application/vnd.jupyter.widget-view+json": {
       "model_id": "",
       "version_major": 2,
       "version_minor": 0
      },
      "text/plain": [
       "Breaking:   0%|          | 0/3 [00:00<?, ?it/s]"
      ]
     },
     "metadata": {},
     "output_type": "display_data"
    },
    {
     "data": {
      "application/vnd.jupyter.widget-view+json": {
       "model_id": "",
       "version_major": 2,
       "version_minor": 0
      },
      "text/plain": [
       "Breaking:   0%|          | 0/8 [00:00<?, ?it/s]"
      ]
     },
     "metadata": {},
     "output_type": "display_data"
    },
    {
     "data": {
      "application/vnd.jupyter.widget-view+json": {
       "model_id": "",
       "version_major": 2,
       "version_minor": 0
      },
      "text/plain": [
       "Breaking:   0%|          | 0/2 [00:00<?, ?it/s]"
      ]
     },
     "metadata": {},
     "output_type": "display_data"
    },
    {
     "data": {
      "application/vnd.jupyter.widget-view+json": {
       "model_id": "",
       "version_major": 2,
       "version_minor": 0
      },
      "text/plain": [
       "Breaking:   0%|          | 0/3 [00:00<?, ?it/s]"
      ]
     },
     "metadata": {},
     "output_type": "display_data"
    },
    {
     "data": {
      "application/vnd.jupyter.widget-view+json": {
       "model_id": "",
       "version_major": 2,
       "version_minor": 0
      },
      "text/plain": [
       "Breaking:   0%|          | 0/7 [00:00<?, ?it/s]"
      ]
     },
     "metadata": {},
     "output_type": "display_data"
    },
    {
     "data": {
      "application/vnd.jupyter.widget-view+json": {
       "model_id": "",
       "version_major": 2,
       "version_minor": 0
      },
      "text/plain": [
       "Breaking:   0%|          | 0/2 [00:00<?, ?it/s]"
      ]
     },
     "metadata": {},
     "output_type": "display_data"
    },
    {
     "data": {
      "application/vnd.jupyter.widget-view+json": {
       "model_id": "",
       "version_major": 2,
       "version_minor": 0
      },
      "text/plain": [
       "Breaking:   0%|          | 0/4 [00:00<?, ?it/s]"
      ]
     },
     "metadata": {},
     "output_type": "display_data"
    },
    {
     "data": {
      "application/vnd.jupyter.widget-view+json": {
       "model_id": "",
       "version_major": 2,
       "version_minor": 0
      },
      "text/plain": [
       "Breaking:   0%|          | 0/9 [00:00<?, ?it/s]"
      ]
     },
     "metadata": {},
     "output_type": "display_data"
    },
    {
     "data": {
      "application/vnd.jupyter.widget-view+json": {
       "model_id": "",
       "version_major": 2,
       "version_minor": 0
      },
      "text/plain": [
       "Breaking:   0%|          | 0/5 [00:00<?, ?it/s]"
      ]
     },
     "metadata": {},
     "output_type": "display_data"
    },
    {
     "data": {
      "application/vnd.jupyter.widget-view+json": {
       "model_id": "",
       "version_major": 2,
       "version_minor": 0
      },
      "text/plain": [
       "Breaking:   0%|          | 0/1 [00:00<?, ?it/s]"
      ]
     },
     "metadata": {},
     "output_type": "display_data"
    },
    {
     "data": {
      "application/vnd.jupyter.widget-view+json": {
       "model_id": "",
       "version_major": 2,
       "version_minor": 0
      },
      "text/plain": [
       "Breaking:   0%|          | 0/7 [00:00<?, ?it/s]"
      ]
     },
     "metadata": {},
     "output_type": "display_data"
    },
    {
     "data": {
      "application/vnd.jupyter.widget-view+json": {
       "model_id": "",
       "version_major": 2,
       "version_minor": 0
      },
      "text/plain": [
       "Breaking:   0%|          | 0/4 [00:00<?, ?it/s]"
      ]
     },
     "metadata": {},
     "output_type": "display_data"
    },
    {
     "data": {
      "application/vnd.jupyter.widget-view+json": {
       "model_id": "",
       "version_major": 2,
       "version_minor": 0
      },
      "text/plain": [
       "Breaking:   0%|          | 0/2 [00:00<?, ?it/s]"
      ]
     },
     "metadata": {},
     "output_type": "display_data"
    },
    {
     "data": {
      "application/vnd.jupyter.widget-view+json": {
       "model_id": "",
       "version_major": 2,
       "version_minor": 0
      },
      "text/plain": [
       "Breaking:   0%|          | 0/2 [00:00<?, ?it/s]"
      ]
     },
     "metadata": {},
     "output_type": "display_data"
    },
    {
     "data": {
      "application/vnd.jupyter.widget-view+json": {
       "model_id": "",
       "version_major": 2,
       "version_minor": 0
      },
      "text/plain": [
       "Breaking:   0%|          | 0/2 [00:00<?, ?it/s]"
      ]
     },
     "metadata": {},
     "output_type": "display_data"
    },
    {
     "data": {
      "application/vnd.jupyter.widget-view+json": {
       "model_id": "",
       "version_major": 2,
       "version_minor": 0
      },
      "text/plain": [
       "Breaking:   0%|          | 0/4 [00:00<?, ?it/s]"
      ]
     },
     "metadata": {},
     "output_type": "display_data"
    },
    {
     "data": {
      "application/vnd.jupyter.widget-view+json": {
       "model_id": "",
       "version_major": 2,
       "version_minor": 0
      },
      "text/plain": [
       "Breaking:   0%|          | 0/3 [00:00<?, ?it/s]"
      ]
     },
     "metadata": {},
     "output_type": "display_data"
    },
    {
     "data": {
      "application/vnd.jupyter.widget-view+json": {
       "model_id": "",
       "version_major": 2,
       "version_minor": 0
      },
      "text/plain": [
       "Breaking:   0%|          | 0/1 [00:00<?, ?it/s]"
      ]
     },
     "metadata": {},
     "output_type": "display_data"
    },
    {
     "data": {
      "application/vnd.jupyter.widget-view+json": {
       "model_id": "",
       "version_major": 2,
       "version_minor": 0
      },
      "text/plain": [
       "Breaking:   0%|          | 0/2 [00:00<?, ?it/s]"
      ]
     },
     "metadata": {},
     "output_type": "display_data"
    },
    {
     "data": {
      "application/vnd.jupyter.widget-view+json": {
       "model_id": "",
       "version_major": 2,
       "version_minor": 0
      },
      "text/plain": [
       "Breaking:   0%|          | 0/5 [00:00<?, ?it/s]"
      ]
     },
     "metadata": {},
     "output_type": "display_data"
    },
    {
     "data": {
      "application/vnd.jupyter.widget-view+json": {
       "model_id": "",
       "version_major": 2,
       "version_minor": 0
      },
      "text/plain": [
       "Breaking:   0%|          | 0/3 [00:00<?, ?it/s]"
      ]
     },
     "metadata": {},
     "output_type": "display_data"
    },
    {
     "data": {
      "application/vnd.jupyter.widget-view+json": {
       "model_id": "",
       "version_major": 2,
       "version_minor": 0
      },
      "text/plain": [
       "Breaking:   0%|          | 0/4 [00:00<?, ?it/s]"
      ]
     },
     "metadata": {},
     "output_type": "display_data"
    },
    {
     "data": {
      "application/vnd.jupyter.widget-view+json": {
       "model_id": "",
       "version_major": 2,
       "version_minor": 0
      },
      "text/plain": [
       "Breaking:   0%|          | 0/1 [00:00<?, ?it/s]"
      ]
     },
     "metadata": {},
     "output_type": "display_data"
    },
    {
     "data": {
      "application/vnd.jupyter.widget-view+json": {
       "model_id": "",
       "version_major": 2,
       "version_minor": 0
      },
      "text/plain": [
       "Breaking:   0%|          | 0/5 [00:00<?, ?it/s]"
      ]
     },
     "metadata": {},
     "output_type": "display_data"
    },
    {
     "data": {
      "application/vnd.jupyter.widget-view+json": {
       "model_id": "",
       "version_major": 2,
       "version_minor": 0
      },
      "text/plain": [
       "Breaking:   0%|          | 0/1 [00:00<?, ?it/s]"
      ]
     },
     "metadata": {},
     "output_type": "display_data"
    },
    {
     "data": {
      "application/vnd.jupyter.widget-view+json": {
       "model_id": "",
       "version_major": 2,
       "version_minor": 0
      },
      "text/plain": [
       "Breaking:   0%|          | 0/4 [00:00<?, ?it/s]"
      ]
     },
     "metadata": {},
     "output_type": "display_data"
    },
    {
     "data": {
      "application/vnd.jupyter.widget-view+json": {
       "model_id": "",
       "version_major": 2,
       "version_minor": 0
      },
      "text/plain": [
       "Breaking:   0%|          | 0/5 [00:00<?, ?it/s]"
      ]
     },
     "metadata": {},
     "output_type": "display_data"
    },
    {
     "data": {
      "application/vnd.jupyter.widget-view+json": {
       "model_id": "",
       "version_major": 2,
       "version_minor": 0
      },
      "text/plain": [
       "Breaking:   0%|          | 0/2 [00:00<?, ?it/s]"
      ]
     },
     "metadata": {},
     "output_type": "display_data"
    },
    {
     "data": {
      "application/vnd.jupyter.widget-view+json": {
       "model_id": "",
       "version_major": 2,
       "version_minor": 0
      },
      "text/plain": [
       "Breaking:   0%|          | 0/3 [00:00<?, ?it/s]"
      ]
     },
     "metadata": {},
     "output_type": "display_data"
    },
    {
     "data": {
      "application/vnd.jupyter.widget-view+json": {
       "model_id": "",
       "version_major": 2,
       "version_minor": 0
      },
      "text/plain": [
       "Breaking:   0%|          | 0/4 [00:00<?, ?it/s]"
      ]
     },
     "metadata": {},
     "output_type": "display_data"
    },
    {
     "data": {
      "application/vnd.jupyter.widget-view+json": {
       "model_id": "",
       "version_major": 2,
       "version_minor": 0
      },
      "text/plain": [
       "Breaking:   0%|          | 0/3 [00:00<?, ?it/s]"
      ]
     },
     "metadata": {},
     "output_type": "display_data"
    },
    {
     "data": {
      "application/vnd.jupyter.widget-view+json": {
       "model_id": "",
       "version_major": 2,
       "version_minor": 0
      },
      "text/plain": [
       "Breaking:   0%|          | 0/1 [00:00<?, ?it/s]"
      ]
     },
     "metadata": {},
     "output_type": "display_data"
    },
    {
     "name": "stderr",
     "output_type": "stream",
     "text": [
      "WARNING : Soma 288 not found in node table. (navis)\n",
      "WARNING:navis:Soma 288 not found in node table.\n",
      "WARNING : Soma 288 not found in node table. (navis)\n",
      "WARNING:navis:Soma 288 not found in node table.\n",
      "WARNING : Soma 288 not found in node table. (navis)\n",
      "WARNING:navis:Soma 288 not found in node table.\n",
      "WARNING : Soma 288 not found in node table. (navis)\n",
      "WARNING:navis:Soma 288 not found in node table.\n",
      "WARNING : Soma 288 not found in node table. (navis)\n",
      "WARNING:navis:Soma 288 not found in node table.\n",
      "WARNING : Soma 228 not found in node table. (navis)\n",
      "WARNING:navis:Soma 228 not found in node table.\n",
      "WARNING : Soma 228 not found in node table. (navis)\n",
      "WARNING:navis:Soma 228 not found in node table.\n",
      "WARNING : Soma 228 not found in node table. (navis)\n",
      "WARNING:navis:Soma 228 not found in node table.\n",
      "WARNING : Soma 228 not found in node table. (navis)\n",
      "WARNING:navis:Soma 228 not found in node table.\n",
      "WARNING : Soma 6850 not found in node table. (navis)\n",
      "WARNING:navis:Soma 6850 not found in node table.\n",
      "WARNING : Soma 119 not found in node table. (navis)\n",
      "WARNING:navis:Soma 119 not found in node table.\n",
      "WARNING : Soma 119 not found in node table. (navis)\n",
      "WARNING:navis:Soma 119 not found in node table.\n",
      "WARNING : Soma 119 not found in node table. (navis)\n",
      "WARNING:navis:Soma 119 not found in node table.\n",
      "WARNING : Soma 119 not found in node table. (navis)\n",
      "WARNING:navis:Soma 119 not found in node table.\n",
      "WARNING : Soma 80 not found in node table. (navis)\n",
      "WARNING:navis:Soma 80 not found in node table.\n",
      "WARNING : Soma 327 not found in node table. (navis)\n",
      "WARNING:navis:Soma 327 not found in node table.\n",
      "WARNING : Soma 327 not found in node table. (navis)\n",
      "WARNING:navis:Soma 327 not found in node table.\n",
      "WARNING : Soma 327 not found in node table. (navis)\n",
      "WARNING:navis:Soma 327 not found in node table.\n",
      "WARNING : Soma 386 not found in node table. (navis)\n",
      "WARNING:navis:Soma 386 not found in node table.\n",
      "WARNING : Soma 386 not found in node table. (navis)\n",
      "WARNING:navis:Soma 386 not found in node table.\n",
      "WARNING : Soma 386 not found in node table. (navis)\n",
      "WARNING:navis:Soma 386 not found in node table.\n",
      "WARNING : Soma 386 not found in node table. (navis)\n",
      "WARNING:navis:Soma 386 not found in node table.\n",
      "WARNING : Soma 238 not found in node table. (navis)\n",
      "WARNING:navis:Soma 238 not found in node table.\n",
      "WARNING : Soma 238 not found in node table. (navis)\n",
      "WARNING:navis:Soma 238 not found in node table.\n",
      "WARNING : Soma 4316 not found in node table. (navis)\n",
      "WARNING:navis:Soma 4316 not found in node table.\n",
      "WARNING : Soma 5013 not found in node table. (navis)\n",
      "WARNING:navis:Soma 5013 not found in node table.\n",
      "WARNING : Soma 5013 not found in node table. (navis)\n",
      "WARNING:navis:Soma 5013 not found in node table.\n",
      "WARNING : Soma 410 not found in node table. (navis)\n",
      "WARNING:navis:Soma 410 not found in node table.\n",
      "WARNING : Soma 410 not found in node table. (navis)\n",
      "WARNING:navis:Soma 410 not found in node table.\n",
      "WARNING : Soma 410 not found in node table. (navis)\n",
      "WARNING:navis:Soma 410 not found in node table.\n",
      "WARNING : Soma 410 not found in node table. (navis)\n",
      "WARNING:navis:Soma 410 not found in node table.\n",
      "WARNING : Soma 410 not found in node table. (navis)\n",
      "WARNING:navis:Soma 410 not found in node table.\n",
      "WARNING : Soma 218 not found in node table. (navis)\n",
      "WARNING:navis:Soma 218 not found in node table.\n",
      "WARNING : Soma 218 not found in node table. (navis)\n",
      "WARNING:navis:Soma 218 not found in node table.\n",
      "WARNING : Soma 266 not found in node table. (navis)\n",
      "WARNING:navis:Soma 266 not found in node table.\n",
      "WARNING : Soma 266 not found in node table. (navis)\n",
      "WARNING:navis:Soma 266 not found in node table.\n",
      "WARNING : Soma 266 not found in node table. (navis)\n",
      "WARNING:navis:Soma 266 not found in node table.\n",
      "WARNING : Soma 5231 not found in node table. (navis)\n",
      "WARNING:navis:Soma 5231 not found in node table.\n",
      "WARNING : Soma 201 not found in node table. (navis)\n",
      "WARNING:navis:Soma 201 not found in node table.\n",
      "WARNING : Soma 201 not found in node table. (navis)\n",
      "WARNING:navis:Soma 201 not found in node table.\n",
      "WARNING : Soma 9259 not found in node table. (navis)\n",
      "WARNING:navis:Soma 9259 not found in node table.\n",
      "WARNING : Soma 9259 not found in node table. (navis)\n",
      "WARNING:navis:Soma 9259 not found in node table.\n",
      "WARNING : Soma 9259 not found in node table. (navis)\n",
      "WARNING:navis:Soma 9259 not found in node table.\n",
      "WARNING : Soma 9259 not found in node table. (navis)\n",
      "WARNING:navis:Soma 9259 not found in node table.\n",
      "WARNING : Soma 9259 not found in node table. (navis)\n",
      "WARNING:navis:Soma 9259 not found in node table.\n",
      "WARNING : Soma 9259 not found in node table. (navis)\n",
      "WARNING:navis:Soma 9259 not found in node table.\n",
      "WARNING : Soma 9259 not found in node table. (navis)\n",
      "WARNING:navis:Soma 9259 not found in node table.\n",
      "WARNING : Soma 9259 not found in node table. (navis)\n",
      "WARNING:navis:Soma 9259 not found in node table.\n",
      "WARNING : Soma 7638 not found in node table. (navis)\n",
      "WARNING:navis:Soma 7638 not found in node table.\n",
      "WARNING : Soma 7638 not found in node table. (navis)\n",
      "WARNING:navis:Soma 7638 not found in node table.\n",
      "WARNING : Soma 7638 not found in node table. (navis)\n",
      "WARNING:navis:Soma 7638 not found in node table.\n",
      "WARNING : Soma 7638 not found in node table. (navis)\n",
      "WARNING:navis:Soma 7638 not found in node table.\n",
      "WARNING : Soma 7638 not found in node table. (navis)\n",
      "WARNING:navis:Soma 7638 not found in node table.\n",
      "WARNING : Soma 103 not found in node table. (navis)\n",
      "WARNING:navis:Soma 103 not found in node table.\n",
      "WARNING : Soma 103 not found in node table. (navis)\n",
      "WARNING:navis:Soma 103 not found in node table.\n",
      "WARNING : Soma 103 not found in node table. (navis)\n",
      "WARNING:navis:Soma 103 not found in node table.\n",
      "WARNING : Soma 103 not found in node table. (navis)\n",
      "WARNING:navis:Soma 103 not found in node table.\n",
      "WARNING : Soma 103 not found in node table. (navis)\n",
      "WARNING:navis:Soma 103 not found in node table.\n",
      "WARNING : Soma 103 not found in node table. (navis)\n",
      "WARNING:navis:Soma 103 not found in node table.\n",
      "WARNING : Soma 103 not found in node table. (navis)\n",
      "WARNING:navis:Soma 103 not found in node table.\n",
      "WARNING : Soma 100 not found in node table. (navis)\n",
      "WARNING:navis:Soma 100 not found in node table.\n",
      "WARNING : Soma 100 not found in node table. (navis)\n",
      "WARNING:navis:Soma 100 not found in node table.\n",
      "WARNING : Soma 100 not found in node table. (navis)\n",
      "WARNING:navis:Soma 100 not found in node table.\n",
      "WARNING : Soma 242 not found in node table. (navis)\n",
      "WARNING:navis:Soma 242 not found in node table.\n",
      "WARNING : Soma 242 not found in node table. (navis)\n",
      "WARNING:navis:Soma 242 not found in node table.\n",
      "WARNING : Soma 242 not found in node table. (navis)\n",
      "WARNING:navis:Soma 242 not found in node table.\n",
      "WARNING : Soma 242 not found in node table. (navis)\n",
      "WARNING:navis:Soma 242 not found in node table.\n",
      "WARNING : Soma 242 not found in node table. (navis)\n",
      "WARNING:navis:Soma 242 not found in node table.\n",
      "WARNING : Soma 242 not found in node table. (navis)\n",
      "WARNING:navis:Soma 242 not found in node table.\n",
      "WARNING : Soma 242 not found in node table. (navis)\n",
      "WARNING:navis:Soma 242 not found in node table.\n",
      "WARNING : Soma 242 not found in node table. (navis)\n",
      "WARNING:navis:Soma 242 not found in node table.\n",
      "WARNING : Soma 242 not found in node table. (navis)\n",
      "WARNING:navis:Soma 242 not found in node table.\n",
      "WARNING : Soma 99 not found in node table. (navis)\n",
      "WARNING:navis:Soma 99 not found in node table.\n",
      "WARNING : Soma 99 not found in node table. (navis)\n",
      "WARNING:navis:Soma 99 not found in node table.\n",
      "WARNING : Soma 99 not found in node table. (navis)\n",
      "WARNING:navis:Soma 99 not found in node table.\n",
      "WARNING : Soma 5170 not found in node table. (navis)\n",
      "WARNING:navis:Soma 5170 not found in node table.\n",
      "WARNING : Soma 5170 not found in node table. (navis)\n",
      "WARNING:navis:Soma 5170 not found in node table.\n",
      "WARNING : Soma 5170 not found in node table. (navis)\n",
      "WARNING:navis:Soma 5170 not found in node table.\n",
      "WARNING : Soma 10054 not found in node table. (navis)\n",
      "WARNING:navis:Soma 10054 not found in node table.\n",
      "WARNING : Soma 10054 not found in node table. (navis)\n",
      "WARNING:navis:Soma 10054 not found in node table.\n",
      "WARNING : Soma 10054 not found in node table. (navis)\n",
      "WARNING:navis:Soma 10054 not found in node table.\n",
      "WARNING : Soma 10562 not found in node table. (navis)\n",
      "WARNING:navis:Soma 10562 not found in node table.\n",
      "WARNING : Soma 10562 not found in node table. (navis)\n",
      "WARNING:navis:Soma 10562 not found in node table.\n",
      "WARNING : Soma 77 not found in node table. (navis)\n",
      "WARNING:navis:Soma 77 not found in node table.\n",
      "WARNING : Soma 180 not found in node table. (navis)\n",
      "WARNING:navis:Soma 180 not found in node table.\n",
      "WARNING : Soma 180 not found in node table. (navis)\n",
      "WARNING:navis:Soma 180 not found in node table.\n",
      "WARNING : Soma 180 not found in node table. (navis)\n",
      "WARNING:navis:Soma 180 not found in node table.\n",
      "WARNING : Soma 180 not found in node table. (navis)\n",
      "WARNING:navis:Soma 180 not found in node table.\n",
      "WARNING : Soma 7983 not found in node table. (navis)\n",
      "WARNING:navis:Soma 7983 not found in node table.\n",
      "WARNING : Soma 7983 not found in node table. (navis)\n",
      "WARNING:navis:Soma 7983 not found in node table.\n",
      "WARNING : Soma 7983 not found in node table. (navis)\n",
      "WARNING:navis:Soma 7983 not found in node table.\n",
      "WARNING : Soma 148 not found in node table. (navis)\n",
      "WARNING:navis:Soma 148 not found in node table.\n",
      "WARNING : Soma 148 not found in node table. (navis)\n",
      "WARNING:navis:Soma 148 not found in node table.\n",
      "WARNING : Soma 148 not found in node table. (navis)\n",
      "WARNING:navis:Soma 148 not found in node table.\n",
      "WARNING : Soma 148 not found in node table. (navis)\n",
      "WARNING:navis:Soma 148 not found in node table.\n",
      "WARNING : Soma 8205 not found in node table. (navis)\n",
      "WARNING:navis:Soma 8205 not found in node table.\n",
      "WARNING : Soma 8205 not found in node table. (navis)\n",
      "WARNING:navis:Soma 8205 not found in node table.\n",
      "WARNING : Soma 4776 not found in node table. (navis)\n",
      "WARNING:navis:Soma 4776 not found in node table.\n",
      "WARNING : Soma 4776 not found in node table. (navis)\n",
      "WARNING:navis:Soma 4776 not found in node table.\n",
      "WARNING : Soma 4776 not found in node table. (navis)\n",
      "WARNING:navis:Soma 4776 not found in node table.\n",
      "WARNING : Soma 408 not found in node table. (navis)\n",
      "WARNING:navis:Soma 408 not found in node table.\n",
      "WARNING : Soma 408 not found in node table. (navis)\n",
      "WARNING:navis:Soma 408 not found in node table.\n",
      "WARNING : Soma 408 not found in node table. (navis)\n",
      "WARNING:navis:Soma 408 not found in node table.\n",
      "WARNING : Soma 408 not found in node table. (navis)\n",
      "WARNING:navis:Soma 408 not found in node table.\n",
      "WARNING : Soma 408 not found in node table. (navis)\n",
      "WARNING:navis:Soma 408 not found in node table.\n",
      "WARNING : Soma 408 not found in node table. (navis)\n",
      "WARNING:navis:Soma 408 not found in node table.\n",
      "WARNING : Soma 9653 not found in node table. (navis)\n",
      "WARNING:navis:Soma 9653 not found in node table.\n",
      "WARNING : Soma 9653 not found in node table. (navis)\n",
      "WARNING:navis:Soma 9653 not found in node table.\n",
      "WARNING : Soma 9653 not found in node table. (navis)\n",
      "WARNING:navis:Soma 9653 not found in node table.\n",
      "WARNING : Soma 9653 not found in node table. (navis)\n",
      "WARNING:navis:Soma 9653 not found in node table.\n",
      "WARNING : Soma 150 not found in node table. (navis)\n",
      "WARNING:navis:Soma 150 not found in node table.\n",
      "WARNING : Soma 150 not found in node table. (navis)\n",
      "WARNING:navis:Soma 150 not found in node table.\n",
      "WARNING : Soma 150 not found in node table. (navis)\n",
      "WARNING:navis:Soma 150 not found in node table.\n",
      "WARNING : Soma 150 not found in node table. (navis)\n",
      "WARNING:navis:Soma 150 not found in node table.\n",
      "WARNING : Soma 150 not found in node table. (navis)\n",
      "WARNING:navis:Soma 150 not found in node table.\n",
      "WARNING : Soma 150 not found in node table. (navis)\n",
      "WARNING:navis:Soma 150 not found in node table.\n",
      "WARNING : Soma 150 not found in node table. (navis)\n",
      "WARNING:navis:Soma 150 not found in node table.\n",
      "WARNING : Soma 4679 not found in node table. (navis)\n",
      "WARNING:navis:Soma 4679 not found in node table.\n",
      "WARNING : Soma 4679 not found in node table. (navis)\n",
      "WARNING:navis:Soma 4679 not found in node table.\n",
      "WARNING : Soma 4679 not found in node table. (navis)\n",
      "WARNING:navis:Soma 4679 not found in node table.\n",
      "WARNING : Soma 291 not found in node table. (navis)\n",
      "WARNING:navis:Soma 291 not found in node table.\n",
      "WARNING : Soma 9187 not found in node table. (navis)\n",
      "WARNING:navis:Soma 9187 not found in node table.\n",
      "WARNING : Soma 9187 not found in node table. (navis)\n",
      "WARNING:navis:Soma 9187 not found in node table.\n",
      "WARNING : Soma 9187 not found in node table. (navis)\n",
      "WARNING:navis:Soma 9187 not found in node table.\n",
      "WARNING : Soma 9187 not found in node table. (navis)\n",
      "WARNING:navis:Soma 9187 not found in node table.\n",
      "WARNING : Soma 9187 not found in node table. (navis)\n",
      "WARNING:navis:Soma 9187 not found in node table.\n",
      "WARNING : Soma 116 not found in node table. (navis)\n",
      "WARNING:navis:Soma 116 not found in node table.\n",
      "WARNING : Soma 8659 not found in node table. (navis)\n",
      "WARNING:navis:Soma 8659 not found in node table.\n",
      "WARNING : Soma 8659 not found in node table. (navis)\n",
      "WARNING:navis:Soma 8659 not found in node table.\n",
      "WARNING : Soma 8659 not found in node table. (navis)\n",
      "WARNING:navis:Soma 8659 not found in node table.\n",
      "WARNING : Soma 8659 not found in node table. (navis)\n",
      "WARNING:navis:Soma 8659 not found in node table.\n",
      "WARNING : Soma 8659 not found in node table. (navis)\n",
      "WARNING:navis:Soma 8659 not found in node table.\n",
      "WARNING : Soma 8659 not found in node table. (navis)\n",
      "WARNING:navis:Soma 8659 not found in node table.\n",
      "WARNING : Soma 188 not found in node table. (navis)\n",
      "WARNING:navis:Soma 188 not found in node table.\n",
      "WARNING : Soma 188 not found in node table. (navis)\n",
      "WARNING:navis:Soma 188 not found in node table.\n",
      "WARNING : Soma 188 not found in node table. (navis)\n",
      "WARNING:navis:Soma 188 not found in node table.\n",
      "WARNING : Soma 188 not found in node table. (navis)\n",
      "WARNING:navis:Soma 188 not found in node table.\n",
      "WARNING : Soma 1068 not found in node table. (navis)\n",
      "WARNING:navis:Soma 1068 not found in node table.\n",
      "WARNING : Soma 1068 not found in node table. (navis)\n",
      "WARNING:navis:Soma 1068 not found in node table.\n",
      "WARNING : Soma 1068 not found in node table. (navis)\n",
      "WARNING:navis:Soma 1068 not found in node table.\n",
      "WARNING : Soma 6038 not found in node table. (navis)\n",
      "WARNING:navis:Soma 6038 not found in node table.\n",
      "WARNING : Soma 6038 not found in node table. (navis)\n",
      "WARNING:navis:Soma 6038 not found in node table.\n",
      "WARNING : Soma 281 not found in node table. (navis)\n",
      "WARNING:navis:Soma 281 not found in node table.\n",
      "WARNING : Soma 8919 not found in node table. (navis)\n",
      "WARNING:navis:Soma 8919 not found in node table.\n",
      "WARNING : Soma 8919 not found in node table. (navis)\n",
      "WARNING:navis:Soma 8919 not found in node table.\n",
      "WARNING : Soma 193 not found in node table. (navis)\n",
      "WARNING:navis:Soma 193 not found in node table.\n",
      "WARNING : Soma 193 not found in node table. (navis)\n",
      "WARNING:navis:Soma 193 not found in node table.\n",
      "WARNING : Soma 183 not found in node table. (navis)\n",
      "WARNING:navis:Soma 183 not found in node table.\n",
      "WARNING : Soma 183 not found in node table. (navis)\n",
      "WARNING:navis:Soma 183 not found in node table.\n",
      "WARNING : Soma 216 not found in node table. (navis)\n",
      "WARNING:navis:Soma 216 not found in node table.\n",
      "WARNING : Soma 6946 not found in node table. (navis)\n",
      "WARNING:navis:Soma 6946 not found in node table.\n",
      "WARNING : Soma 6946 not found in node table. (navis)\n",
      "WARNING:navis:Soma 6946 not found in node table.\n",
      "WARNING : Soma 294 not found in node table. (navis)\n",
      "WARNING:navis:Soma 294 not found in node table.\n",
      "WARNING : Soma 294 not found in node table. (navis)\n",
      "WARNING:navis:Soma 294 not found in node table.\n",
      "WARNING : Soma 294 not found in node table. (navis)\n",
      "WARNING:navis:Soma 294 not found in node table.\n",
      "WARNING : Soma 294 not found in node table. (navis)\n",
      "WARNING:navis:Soma 294 not found in node table.\n",
      "WARNING : Soma 294 not found in node table. (navis)\n",
      "WARNING:navis:Soma 294 not found in node table.\n",
      "WARNING : Soma 10430 not found in node table. (navis)\n",
      "WARNING:navis:Soma 10430 not found in node table.\n",
      "WARNING : Soma 4667 not found in node table. (navis)\n",
      "WARNING:navis:Soma 4667 not found in node table.\n",
      "WARNING : Soma 6617 not found in node table. (navis)\n",
      "WARNING:navis:Soma 6617 not found in node table.\n",
      "WARNING : Soma 6617 not found in node table. (navis)\n",
      "WARNING:navis:Soma 6617 not found in node table.\n",
      "WARNING : Soma 6072 not found in node table. (navis)\n",
      "WARNING:navis:Soma 6072 not found in node table.\n",
      "WARNING : Soma 6072 not found in node table. (navis)\n",
      "WARNING:navis:Soma 6072 not found in node table.\n",
      "WARNING : Soma 6072 not found in node table. (navis)\n",
      "WARNING:navis:Soma 6072 not found in node table.\n",
      "WARNING : Soma 6072 not found in node table. (navis)\n",
      "WARNING:navis:Soma 6072 not found in node table.\n",
      "WARNING : Soma 6072 not found in node table. (navis)\n",
      "WARNING:navis:Soma 6072 not found in node table.\n",
      "WARNING : Soma 285 not found in node table. (navis)\n",
      "WARNING:navis:Soma 285 not found in node table.\n",
      "WARNING : Soma 285 not found in node table. (navis)\n",
      "WARNING:navis:Soma 285 not found in node table.\n",
      "WARNING : Soma 285 not found in node table. (navis)\n",
      "WARNING:navis:Soma 285 not found in node table.\n",
      "WARNING : Soma 285 not found in node table. (navis)\n",
      "WARNING:navis:Soma 285 not found in node table.\n",
      "WARNING : Soma 285 not found in node table. (navis)\n",
      "WARNING:navis:Soma 285 not found in node table.\n",
      "WARNING : Soma 5833 not found in node table. (navis)\n",
      "WARNING:navis:Soma 5833 not found in node table.\n",
      "WARNING : Soma 6373 not found in node table. (navis)\n",
      "WARNING:navis:Soma 6373 not found in node table.\n",
      "WARNING : Soma 6373 not found in node table. (navis)\n",
      "WARNING:navis:Soma 6373 not found in node table.\n",
      "WARNING : Soma 6373 not found in node table. (navis)\n",
      "WARNING:navis:Soma 6373 not found in node table.\n",
      "WARNING : Soma 6373 not found in node table. (navis)\n",
      "WARNING:navis:Soma 6373 not found in node table.\n",
      "WARNING : Soma 4983 not found in node table. (navis)\n",
      "WARNING:navis:Soma 4983 not found in node table.\n",
      "WARNING : Soma 360 not found in node table. (navis)\n",
      "WARNING:navis:Soma 360 not found in node table.\n",
      "WARNING : Soma 360 not found in node table. (navis)\n",
      "WARNING:navis:Soma 360 not found in node table.\n",
      "WARNING : Soma 360 not found in node table. (navis)\n",
      "WARNING:navis:Soma 360 not found in node table.\n",
      "WARNING : Soma 360 not found in node table. (navis)\n",
      "WARNING:navis:Soma 360 not found in node table.\n",
      "WARNING : Soma 360 not found in node table. (navis)\n",
      "WARNING:navis:Soma 360 not found in node table.\n",
      "WARNING : Soma 360 not found in node table. (navis)\n",
      "WARNING:navis:Soma 360 not found in node table.\n",
      "WARNING : Soma 360 not found in node table. (navis)\n",
      "WARNING:navis:Soma 360 not found in node table.\n",
      "WARNING : Soma 360 not found in node table. (navis)\n",
      "WARNING:navis:Soma 360 not found in node table.\n",
      "WARNING : Soma 360 not found in node table. (navis)\n",
      "WARNING:navis:Soma 360 not found in node table.\n",
      "WARNING : Soma 360 not found in node table. (navis)\n",
      "WARNING:navis:Soma 360 not found in node table.\n",
      "WARNING : Soma 104 not found in node table. (navis)\n",
      "WARNING:navis:Soma 104 not found in node table.\n",
      "WARNING : Soma 104 not found in node table. (navis)\n",
      "WARNING:navis:Soma 104 not found in node table.\n",
      "WARNING : Soma 4594 not found in node table. (navis)\n",
      "WARNING:navis:Soma 4594 not found in node table.\n",
      "WARNING : Soma 4594 not found in node table. (navis)\n",
      "WARNING:navis:Soma 4594 not found in node table.\n",
      "WARNING : Soma 71 not found in node table. (navis)\n",
      "WARNING:navis:Soma 71 not found in node table.\n",
      "WARNING : Soma 71 not found in node table. (navis)\n",
      "WARNING:navis:Soma 71 not found in node table.\n",
      "WARNING : Soma 71 not found in node table. (navis)\n",
      "WARNING:navis:Soma 71 not found in node table.\n",
      "WARNING : Soma 71 not found in node table. (navis)\n",
      "WARNING:navis:Soma 71 not found in node table.\n",
      "WARNING : Soma 71 not found in node table. (navis)\n",
      "WARNING:navis:Soma 71 not found in node table.\n",
      "WARNING : Soma 71 not found in node table. (navis)\n",
      "WARNING:navis:Soma 71 not found in node table.\n",
      "WARNING : Soma 71 not found in node table. (navis)\n",
      "WARNING:navis:Soma 71 not found in node table.\n",
      "WARNING : Soma 88 not found in node table. (navis)\n",
      "WARNING:navis:Soma 88 not found in node table.\n",
      "WARNING : Soma 88 not found in node table. (navis)\n",
      "WARNING:navis:Soma 88 not found in node table.\n",
      "WARNING : Soma 88 not found in node table. (navis)\n",
      "WARNING:navis:Soma 88 not found in node table.\n",
      "WARNING : Soma 88 not found in node table. (navis)\n",
      "WARNING:navis:Soma 88 not found in node table.\n",
      "WARNING : Soma 88 not found in node table. (navis)\n",
      "WARNING:navis:Soma 88 not found in node table.\n",
      "WARNING : Soma 88 not found in node table. (navis)\n",
      "WARNING:navis:Soma 88 not found in node table.\n",
      "WARNING : Soma 88 not found in node table. (navis)\n",
      "WARNING:navis:Soma 88 not found in node table.\n",
      "WARNING : Soma 88 not found in node table. (navis)\n",
      "WARNING:navis:Soma 88 not found in node table.\n",
      "WARNING : Soma 4425 not found in node table. (navis)\n",
      "WARNING:navis:Soma 4425 not found in node table.\n",
      "WARNING : Soma 9075 not found in node table. (navis)\n",
      "WARNING:navis:Soma 9075 not found in node table.\n",
      "WARNING : Soma 9075 not found in node table. (navis)\n",
      "WARNING:navis:Soma 9075 not found in node table.\n",
      "WARNING : Soma 9075 not found in node table. (navis)\n",
      "WARNING:navis:Soma 9075 not found in node table.\n",
      "WARNING : Soma 578 not found in node table. (navis)\n",
      "WARNING:navis:Soma 578 not found in node table.\n",
      "WARNING : Soma 578 not found in node table. (navis)\n",
      "WARNING:navis:Soma 578 not found in node table.\n",
      "WARNING : Soma 578 not found in node table. (navis)\n",
      "WARNING:navis:Soma 578 not found in node table.\n",
      "WARNING : Soma 163 not found in node table. (navis)\n",
      "WARNING:navis:Soma 163 not found in node table.\n",
      "WARNING : Soma 163 not found in node table. (navis)\n",
      "WARNING:navis:Soma 163 not found in node table.\n",
      "WARNING : Soma 163 not found in node table. (navis)\n",
      "WARNING:navis:Soma 163 not found in node table.\n",
      "WARNING : Soma 163 not found in node table. (navis)\n",
      "WARNING:navis:Soma 163 not found in node table.\n",
      "WARNING : Soma 163 not found in node table. (navis)\n",
      "WARNING:navis:Soma 163 not found in node table.\n",
      "WARNING : Soma 163 not found in node table. (navis)\n",
      "WARNING:navis:Soma 163 not found in node table.\n",
      "WARNING : Soma 163 not found in node table. (navis)\n",
      "WARNING:navis:Soma 163 not found in node table.\n",
      "WARNING : Soma 4340 not found in node table. (navis)\n",
      "WARNING:navis:Soma 4340 not found in node table.\n",
      "WARNING : Soma 4340 not found in node table. (navis)\n",
      "WARNING:navis:Soma 4340 not found in node table.\n",
      "WARNING : Soma 204 not found in node table. (navis)\n",
      "WARNING:navis:Soma 204 not found in node table.\n",
      "WARNING : Soma 204 not found in node table. (navis)\n",
      "WARNING:navis:Soma 204 not found in node table.\n",
      "WARNING : Soma 367 not found in node table. (navis)\n",
      "WARNING:navis:Soma 367 not found in node table.\n",
      "WARNING : Soma 367 not found in node table. (navis)\n",
      "WARNING:navis:Soma 367 not found in node table.\n",
      "WARNING : Soma 367 not found in node table. (navis)\n",
      "WARNING:navis:Soma 367 not found in node table.\n",
      "WARNING : Soma 145 not found in node table. (navis)\n",
      "WARNING:navis:Soma 145 not found in node table.\n",
      "WARNING : Soma 148 not found in node table. (navis)\n",
      "WARNING:navis:Soma 148 not found in node table.\n",
      "WARNING : Soma 148 not found in node table. (navis)\n",
      "WARNING:navis:Soma 148 not found in node table.\n",
      "WARNING : Soma 7640 not found in node table. (navis)\n",
      "WARNING:navis:Soma 7640 not found in node table.\n",
      "WARNING : Soma 7640 not found in node table. (navis)\n",
      "WARNING:navis:Soma 7640 not found in node table.\n",
      "WARNING : Soma 291 not found in node table. (navis)\n",
      "WARNING:navis:Soma 291 not found in node table.\n",
      "WARNING : Soma 291 not found in node table. (navis)\n",
      "WARNING:navis:Soma 291 not found in node table.\n",
      "WARNING : Soma 327 not found in node table. (navis)\n",
      "WARNING:navis:Soma 327 not found in node table.\n",
      "WARNING : Soma 327 not found in node table. (navis)\n",
      "WARNING:navis:Soma 327 not found in node table.\n",
      "WARNING : Soma 327 not found in node table. (navis)\n",
      "WARNING:navis:Soma 327 not found in node table.\n",
      "WARNING : Soma 327 not found in node table. (navis)\n",
      "WARNING:navis:Soma 327 not found in node table.\n",
      "WARNING : Soma 327 not found in node table. (navis)\n",
      "WARNING:navis:Soma 327 not found in node table.\n",
      "WARNING : Soma 327 not found in node table. (navis)\n",
      "WARNING:navis:Soma 327 not found in node table.\n",
      "WARNING : Soma 5207 not found in node table. (navis)\n",
      "WARNING:navis:Soma 5207 not found in node table.\n",
      "WARNING : Soma 5207 not found in node table. (navis)\n",
      "WARNING:navis:Soma 5207 not found in node table.\n",
      "WARNING : Soma 5207 not found in node table. (navis)\n",
      "WARNING:navis:Soma 5207 not found in node table.\n",
      "WARNING : Soma 5207 not found in node table. (navis)\n",
      "WARNING:navis:Soma 5207 not found in node table.\n",
      "WARNING : Soma 133 not found in node table. (navis)\n",
      "WARNING:navis:Soma 133 not found in node table.\n",
      "WARNING : Soma 9429 not found in node table. (navis)\n",
      "WARNING:navis:Soma 9429 not found in node table.\n",
      "WARNING : Soma 9429 not found in node table. (navis)\n",
      "WARNING:navis:Soma 9429 not found in node table.\n",
      "WARNING : Soma 9429 not found in node table. (navis)\n",
      "WARNING:navis:Soma 9429 not found in node table.\n",
      "WARNING : Soma 9429 not found in node table. (navis)\n",
      "WARNING:navis:Soma 9429 not found in node table.\n",
      "WARNING : Soma 9429 not found in node table. (navis)\n",
      "WARNING:navis:Soma 9429 not found in node table.\n",
      "WARNING : Soma 9429 not found in node table. (navis)\n",
      "WARNING:navis:Soma 9429 not found in node table.\n",
      "WARNING : Soma 9429 not found in node table. (navis)\n",
      "WARNING:navis:Soma 9429 not found in node table.\n",
      "WARNING : Soma 5350 not found in node table. (navis)\n",
      "WARNING:navis:Soma 5350 not found in node table.\n",
      "WARNING : Soma 5350 not found in node table. (navis)\n",
      "WARNING:navis:Soma 5350 not found in node table.\n",
      "WARNING : Soma 263 not found in node table. (navis)\n",
      "WARNING:navis:Soma 263 not found in node table.\n",
      "WARNING : Soma 263 not found in node table. (navis)\n",
      "WARNING:navis:Soma 263 not found in node table.\n",
      "WARNING : Soma 263 not found in node table. (navis)\n",
      "WARNING:navis:Soma 263 not found in node table.\n",
      "WARNING : Soma 263 not found in node table. (navis)\n",
      "WARNING:navis:Soma 263 not found in node table.\n",
      "WARNING : Soma 263 not found in node table. (navis)\n",
      "WARNING:navis:Soma 263 not found in node table.\n",
      "WARNING : Soma 168 not found in node table. (navis)\n",
      "WARNING:navis:Soma 168 not found in node table.\n",
      "WARNING : Soma 168 not found in node table. (navis)\n",
      "WARNING:navis:Soma 168 not found in node table.\n",
      "WARNING : Soma 168 not found in node table. (navis)\n",
      "WARNING:navis:Soma 168 not found in node table.\n",
      "WARNING : Soma 424 not found in node table. (navis)\n",
      "WARNING:navis:Soma 424 not found in node table.\n",
      "WARNING : Soma 424 not found in node table. (navis)\n",
      "WARNING:navis:Soma 424 not found in node table.\n",
      "WARNING : Soma 424 not found in node table. (navis)\n",
      "WARNING:navis:Soma 424 not found in node table.\n",
      "WARNING : Soma 6163 not found in node table. (navis)\n",
      "WARNING:navis:Soma 6163 not found in node table.\n",
      "WARNING : Soma 6163 not found in node table. (navis)\n",
      "WARNING:navis:Soma 6163 not found in node table.\n",
      "WARNING : Soma 6163 not found in node table. (navis)\n",
      "WARNING:navis:Soma 6163 not found in node table.\n",
      "WARNING : Soma 5509 not found in node table. (navis)\n",
      "WARNING:navis:Soma 5509 not found in node table.\n",
      "WARNING : Soma 5509 not found in node table. (navis)\n",
      "WARNING:navis:Soma 5509 not found in node table.\n",
      "WARNING : Soma 152 not found in node table. (navis)\n",
      "WARNING:navis:Soma 152 not found in node table.\n",
      "WARNING : Soma 8061 not found in node table. (navis)\n",
      "WARNING:navis:Soma 8061 not found in node table.\n",
      "WARNING : Soma 8061 not found in node table. (navis)\n",
      "WARNING:navis:Soma 8061 not found in node table.\n",
      "WARNING : Soma 7933 not found in node table. (navis)\n",
      "WARNING:navis:Soma 7933 not found in node table.\n",
      "WARNING : Soma 7933 not found in node table. (navis)\n",
      "WARNING:navis:Soma 7933 not found in node table.\n",
      "WARNING : Soma 7933 not found in node table. (navis)\n",
      "WARNING:navis:Soma 7933 not found in node table.\n",
      "WARNING : Soma 7933 not found in node table. (navis)\n",
      "WARNING:navis:Soma 7933 not found in node table.\n",
      "WARNING : Soma 79 not found in node table. (navis)\n",
      "WARNING:navis:Soma 79 not found in node table.\n",
      "WARNING : Soma 79 not found in node table. (navis)\n",
      "WARNING:navis:Soma 79 not found in node table.\n",
      "WARNING : Soma 79 not found in node table. (navis)\n",
      "WARNING:navis:Soma 79 not found in node table.\n",
      "WARNING : Soma 313 not found in node table. (navis)\n",
      "WARNING:navis:Soma 313 not found in node table.\n",
      "WARNING : Soma 313 not found in node table. (navis)\n",
      "WARNING:navis:Soma 313 not found in node table.\n",
      "WARNING : Soma 313 not found in node table. (navis)\n",
      "WARNING:navis:Soma 313 not found in node table.\n",
      "WARNING : Soma 313 not found in node table. (navis)\n",
      "WARNING:navis:Soma 313 not found in node table.\n",
      "WARNING : Soma 313 not found in node table. (navis)\n",
      "WARNING:navis:Soma 313 not found in node table.\n",
      "WARNING : Soma 313 not found in node table. (navis)\n",
      "WARNING:navis:Soma 313 not found in node table.\n",
      "WARNING : Soma 313 not found in node table. (navis)\n",
      "WARNING:navis:Soma 313 not found in node table.\n",
      "WARNING : Soma 197 not found in node table. (navis)\n",
      "WARNING:navis:Soma 197 not found in node table.\n",
      "WARNING : Soma 197 not found in node table. (navis)\n",
      "WARNING:navis:Soma 197 not found in node table.\n",
      "WARNING : Soma 67 not found in node table. (navis)\n",
      "WARNING:navis:Soma 67 not found in node table.\n",
      "WARNING : Soma 67 not found in node table. (navis)\n",
      "WARNING:navis:Soma 67 not found in node table.\n",
      "WARNING : Soma 67 not found in node table. (navis)\n",
      "WARNING:navis:Soma 67 not found in node table.\n",
      "WARNING : Soma 7561 not found in node table. (navis)\n",
      "WARNING:navis:Soma 7561 not found in node table.\n",
      "WARNING : Soma 233 not found in node table. (navis)\n",
      "WARNING:navis:Soma 233 not found in node table.\n",
      "WARNING : Soma 233 not found in node table. (navis)\n",
      "WARNING:navis:Soma 233 not found in node table.\n",
      "WARNING : Soma 233 not found in node table. (navis)\n",
      "WARNING:navis:Soma 233 not found in node table.\n",
      "WARNING : Soma 4950 not found in node table. (navis)\n",
      "WARNING:navis:Soma 4950 not found in node table.\n",
      "WARNING : Soma 4950 not found in node table. (navis)\n",
      "WARNING:navis:Soma 4950 not found in node table.\n",
      "WARNING : Soma 5285 not found in node table. (navis)\n",
      "WARNING:navis:Soma 5285 not found in node table.\n",
      "WARNING : Soma 62 not found in node table. (navis)\n",
      "WARNING:navis:Soma 62 not found in node table.\n",
      "WARNING : Soma 62 not found in node table. (navis)\n",
      "WARNING:navis:Soma 62 not found in node table.\n",
      "WARNING : Soma 132 not found in node table. (navis)\n",
      "WARNING:navis:Soma 132 not found in node table.\n",
      "WARNING : Soma 132 not found in node table. (navis)\n",
      "WARNING:navis:Soma 132 not found in node table.\n",
      "WARNING : Soma 132 not found in node table. (navis)\n",
      "WARNING:navis:Soma 132 not found in node table.\n",
      "WARNING : Soma 132 not found in node table. (navis)\n",
      "WARNING:navis:Soma 132 not found in node table.\n",
      "WARNING : Soma 132 not found in node table. (navis)\n",
      "WARNING:navis:Soma 132 not found in node table.\n",
      "WARNING : Soma 132 not found in node table. (navis)\n",
      "WARNING:navis:Soma 132 not found in node table.\n",
      "WARNING : Soma 5378 not found in node table. (navis)\n",
      "WARNING:navis:Soma 5378 not found in node table.\n",
      "WARNING : Soma 5378 not found in node table. (navis)\n",
      "WARNING:navis:Soma 5378 not found in node table.\n",
      "WARNING : Soma 5754 not found in node table. (navis)\n",
      "WARNING:navis:Soma 5754 not found in node table.\n",
      "WARNING : Soma 5754 not found in node table. (navis)\n",
      "WARNING:navis:Soma 5754 not found in node table.\n",
      "WARNING : Soma 5754 not found in node table. (navis)\n",
      "WARNING:navis:Soma 5754 not found in node table.\n",
      "WARNING : Soma 5754 not found in node table. (navis)\n",
      "WARNING:navis:Soma 5754 not found in node table.\n",
      "WARNING : Soma 127 not found in node table. (navis)\n",
      "WARNING:navis:Soma 127 not found in node table.\n",
      "WARNING : Soma 127 not found in node table. (navis)\n",
      "WARNING:navis:Soma 127 not found in node table.\n",
      "WARNING : Soma 5612 not found in node table. (navis)\n",
      "WARNING:navis:Soma 5612 not found in node table.\n",
      "WARNING : Soma 5612 not found in node table. (navis)\n",
      "WARNING:navis:Soma 5612 not found in node table.\n",
      "WARNING : Soma 278 not found in node table. (navis)\n",
      "WARNING:navis:Soma 278 not found in node table.\n",
      "WARNING : Soma 5183 not found in node table. (navis)\n",
      "WARNING:navis:Soma 5183 not found in node table.\n",
      "WARNING : Soma 5893 not found in node table. (navis)\n",
      "WARNING:navis:Soma 5893 not found in node table.\n",
      "WARNING : Soma 5893 not found in node table. (navis)\n",
      "WARNING:navis:Soma 5893 not found in node table.\n",
      "WARNING : Soma 5893 not found in node table. (navis)\n",
      "WARNING:navis:Soma 5893 not found in node table.\n",
      "WARNING : Soma 5893 not found in node table. (navis)\n",
      "WARNING:navis:Soma 5893 not found in node table.\n",
      "WARNING : Soma 5893 not found in node table. (navis)\n",
      "WARNING:navis:Soma 5893 not found in node table.\n",
      "WARNING : Soma 5893 not found in node table. (navis)\n",
      "WARNING:navis:Soma 5893 not found in node table.\n",
      "WARNING : Soma 5893 not found in node table. (navis)\n",
      "WARNING:navis:Soma 5893 not found in node table.\n",
      "WARNING : Soma 5566 not found in node table. (navis)\n",
      "WARNING:navis:Soma 5566 not found in node table.\n",
      "WARNING : Soma 5755 not found in node table. (navis)\n",
      "WARNING:navis:Soma 5755 not found in node table.\n",
      "WARNING : Soma 154 not found in node table. (navis)\n",
      "WARNING:navis:Soma 154 not found in node table.\n",
      "WARNING : Soma 154 not found in node table. (navis)\n",
      "WARNING:navis:Soma 154 not found in node table.\n",
      "WARNING : Soma 4580 not found in node table. (navis)\n",
      "WARNING:navis:Soma 4580 not found in node table.\n",
      "WARNING : Soma 4580 not found in node table. (navis)\n",
      "WARNING:navis:Soma 4580 not found in node table.\n",
      "WARNING : Soma 4621 not found in node table. (navis)\n",
      "WARNING:navis:Soma 4621 not found in node table.\n",
      "WARNING : Soma 5004 not found in node table. (navis)\n",
      "WARNING:navis:Soma 5004 not found in node table.\n",
      "WARNING : Soma 5004 not found in node table. (navis)\n",
      "WARNING:navis:Soma 5004 not found in node table.\n",
      "WARNING : Soma 5004 not found in node table. (navis)\n",
      "WARNING:navis:Soma 5004 not found in node table.\n",
      "WARNING : Soma 5004 not found in node table. (navis)\n",
      "WARNING:navis:Soma 5004 not found in node table.\n",
      "WARNING : Soma 100 not found in node table. (navis)\n",
      "WARNING:navis:Soma 100 not found in node table.\n",
      "WARNING : Soma 353 not found in node table. (navis)\n",
      "WARNING:navis:Soma 353 not found in node table.\n",
      "WARNING : Soma 353 not found in node table. (navis)\n",
      "WARNING:navis:Soma 353 not found in node table.\n",
      "WARNING : Soma 353 not found in node table. (navis)\n",
      "WARNING:navis:Soma 353 not found in node table.\n",
      "WARNING : Soma 353 not found in node table. (navis)\n",
      "WARNING:navis:Soma 353 not found in node table.\n",
      "WARNING : Soma 85 not found in node table. (navis)\n",
      "WARNING:navis:Soma 85 not found in node table.\n",
      "WARNING : Soma 85 not found in node table. (navis)\n",
      "WARNING:navis:Soma 85 not found in node table.\n",
      "WARNING : Soma 85 not found in node table. (navis)\n",
      "WARNING:navis:Soma 85 not found in node table.\n",
      "WARNING : Soma 85 not found in node table. (navis)\n",
      "WARNING:navis:Soma 85 not found in node table.\n",
      "WARNING : Soma 85 not found in node table. (navis)\n",
      "WARNING:navis:Soma 85 not found in node table.\n",
      "WARNING : Soma 376 not found in node table. (navis)\n",
      "WARNING:navis:Soma 376 not found in node table.\n",
      "WARNING : Soma 376 not found in node table. (navis)\n",
      "WARNING:navis:Soma 376 not found in node table.\n",
      "WARNING : Soma 376 not found in node table. (navis)\n",
      "WARNING:navis:Soma 376 not found in node table.\n",
      "WARNING : Soma 218 not found in node table. (navis)\n",
      "WARNING:navis:Soma 218 not found in node table.\n",
      "WARNING : Soma 4088 not found in node table. (navis)\n",
      "WARNING:navis:Soma 4088 not found in node table.\n",
      "WARNING : Soma 4088 not found in node table. (navis)\n",
      "WARNING:navis:Soma 4088 not found in node table.\n",
      "WARNING : Soma 178 not found in node table. (navis)\n",
      "WARNING:navis:Soma 178 not found in node table.\n",
      "WARNING : Soma 178 not found in node table. (navis)\n",
      "WARNING:navis:Soma 178 not found in node table.\n",
      "WARNING : Soma 178 not found in node table. (navis)\n",
      "WARNING:navis:Soma 178 not found in node table.\n",
      "WARNING : Soma 178 not found in node table. (navis)\n",
      "WARNING:navis:Soma 178 not found in node table.\n",
      "WARNING : Soma 178 not found in node table. (navis)\n",
      "WARNING:navis:Soma 178 not found in node table.\n",
      "WARNING : Soma 178 not found in node table. (navis)\n",
      "WARNING:navis:Soma 178 not found in node table.\n",
      "WARNING : Soma 178 not found in node table. (navis)\n",
      "WARNING:navis:Soma 178 not found in node table.\n",
      "WARNING : Soma 136 not found in node table. (navis)\n",
      "WARNING:navis:Soma 136 not found in node table.\n",
      "WARNING : Soma 136 not found in node table. (navis)\n",
      "WARNING:navis:Soma 136 not found in node table.\n",
      "WARNING : Soma 136 not found in node table. (navis)\n",
      "WARNING:navis:Soma 136 not found in node table.\n",
      "WARNING : Soma 136 not found in node table. (navis)\n",
      "WARNING:navis:Soma 136 not found in node table.\n",
      "WARNING : Soma 5699 not found in node table. (navis)\n",
      "WARNING:navis:Soma 5699 not found in node table.\n",
      "WARNING : Soma 106 not found in node table. (navis)\n",
      "WARNING:navis:Soma 106 not found in node table.\n",
      "WARNING : Soma 106 not found in node table. (navis)\n",
      "WARNING:navis:Soma 106 not found in node table.\n",
      "WARNING : Soma 106 not found in node table. (navis)\n",
      "WARNING:navis:Soma 106 not found in node table.\n",
      "WARNING : Soma 9154 not found in node table. (navis)\n",
      "WARNING:navis:Soma 9154 not found in node table.\n",
      "WARNING : Soma 9154 not found in node table. (navis)\n",
      "WARNING:navis:Soma 9154 not found in node table.\n",
      "WARNING : Soma 9154 not found in node table. (navis)\n",
      "WARNING:navis:Soma 9154 not found in node table.\n",
      "WARNING : Soma 9154 not found in node table. (navis)\n",
      "WARNING:navis:Soma 9154 not found in node table.\n",
      "WARNING : Soma 9154 not found in node table. (navis)\n",
      "WARNING:navis:Soma 9154 not found in node table.\n",
      "WARNING : Soma 9154 not found in node table. (navis)\n",
      "WARNING:navis:Soma 9154 not found in node table.\n",
      "WARNING : Soma 9154 not found in node table. (navis)\n",
      "WARNING:navis:Soma 9154 not found in node table.\n",
      "WARNING : Soma 273 not found in node table. (navis)\n",
      "WARNING:navis:Soma 273 not found in node table.\n",
      "WARNING : Soma 273 not found in node table. (navis)\n",
      "WARNING:navis:Soma 273 not found in node table.\n",
      "WARNING : Soma 273 not found in node table. (navis)\n",
      "WARNING:navis:Soma 273 not found in node table.\n",
      "WARNING : Soma 273 not found in node table. (navis)\n",
      "WARNING:navis:Soma 273 not found in node table.\n",
      "WARNING : Soma 273 not found in node table. (navis)\n",
      "WARNING:navis:Soma 273 not found in node table.\n",
      "WARNING : Soma 273 not found in node table. (navis)\n",
      "WARNING:navis:Soma 273 not found in node table.\n",
      "WARNING : Soma 5506 not found in node table. (navis)\n",
      "WARNING:navis:Soma 5506 not found in node table.\n",
      "WARNING : Soma 33 not found in node table. (navis)\n",
      "WARNING:navis:Soma 33 not found in node table.\n",
      "WARNING : Soma 33 not found in node table. (navis)\n",
      "WARNING:navis:Soma 33 not found in node table.\n",
      "WARNING : Soma 33 not found in node table. (navis)\n",
      "WARNING:navis:Soma 33 not found in node table.\n",
      "WARNING : Soma 6000 not found in node table. (navis)\n",
      "WARNING:navis:Soma 6000 not found in node table.\n",
      "WARNING : Soma 6000 not found in node table. (navis)\n",
      "WARNING:navis:Soma 6000 not found in node table.\n",
      "WARNING : Soma 4951 not found in node table. (navis)\n",
      "WARNING:navis:Soma 4951 not found in node table.\n",
      "WARNING : Soma 333 not found in node table. (navis)\n",
      "WARNING:navis:Soma 333 not found in node table.\n",
      "WARNING : Soma 333 not found in node table. (navis)\n",
      "WARNING:navis:Soma 333 not found in node table.\n",
      "WARNING : Soma 432 not found in node table. (navis)\n",
      "WARNING:navis:Soma 432 not found in node table.\n",
      "WARNING : Soma 432 not found in node table. (navis)\n",
      "WARNING:navis:Soma 432 not found in node table.\n",
      "WARNING : Soma 432 not found in node table. (navis)\n",
      "WARNING:navis:Soma 432 not found in node table.\n",
      "WARNING : Soma 432 not found in node table. (navis)\n",
      "WARNING:navis:Soma 432 not found in node table.\n",
      "WARNING : Soma 89 not found in node table. (navis)\n",
      "WARNING:navis:Soma 89 not found in node table.\n",
      "WARNING : Soma 5327 not found in node table. (navis)\n",
      "WARNING:navis:Soma 5327 not found in node table.\n",
      "WARNING : Soma 5327 not found in node table. (navis)\n",
      "WARNING:navis:Soma 5327 not found in node table.\n",
      "WARNING : Soma 198 not found in node table. (navis)\n",
      "WARNING:navis:Soma 198 not found in node table.\n",
      "WARNING : Soma 198 not found in node table. (navis)\n",
      "WARNING:navis:Soma 198 not found in node table.\n",
      "WARNING : Soma 198 not found in node table. (navis)\n",
      "WARNING:navis:Soma 198 not found in node table.\n",
      "WARNING : Soma 198 not found in node table. (navis)\n",
      "WARNING:navis:Soma 198 not found in node table.\n",
      "WARNING : Soma 198 not found in node table. (navis)\n",
      "WARNING:navis:Soma 198 not found in node table.\n",
      "WARNING : Soma 114 not found in node table. (navis)\n",
      "WARNING:navis:Soma 114 not found in node table.\n",
      "WARNING : Soma 114 not found in node table. (navis)\n",
      "WARNING:navis:Soma 114 not found in node table.\n",
      "WARNING : Soma 114 not found in node table. (navis)\n",
      "WARNING:navis:Soma 114 not found in node table.\n",
      "WARNING : Soma 114 not found in node table. (navis)\n",
      "WARNING:navis:Soma 114 not found in node table.\n",
      "WARNING : Soma 114 not found in node table. (navis)\n",
      "WARNING:navis:Soma 114 not found in node table.\n",
      "WARNING : Soma 132 not found in node table. (navis)\n",
      "WARNING:navis:Soma 132 not found in node table.\n",
      "WARNING : Soma 132 not found in node table. (navis)\n",
      "WARNING:navis:Soma 132 not found in node table.\n",
      "WARNING : Soma 132 not found in node table. (navis)\n",
      "WARNING:navis:Soma 132 not found in node table.\n",
      "WARNING : Soma 132 not found in node table. (navis)\n",
      "WARNING:navis:Soma 132 not found in node table.\n",
      "WARNING : Soma 132 not found in node table. (navis)\n",
      "WARNING:navis:Soma 132 not found in node table.\n",
      "WARNING : Soma 5624 not found in node table. (navis)\n",
      "WARNING:navis:Soma 5624 not found in node table.\n",
      "WARNING : Soma 14700 not found in node table. (navis)\n",
      "WARNING:navis:Soma 14700 not found in node table.\n",
      "WARNING : Soma 14700 not found in node table. (navis)\n",
      "WARNING:navis:Soma 14700 not found in node table.\n",
      "WARNING : Soma 182 not found in node table. (navis)\n",
      "WARNING:navis:Soma 182 not found in node table.\n",
      "WARNING : Soma 230 not found in node table. (navis)\n",
      "WARNING:navis:Soma 230 not found in node table.\n",
      "WARNING : Soma 230 not found in node table. (navis)\n",
      "WARNING:navis:Soma 230 not found in node table.\n",
      "WARNING : Soma 230 not found in node table. (navis)\n",
      "WARNING:navis:Soma 230 not found in node table.\n",
      "WARNING : Soma 230 not found in node table. (navis)\n",
      "WARNING:navis:Soma 230 not found in node table.\n",
      "WARNING : Soma 230 not found in node table. (navis)\n",
      "WARNING:navis:Soma 230 not found in node table.\n",
      "WARNING : Soma 85 not found in node table. (navis)\n",
      "WARNING:navis:Soma 85 not found in node table.\n",
      "WARNING : Soma 85 not found in node table. (navis)\n",
      "WARNING:navis:Soma 85 not found in node table.\n",
      "WARNING : Soma 5034 not found in node table. (navis)\n",
      "WARNING:navis:Soma 5034 not found in node table.\n",
      "WARNING : Soma 5034 not found in node table. (navis)\n",
      "WARNING:navis:Soma 5034 not found in node table.\n",
      "WARNING : Soma 5034 not found in node table. (navis)\n",
      "WARNING:navis:Soma 5034 not found in node table.\n",
      "WARNING : Soma 111 not found in node table. (navis)\n",
      "WARNING:navis:Soma 111 not found in node table.\n",
      "WARNING : Soma 173 not found in node table. (navis)\n",
      "WARNING:navis:Soma 173 not found in node table.\n",
      "WARNING : Soma 173 not found in node table. (navis)\n",
      "WARNING:navis:Soma 173 not found in node table.\n",
      "WARNING : Soma 173 not found in node table. (navis)\n",
      "WARNING:navis:Soma 173 not found in node table.\n",
      "WARNING : Soma 8341 not found in node table. (navis)\n",
      "WARNING:navis:Soma 8341 not found in node table.\n",
      "WARNING : Soma 8341 not found in node table. (navis)\n",
      "WARNING:navis:Soma 8341 not found in node table.\n",
      "WARNING : Soma 8341 not found in node table. (navis)\n",
      "WARNING:navis:Soma 8341 not found in node table.\n",
      "WARNING : Soma 8341 not found in node table. (navis)\n",
      "WARNING:navis:Soma 8341 not found in node table.\n",
      "WARNING : Soma 90 not found in node table. (navis)\n",
      "WARNING:navis:Soma 90 not found in node table.\n",
      "WARNING : Soma 90 not found in node table. (navis)\n",
      "WARNING:navis:Soma 90 not found in node table.\n",
      "WARNING : Soma 90 not found in node table. (navis)\n",
      "WARNING:navis:Soma 90 not found in node table.\n",
      "WARNING : Soma 178 not found in node table. (navis)\n",
      "WARNING:navis:Soma 178 not found in node table.\n",
      "WARNING : Soma 178 not found in node table. (navis)\n",
      "WARNING:navis:Soma 178 not found in node table.\n",
      "WARNING : Soma 178 not found in node table. (navis)\n",
      "WARNING:navis:Soma 178 not found in node table.\n",
      "WARNING : Soma 178 not found in node table. (navis)\n",
      "WARNING:navis:Soma 178 not found in node table.\n",
      "WARNING : Soma 178 not found in node table. (navis)\n",
      "WARNING:navis:Soma 178 not found in node table.\n",
      "WARNING : Soma 178 not found in node table. (navis)\n",
      "WARNING:navis:Soma 178 not found in node table.\n",
      "WARNING : Soma 178 not found in node table. (navis)\n",
      "WARNING:navis:Soma 178 not found in node table.\n",
      "WARNING : Soma 178 not found in node table. (navis)\n",
      "WARNING:navis:Soma 178 not found in node table.\n",
      "WARNING : Soma 178 not found in node table. (navis)\n",
      "WARNING:navis:Soma 178 not found in node table.\n",
      "WARNING : Soma 178 not found in node table. (navis)\n",
      "WARNING:navis:Soma 178 not found in node table.\n",
      "WARNING : Soma 8671 not found in node table. (navis)\n",
      "WARNING:navis:Soma 8671 not found in node table.\n",
      "WARNING : Soma 8671 not found in node table. (navis)\n",
      "WARNING:navis:Soma 8671 not found in node table.\n",
      "WARNING : Soma 8671 not found in node table. (navis)\n",
      "WARNING:navis:Soma 8671 not found in node table.\n",
      "WARNING : Soma 520 not found in node table. (navis)\n",
      "WARNING:navis:Soma 520 not found in node table.\n",
      "WARNING : Soma 520 not found in node table. (navis)\n",
      "WARNING:navis:Soma 520 not found in node table.\n",
      "WARNING : Soma 520 not found in node table. (navis)\n",
      "WARNING:navis:Soma 520 not found in node table.\n",
      "WARNING : Soma 520 not found in node table. (navis)\n",
      "WARNING:navis:Soma 520 not found in node table.\n",
      "WARNING : Soma 256 not found in node table. (navis)\n",
      "WARNING:navis:Soma 256 not found in node table.\n",
      "WARNING : Soma 256 not found in node table. (navis)\n",
      "WARNING:navis:Soma 256 not found in node table.\n",
      "WARNING : Soma 9666 not found in node table. (navis)\n",
      "WARNING:navis:Soma 9666 not found in node table.\n",
      "WARNING : Soma 9666 not found in node table. (navis)\n",
      "WARNING:navis:Soma 9666 not found in node table.\n",
      "WARNING : Soma 9666 not found in node table. (navis)\n",
      "WARNING:navis:Soma 9666 not found in node table.\n",
      "WARNING : Soma 9666 not found in node table. (navis)\n",
      "WARNING:navis:Soma 9666 not found in node table.\n",
      "WARNING : Soma 9666 not found in node table. (navis)\n",
      "WARNING:navis:Soma 9666 not found in node table.\n",
      "WARNING : Soma 9666 not found in node table. (navis)\n",
      "WARNING:navis:Soma 9666 not found in node table.\n",
      "WARNING : Soma 8496 not found in node table. (navis)\n",
      "WARNING:navis:Soma 8496 not found in node table.\n",
      "WARNING : Soma 8496 not found in node table. (navis)\n",
      "WARNING:navis:Soma 8496 not found in node table.\n",
      "WARNING : Soma 8496 not found in node table. (navis)\n",
      "WARNING:navis:Soma 8496 not found in node table.\n",
      "WARNING : Soma 8496 not found in node table. (navis)\n",
      "WARNING:navis:Soma 8496 not found in node table.\n",
      "WARNING : Soma 8496 not found in node table. (navis)\n",
      "WARNING:navis:Soma 8496 not found in node table.\n",
      "WARNING : Soma 8496 not found in node table. (navis)\n",
      "WARNING:navis:Soma 8496 not found in node table.\n",
      "WARNING : Soma 552 not found in node table. (navis)\n",
      "WARNING:navis:Soma 552 not found in node table.\n",
      "WARNING : Soma 6436 not found in node table. (navis)\n",
      "WARNING:navis:Soma 6436 not found in node table.\n",
      "WARNING : Soma 7489 not found in node table. (navis)\n",
      "WARNING:navis:Soma 7489 not found in node table.\n",
      "WARNING : Soma 5127 not found in node table. (navis)\n",
      "WARNING:navis:Soma 5127 not found in node table.\n",
      "WARNING : Soma 5127 not found in node table. (navis)\n",
      "WARNING:navis:Soma 5127 not found in node table.\n",
      "WARNING : Soma 5127 not found in node table. (navis)\n",
      "WARNING:navis:Soma 5127 not found in node table.\n",
      "WARNING : Soma 5370 not found in node table. (navis)\n",
      "WARNING:navis:Soma 5370 not found in node table.\n",
      "WARNING : Soma 388 not found in node table. (navis)\n",
      "WARNING:navis:Soma 388 not found in node table.\n",
      "WARNING : Soma 9910 not found in node table. (navis)\n",
      "WARNING:navis:Soma 9910 not found in node table.\n",
      "WARNING : Soma 9910 not found in node table. (navis)\n",
      "WARNING:navis:Soma 9910 not found in node table.\n",
      "WARNING : Soma 9910 not found in node table. (navis)\n",
      "WARNING:navis:Soma 9910 not found in node table.\n",
      "WARNING : Soma 9910 not found in node table. (navis)\n",
      "WARNING:navis:Soma 9910 not found in node table.\n",
      "WARNING : Soma 9910 not found in node table. (navis)\n",
      "WARNING:navis:Soma 9910 not found in node table.\n",
      "WARNING : Soma 308 not found in node table. (navis)\n",
      "WARNING:navis:Soma 308 not found in node table.\n",
      "WARNING : Soma 308 not found in node table. (navis)\n",
      "WARNING:navis:Soma 308 not found in node table.\n",
      "WARNING : Soma 308 not found in node table. (navis)\n",
      "WARNING:navis:Soma 308 not found in node table.\n",
      "WARNING : Soma 144 not found in node table. (navis)\n",
      "WARNING:navis:Soma 144 not found in node table.\n",
      "WARNING : Soma 144 not found in node table. (navis)\n",
      "WARNING:navis:Soma 144 not found in node table.\n",
      "WARNING : Soma 4979 not found in node table. (navis)\n",
      "WARNING:navis:Soma 4979 not found in node table.\n",
      "WARNING : Soma 4979 not found in node table. (navis)\n",
      "WARNING:navis:Soma 4979 not found in node table.\n",
      "WARNING : Soma 5659 not found in node table. (navis)\n",
      "WARNING:navis:Soma 5659 not found in node table.\n",
      "WARNING : Soma 5659 not found in node table. (navis)\n",
      "WARNING:navis:Soma 5659 not found in node table.\n",
      "WARNING : Soma 5659 not found in node table. (navis)\n",
      "WARNING:navis:Soma 5659 not found in node table.\n",
      "WARNING : Soma 5659 not found in node table. (navis)\n",
      "WARNING:navis:Soma 5659 not found in node table.\n",
      "WARNING : Soma 6478 not found in node table. (navis)\n",
      "WARNING:navis:Soma 6478 not found in node table.\n",
      "WARNING : Soma 6478 not found in node table. (navis)\n",
      "WARNING:navis:Soma 6478 not found in node table.\n",
      "WARNING : Soma 212 not found in node table. (navis)\n",
      "WARNING:navis:Soma 212 not found in node table.\n",
      "WARNING : Soma 212 not found in node table. (navis)\n",
      "WARNING:navis:Soma 212 not found in node table.\n",
      "WARNING : Soma 212 not found in node table. (navis)\n",
      "WARNING:navis:Soma 212 not found in node table.\n",
      "WARNING : Soma 212 not found in node table. (navis)\n",
      "WARNING:navis:Soma 212 not found in node table.\n",
      "WARNING : Soma 212 not found in node table. (navis)\n",
      "WARNING:navis:Soma 212 not found in node table.\n",
      "WARNING : Soma 212 not found in node table. (navis)\n",
      "WARNING:navis:Soma 212 not found in node table.\n",
      "WARNING : Soma 212 not found in node table. (navis)\n",
      "WARNING:navis:Soma 212 not found in node table.\n",
      "WARNING : Soma 6942 not found in node table. (navis)\n",
      "WARNING:navis:Soma 6942 not found in node table.\n",
      "WARNING : Soma 6942 not found in node table. (navis)\n",
      "WARNING:navis:Soma 6942 not found in node table.\n",
      "WARNING : Soma 6942 not found in node table. (navis)\n",
      "WARNING:navis:Soma 6942 not found in node table.\n",
      "WARNING : Soma 6942 not found in node table. (navis)\n",
      "WARNING:navis:Soma 6942 not found in node table.\n",
      "WARNING : Soma 6942 not found in node table. (navis)\n",
      "WARNING:navis:Soma 6942 not found in node table.\n",
      "WARNING : Soma 6942 not found in node table. (navis)\n",
      "WARNING:navis:Soma 6942 not found in node table.\n",
      "WARNING : Soma 6942 not found in node table. (navis)\n",
      "WARNING:navis:Soma 6942 not found in node table.\n",
      "WARNING : Soma 6942 not found in node table. (navis)\n",
      "WARNING:navis:Soma 6942 not found in node table.\n",
      "WARNING : Soma 147 not found in node table. (navis)\n",
      "WARNING:navis:Soma 147 not found in node table.\n",
      "WARNING : Soma 147 not found in node table. (navis)\n",
      "WARNING:navis:Soma 147 not found in node table.\n",
      "WARNING : Soma 147 not found in node table. (navis)\n",
      "WARNING:navis:Soma 147 not found in node table.\n",
      "WARNING : Soma 147 not found in node table. (navis)\n",
      "WARNING:navis:Soma 147 not found in node table.\n",
      "WARNING : Soma 147 not found in node table. (navis)\n",
      "WARNING:navis:Soma 147 not found in node table.\n",
      "WARNING : Soma 147 not found in node table. (navis)\n",
      "WARNING:navis:Soma 147 not found in node table.\n",
      "WARNING : Soma 161 not found in node table. (navis)\n",
      "WARNING:navis:Soma 161 not found in node table.\n",
      "WARNING : Soma 161 not found in node table. (navis)\n",
      "WARNING:navis:Soma 161 not found in node table.\n",
      "WARNING : Soma 161 not found in node table. (navis)\n",
      "WARNING:navis:Soma 161 not found in node table.\n",
      "WARNING : Soma 7243 not found in node table. (navis)\n",
      "WARNING:navis:Soma 7243 not found in node table.\n",
      "WARNING : Soma 7243 not found in node table. (navis)\n",
      "WARNING:navis:Soma 7243 not found in node table.\n",
      "WARNING : Soma 7243 not found in node table. (navis)\n",
      "WARNING:navis:Soma 7243 not found in node table.\n",
      "WARNING : Soma 8894 not found in node table. (navis)\n",
      "WARNING:navis:Soma 8894 not found in node table.\n",
      "WARNING : Soma 8894 not found in node table. (navis)\n",
      "WARNING:navis:Soma 8894 not found in node table.\n",
      "WARNING : Soma 8894 not found in node table. (navis)\n",
      "WARNING:navis:Soma 8894 not found in node table.\n",
      "WARNING : Soma 8894 not found in node table. (navis)\n",
      "WARNING:navis:Soma 8894 not found in node table.\n",
      "WARNING : Soma 323 not found in node table. (navis)\n",
      "WARNING:navis:Soma 323 not found in node table.\n",
      "WARNING : Soma 323 not found in node table. (navis)\n",
      "WARNING:navis:Soma 323 not found in node table.\n",
      "WARNING : Soma 323 not found in node table. (navis)\n",
      "WARNING:navis:Soma 323 not found in node table.\n",
      "WARNING : Soma 323 not found in node table. (navis)\n",
      "WARNING:navis:Soma 323 not found in node table.\n",
      "WARNING : Soma 323 not found in node table. (navis)\n",
      "WARNING:navis:Soma 323 not found in node table.\n",
      "WARNING : Soma 323 not found in node table. (navis)\n",
      "WARNING:navis:Soma 323 not found in node table.\n",
      "WARNING : Soma 7831 not found in node table. (navis)\n",
      "WARNING:navis:Soma 7831 not found in node table.\n",
      "WARNING : Soma 7831 not found in node table. (navis)\n",
      "WARNING:navis:Soma 7831 not found in node table.\n",
      "WARNING : Soma 7831 not found in node table. (navis)\n",
      "WARNING:navis:Soma 7831 not found in node table.\n",
      "WARNING : Soma 7831 not found in node table. (navis)\n",
      "WARNING:navis:Soma 7831 not found in node table.\n",
      "WARNING : Soma 5279 not found in node table. (navis)\n",
      "WARNING:navis:Soma 5279 not found in node table.\n",
      "WARNING : Soma 5279 not found in node table. (navis)\n",
      "WARNING:navis:Soma 5279 not found in node table.\n",
      "WARNING : Soma 5279 not found in node table. (navis)\n",
      "WARNING:navis:Soma 5279 not found in node table.\n",
      "WARNING : Soma 5279 not found in node table. (navis)\n",
      "WARNING:navis:Soma 5279 not found in node table.\n",
      "WARNING : Soma 14220 not found in node table. (navis)\n",
      "WARNING:navis:Soma 14220 not found in node table.\n",
      "WARNING : Soma 14220 not found in node table. (navis)\n",
      "WARNING:navis:Soma 14220 not found in node table.\n",
      "WARNING : Soma 14220 not found in node table. (navis)\n",
      "WARNING:navis:Soma 14220 not found in node table.\n",
      "WARNING : Soma 14220 not found in node table. (navis)\n",
      "WARNING:navis:Soma 14220 not found in node table.\n",
      "WARNING : Soma 14220 not found in node table. (navis)\n",
      "WARNING:navis:Soma 14220 not found in node table.\n",
      "WARNING : Soma 178 not found in node table. (navis)\n",
      "WARNING:navis:Soma 178 not found in node table.\n",
      "WARNING : Soma 5955 not found in node table. (navis)\n",
      "WARNING:navis:Soma 5955 not found in node table.\n",
      "WARNING : Soma 5955 not found in node table. (navis)\n",
      "WARNING:navis:Soma 5955 not found in node table.\n",
      "WARNING : Soma 5955 not found in node table. (navis)\n",
      "WARNING:navis:Soma 5955 not found in node table.\n",
      "WARNING : Soma 5955 not found in node table. (navis)\n",
      "WARNING:navis:Soma 5955 not found in node table.\n",
      "WARNING : Soma 301 not found in node table. (navis)\n",
      "WARNING:navis:Soma 301 not found in node table.\n",
      "WARNING : Soma 301 not found in node table. (navis)\n",
      "WARNING:navis:Soma 301 not found in node table.\n",
      "WARNING : Soma 301 not found in node table. (navis)\n",
      "WARNING:navis:Soma 301 not found in node table.\n",
      "WARNING : Soma 301 not found in node table. (navis)\n",
      "WARNING:navis:Soma 301 not found in node table.\n",
      "WARNING : Soma 301 not found in node table. (navis)\n",
      "WARNING:navis:Soma 301 not found in node table.\n",
      "WARNING : Soma 8437 not found in node table. (navis)\n",
      "WARNING:navis:Soma 8437 not found in node table.\n",
      "WARNING : Soma 8437 not found in node table. (navis)\n",
      "WARNING:navis:Soma 8437 not found in node table.\n",
      "WARNING : Soma 8437 not found in node table. (navis)\n",
      "WARNING:navis:Soma 8437 not found in node table.\n",
      "WARNING : Soma 8437 not found in node table. (navis)\n",
      "WARNING:navis:Soma 8437 not found in node table.\n",
      "WARNING : Soma 8437 not found in node table. (navis)\n",
      "WARNING:navis:Soma 8437 not found in node table.\n",
      "WARNING : Soma 6944 not found in node table. (navis)\n",
      "WARNING:navis:Soma 6944 not found in node table.\n",
      "WARNING : Soma 10076 not found in node table. (navis)\n",
      "WARNING:navis:Soma 10076 not found in node table.\n",
      "WARNING : Soma 5908 not found in node table. (navis)\n",
      "WARNING:navis:Soma 5908 not found in node table.\n",
      "WARNING : Soma 5908 not found in node table. (navis)\n",
      "WARNING:navis:Soma 5908 not found in node table.\n",
      "WARNING : Soma 7965 not found in node table. (navis)\n",
      "WARNING:navis:Soma 7965 not found in node table.\n",
      "WARNING : Soma 7965 not found in node table. (navis)\n",
      "WARNING:navis:Soma 7965 not found in node table.\n",
      "WARNING : Soma 4926 not found in node table. (navis)\n",
      "WARNING:navis:Soma 4926 not found in node table.\n",
      "WARNING : Soma 4926 not found in node table. (navis)\n",
      "WARNING:navis:Soma 4926 not found in node table.\n",
      "WARNING : Soma 298 not found in node table. (navis)\n",
      "WARNING:navis:Soma 298 not found in node table.\n",
      "WARNING : Soma 298 not found in node table. (navis)\n",
      "WARNING:navis:Soma 298 not found in node table.\n",
      "WARNING : Soma 298 not found in node table. (navis)\n",
      "WARNING:navis:Soma 298 not found in node table.\n",
      "WARNING : Soma 173 not found in node table. (navis)\n",
      "WARNING:navis:Soma 173 not found in node table.\n",
      "WARNING : Soma 173 not found in node table. (navis)\n",
      "WARNING:navis:Soma 173 not found in node table.\n",
      "WARNING : Soma 433 not found in node table. (navis)\n",
      "WARNING:navis:Soma 433 not found in node table.\n",
      "WARNING : Soma 433 not found in node table. (navis)\n",
      "WARNING:navis:Soma 433 not found in node table.\n",
      "WARNING : Soma 251 not found in node table. (navis)\n",
      "WARNING:navis:Soma 251 not found in node table.\n",
      "WARNING : Soma 251 not found in node table. (navis)\n",
      "WARNING:navis:Soma 251 not found in node table.\n",
      "WARNING : Soma 251 not found in node table. (navis)\n",
      "WARNING:navis:Soma 251 not found in node table.\n",
      "WARNING : Soma 251 not found in node table. (navis)\n",
      "WARNING:navis:Soma 251 not found in node table.\n",
      "WARNING : Soma 251 not found in node table. (navis)\n",
      "WARNING:navis:Soma 251 not found in node table.\n",
      "WARNING : Soma 4481 not found in node table. (navis)\n",
      "WARNING:navis:Soma 4481 not found in node table.\n",
      "WARNING : Soma 91 not found in node table. (navis)\n",
      "WARNING:navis:Soma 91 not found in node table.\n",
      "WARNING : Soma 91 not found in node table. (navis)\n",
      "WARNING:navis:Soma 91 not found in node table.\n",
      "WARNING : Soma 91 not found in node table. (navis)\n",
      "WARNING:navis:Soma 91 not found in node table.\n",
      "WARNING : Soma 131 not found in node table. (navis)\n",
      "WARNING:navis:Soma 131 not found in node table.\n",
      "WARNING : Soma 131 not found in node table. (navis)\n",
      "WARNING:navis:Soma 131 not found in node table.\n",
      "WARNING : Soma 131 not found in node table. (navis)\n",
      "WARNING:navis:Soma 131 not found in node table.\n",
      "WARNING : Soma 131 not found in node table. (navis)\n",
      "WARNING:navis:Soma 131 not found in node table.\n",
      "WARNING : Soma 131 not found in node table. (navis)\n",
      "WARNING:navis:Soma 131 not found in node table.\n",
      "WARNING : Soma 131 not found in node table. (navis)\n",
      "WARNING:navis:Soma 131 not found in node table.\n",
      "WARNING : Soma 131 not found in node table. (navis)\n",
      "WARNING:navis:Soma 131 not found in node table.\n",
      "WARNING : Soma 6270 not found in node table. (navis)\n",
      "WARNING:navis:Soma 6270 not found in node table.\n",
      "WARNING : Soma 6270 not found in node table. (navis)\n",
      "WARNING:navis:Soma 6270 not found in node table.\n",
      "WARNING : Soma 4903 not found in node table. (navis)\n",
      "WARNING:navis:Soma 4903 not found in node table.\n",
      "WARNING : Soma 216 not found in node table. (navis)\n",
      "WARNING:navis:Soma 216 not found in node table.\n",
      "WARNING : Soma 216 not found in node table. (navis)\n",
      "WARNING:navis:Soma 216 not found in node table.\n",
      "WARNING : Soma 557 not found in node table. (navis)\n",
      "WARNING:navis:Soma 557 not found in node table.\n",
      "WARNING : Soma 557 not found in node table. (navis)\n",
      "WARNING:navis:Soma 557 not found in node table.\n",
      "WARNING : Soma 200 not found in node table. (navis)\n",
      "WARNING:navis:Soma 200 not found in node table.\n",
      "WARNING : Soma 4833 not found in node table. (navis)\n",
      "WARNING:navis:Soma 4833 not found in node table.\n",
      "WARNING : Soma 6602 not found in node table. (navis)\n",
      "WARNING:navis:Soma 6602 not found in node table.\n",
      "WARNING : Soma 4793 not found in node table. (navis)\n",
      "WARNING:navis:Soma 4793 not found in node table.\n",
      "WARNING : Soma 4793 not found in node table. (navis)\n",
      "WARNING:navis:Soma 4793 not found in node table.\n",
      "WARNING : Soma 4793 not found in node table. (navis)\n",
      "WARNING:navis:Soma 4793 not found in node table.\n",
      "WARNING : Soma 209 not found in node table. (navis)\n",
      "WARNING:navis:Soma 209 not found in node table.\n",
      "WARNING : Soma 209 not found in node table. (navis)\n",
      "WARNING:navis:Soma 209 not found in node table.\n",
      "WARNING : Soma 209 not found in node table. (navis)\n",
      "WARNING:navis:Soma 209 not found in node table.\n",
      "WARNING : Soma 209 not found in node table. (navis)\n",
      "WARNING:navis:Soma 209 not found in node table.\n",
      "WARNING : Soma 209 not found in node table. (navis)\n",
      "WARNING:navis:Soma 209 not found in node table.\n",
      "WARNING : Soma 209 not found in node table. (navis)\n",
      "WARNING:navis:Soma 209 not found in node table.\n",
      "WARNING : Soma 209 not found in node table. (navis)\n",
      "WARNING:navis:Soma 209 not found in node table.\n",
      "WARNING : Soma 209 not found in node table. (navis)\n",
      "WARNING:navis:Soma 209 not found in node table.\n",
      "WARNING : Soma 209 not found in node table. (navis)\n",
      "WARNING:navis:Soma 209 not found in node table.\n",
      "WARNING : Soma 5022 not found in node table. (navis)\n",
      "WARNING:navis:Soma 5022 not found in node table.\n",
      "WARNING : Soma 5022 not found in node table. (navis)\n",
      "WARNING:navis:Soma 5022 not found in node table.\n",
      "WARNING : Soma 5022 not found in node table. (navis)\n",
      "WARNING:navis:Soma 5022 not found in node table.\n",
      "WARNING : Soma 5022 not found in node table. (navis)\n",
      "WARNING:navis:Soma 5022 not found in node table.\n",
      "WARNING : Soma 4886 not found in node table. (navis)\n",
      "WARNING:navis:Soma 4886 not found in node table.\n",
      "WARNING : Soma 4886 not found in node table. (navis)\n",
      "WARNING:navis:Soma 4886 not found in node table.\n",
      "WARNING : Soma 4886 not found in node table. (navis)\n",
      "WARNING:navis:Soma 4886 not found in node table.\n",
      "WARNING : Soma 4886 not found in node table. (navis)\n",
      "WARNING:navis:Soma 4886 not found in node table.\n",
      "WARNING : Soma 4886 not found in node table. (navis)\n",
      "WARNING:navis:Soma 4886 not found in node table.\n",
      "WARNING : Soma 4975 not found in node table. (navis)\n",
      "WARNING:navis:Soma 4975 not found in node table.\n",
      "WARNING : Soma 4975 not found in node table. (navis)\n",
      "WARNING:navis:Soma 4975 not found in node table.\n",
      "WARNING : Soma 4975 not found in node table. (navis)\n",
      "WARNING:navis:Soma 4975 not found in node table.\n",
      "WARNING : Soma 4975 not found in node table. (navis)\n",
      "WARNING:navis:Soma 4975 not found in node table.\n",
      "WARNING : Soma 4731 not found in node table. (navis)\n",
      "WARNING:navis:Soma 4731 not found in node table.\n",
      "WARNING : Soma 4731 not found in node table. (navis)\n",
      "WARNING:navis:Soma 4731 not found in node table.\n",
      "WARNING : Soma 4731 not found in node table. (navis)\n",
      "WARNING:navis:Soma 4731 not found in node table.\n",
      "WARNING : Soma 4731 not found in node table. (navis)\n",
      "WARNING:navis:Soma 4731 not found in node table.\n",
      "WARNING : Soma 4731 not found in node table. (navis)\n",
      "WARNING:navis:Soma 4731 not found in node table.\n",
      "WARNING : Soma 4731 not found in node table. (navis)\n",
      "WARNING:navis:Soma 4731 not found in node table.\n",
      "WARNING : Soma 278 not found in node table. (navis)\n",
      "WARNING:navis:Soma 278 not found in node table.\n",
      "WARNING : Soma 278 not found in node table. (navis)\n",
      "WARNING:navis:Soma 278 not found in node table.\n",
      "WARNING : Soma 278 not found in node table. (navis)\n",
      "WARNING:navis:Soma 278 not found in node table.\n",
      "WARNING : Soma 153 not found in node table. (navis)\n",
      "WARNING:navis:Soma 153 not found in node table.\n",
      "WARNING : Soma 153 not found in node table. (navis)\n",
      "WARNING:navis:Soma 153 not found in node table.\n",
      "WARNING : Soma 153 not found in node table. (navis)\n",
      "WARNING:navis:Soma 153 not found in node table.\n",
      "WARNING : Soma 153 not found in node table. (navis)\n",
      "WARNING:navis:Soma 153 not found in node table.\n",
      "WARNING : Soma 153 not found in node table. (navis)\n",
      "WARNING:navis:Soma 153 not found in node table.\n",
      "WARNING : Soma 153 not found in node table. (navis)\n",
      "WARNING:navis:Soma 153 not found in node table.\n",
      "WARNING : Soma 251 not found in node table. (navis)\n",
      "WARNING:navis:Soma 251 not found in node table.\n",
      "WARNING : Soma 345 not found in node table. (navis)\n",
      "WARNING:navis:Soma 345 not found in node table.\n",
      "WARNING : Soma 345 not found in node table. (navis)\n",
      "WARNING:navis:Soma 345 not found in node table.\n",
      "WARNING : Soma 345 not found in node table. (navis)\n",
      "WARNING:navis:Soma 345 not found in node table.\n",
      "WARNING : Soma 345 not found in node table. (navis)\n",
      "WARNING:navis:Soma 345 not found in node table.\n",
      "WARNING : Soma 345 not found in node table. (navis)\n",
      "WARNING:navis:Soma 345 not found in node table.\n",
      "WARNING : Soma 345 not found in node table. (navis)\n",
      "WARNING:navis:Soma 345 not found in node table.\n",
      "WARNING : Soma 5695 not found in node table. (navis)\n",
      "WARNING:navis:Soma 5695 not found in node table.\n",
      "WARNING : Soma 5695 not found in node table. (navis)\n",
      "WARNING:navis:Soma 5695 not found in node table.\n",
      "WARNING : Soma 5695 not found in node table. (navis)\n",
      "WARNING:navis:Soma 5695 not found in node table.\n",
      "WARNING : Soma 5695 not found in node table. (navis)\n",
      "WARNING:navis:Soma 5695 not found in node table.\n",
      "WARNING : Soma 5695 not found in node table. (navis)\n",
      "WARNING:navis:Soma 5695 not found in node table.\n",
      "WARNING : Soma 167 not found in node table. (navis)\n",
      "WARNING:navis:Soma 167 not found in node table.\n",
      "WARNING : Soma 167 not found in node table. (navis)\n",
      "WARNING:navis:Soma 167 not found in node table.\n",
      "WARNING : Soma 167 not found in node table. (navis)\n",
      "WARNING:navis:Soma 167 not found in node table.\n",
      "WARNING : Soma 167 not found in node table. (navis)\n",
      "WARNING:navis:Soma 167 not found in node table.\n",
      "WARNING : Soma 167 not found in node table. (navis)\n",
      "WARNING:navis:Soma 167 not found in node table.\n",
      "WARNING : Soma 156 not found in node table. (navis)\n",
      "WARNING:navis:Soma 156 not found in node table.\n",
      "WARNING : Soma 156 not found in node table. (navis)\n",
      "WARNING:navis:Soma 156 not found in node table.\n",
      "WARNING : Soma 200 not found in node table. (navis)\n",
      "WARNING:navis:Soma 200 not found in node table.\n",
      "WARNING : Soma 200 not found in node table. (navis)\n",
      "WARNING:navis:Soma 200 not found in node table.\n",
      "WARNING : Soma 200 not found in node table. (navis)\n",
      "WARNING:navis:Soma 200 not found in node table.\n",
      "WARNING : Soma 159 not found in node table. (navis)\n",
      "WARNING:navis:Soma 159 not found in node table.\n",
      "WARNING : Soma 159 not found in node table. (navis)\n",
      "WARNING:navis:Soma 159 not found in node table.\n",
      "WARNING : Soma 159 not found in node table. (navis)\n",
      "WARNING:navis:Soma 159 not found in node table.\n",
      "WARNING : Soma 159 not found in node table. (navis)\n",
      "WARNING:navis:Soma 159 not found in node table.\n",
      "WARNING : Soma 159 not found in node table. (navis)\n",
      "WARNING:navis:Soma 159 not found in node table.\n",
      "WARNING : Soma 159 not found in node table. (navis)\n",
      "WARNING:navis:Soma 159 not found in node table.\n",
      "WARNING : Soma 5464 not found in node table. (navis)\n",
      "WARNING:navis:Soma 5464 not found in node table.\n",
      "WARNING : Soma 5464 not found in node table. (navis)\n",
      "WARNING:navis:Soma 5464 not found in node table.\n",
      "WARNING : Soma 4814 not found in node table. (navis)\n",
      "WARNING:navis:Soma 4814 not found in node table.\n",
      "WARNING : Soma 4814 not found in node table. (navis)\n",
      "WARNING:navis:Soma 4814 not found in node table.\n",
      "WARNING : Soma 4814 not found in node table. (navis)\n",
      "WARNING:navis:Soma 4814 not found in node table.\n",
      "WARNING : Soma 4814 not found in node table. (navis)\n",
      "WARNING:navis:Soma 4814 not found in node table.\n",
      "WARNING : Soma 4814 not found in node table. (navis)\n",
      "WARNING:navis:Soma 4814 not found in node table.\n",
      "WARNING : Soma 4814 not found in node table. (navis)\n",
      "WARNING:navis:Soma 4814 not found in node table.\n",
      "WARNING : Soma 4814 not found in node table. (navis)\n",
      "WARNING:navis:Soma 4814 not found in node table.\n",
      "WARNING : Soma 4035 not found in node table. (navis)\n",
      "WARNING:navis:Soma 4035 not found in node table.\n",
      "WARNING : Soma 166 not found in node table. (navis)\n",
      "WARNING:navis:Soma 166 not found in node table.\n",
      "WARNING : Soma 166 not found in node table. (navis)\n",
      "WARNING:navis:Soma 166 not found in node table.\n",
      "WARNING : Soma 195 not found in node table. (navis)\n",
      "WARNING:navis:Soma 195 not found in node table.\n",
      "WARNING : Soma 195 not found in node table. (navis)\n",
      "WARNING:navis:Soma 195 not found in node table.\n",
      "WARNING : Soma 195 not found in node table. (navis)\n",
      "WARNING:navis:Soma 195 not found in node table.\n",
      "WARNING : Soma 195 not found in node table. (navis)\n",
      "WARNING:navis:Soma 195 not found in node table.\n",
      "WARNING : Soma 195 not found in node table. (navis)\n",
      "WARNING:navis:Soma 195 not found in node table.\n",
      "WARNING : Soma 195 not found in node table. (navis)\n",
      "WARNING:navis:Soma 195 not found in node table.\n",
      "WARNING : Soma 5268 not found in node table. (navis)\n",
      "WARNING:navis:Soma 5268 not found in node table.\n",
      "WARNING : Soma 5342 not found in node table. (navis)\n",
      "WARNING:navis:Soma 5342 not found in node table.\n",
      "WARNING : Soma 5342 not found in node table. (navis)\n",
      "WARNING:navis:Soma 5342 not found in node table.\n",
      "WARNING : Soma 5342 not found in node table. (navis)\n",
      "WARNING:navis:Soma 5342 not found in node table.\n",
      "WARNING : Soma 330 not found in node table. (navis)\n",
      "WARNING:navis:Soma 330 not found in node table.\n",
      "WARNING : Soma 330 not found in node table. (navis)\n",
      "WARNING:navis:Soma 330 not found in node table.\n",
      "WARNING : Soma 330 not found in node table. (navis)\n",
      "WARNING:navis:Soma 330 not found in node table.\n",
      "WARNING : Soma 330 not found in node table. (navis)\n",
      "WARNING:navis:Soma 330 not found in node table.\n",
      "WARNING : Soma 330 not found in node table. (navis)\n",
      "WARNING:navis:Soma 330 not found in node table.\n",
      "WARNING : Soma 330 not found in node table. (navis)\n",
      "WARNING:navis:Soma 330 not found in node table.\n",
      "WARNING : Soma 330 not found in node table. (navis)\n",
      "WARNING:navis:Soma 330 not found in node table.\n",
      "WARNING : Soma 330 not found in node table. (navis)\n",
      "WARNING:navis:Soma 330 not found in node table.\n",
      "WARNING : Soma 186 not found in node table. (navis)\n",
      "WARNING:navis:Soma 186 not found in node table.\n",
      "WARNING : Soma 186 not found in node table. (navis)\n",
      "WARNING:navis:Soma 186 not found in node table.\n",
      "WARNING : Soma 186 not found in node table. (navis)\n",
      "WARNING:navis:Soma 186 not found in node table.\n",
      "WARNING : Soma 186 not found in node table. (navis)\n",
      "WARNING:navis:Soma 186 not found in node table.\n",
      "WARNING : Soma 76 not found in node table. (navis)\n",
      "WARNING:navis:Soma 76 not found in node table.\n",
      "WARNING : Soma 76 not found in node table. (navis)\n",
      "WARNING:navis:Soma 76 not found in node table.\n",
      "WARNING : Soma 76 not found in node table. (navis)\n",
      "WARNING:navis:Soma 76 not found in node table.\n",
      "WARNING : Soma 76 not found in node table. (navis)\n",
      "WARNING:navis:Soma 76 not found in node table.\n",
      "WARNING : Soma 76 not found in node table. (navis)\n",
      "WARNING:navis:Soma 76 not found in node table.\n",
      "WARNING : Soma 76 not found in node table. (navis)\n",
      "WARNING:navis:Soma 76 not found in node table.\n",
      "WARNING : Soma 275 not found in node table. (navis)\n",
      "WARNING:navis:Soma 275 not found in node table.\n",
      "WARNING : Soma 275 not found in node table. (navis)\n",
      "WARNING:navis:Soma 275 not found in node table.\n",
      "WARNING : Soma 275 not found in node table. (navis)\n",
      "WARNING:navis:Soma 275 not found in node table.\n",
      "WARNING : Soma 4736 not found in node table. (navis)\n",
      "WARNING:navis:Soma 4736 not found in node table.\n",
      "WARNING : Soma 171 not found in node table. (navis)\n",
      "WARNING:navis:Soma 171 not found in node table.\n",
      "WARNING : Soma 81 not found in node table. (navis)\n",
      "WARNING:navis:Soma 81 not found in node table.\n",
      "WARNING : Soma 5430 not found in node table. (navis)\n",
      "WARNING:navis:Soma 5430 not found in node table.\n",
      "WARNING : Soma 5430 not found in node table. (navis)\n",
      "WARNING:navis:Soma 5430 not found in node table.\n",
      "WARNING : Soma 5430 not found in node table. (navis)\n",
      "WARNING:navis:Soma 5430 not found in node table.\n",
      "WARNING : Soma 135 not found in node table. (navis)\n",
      "WARNING:navis:Soma 135 not found in node table.\n",
      "WARNING : Soma 135 not found in node table. (navis)\n",
      "WARNING:navis:Soma 135 not found in node table.\n",
      "WARNING : Soma 4279 not found in node table. (navis)\n",
      "WARNING:navis:Soma 4279 not found in node table.\n",
      "WARNING : Soma 5566 not found in node table. (navis)\n",
      "WARNING:navis:Soma 5566 not found in node table.\n",
      "WARNING : Soma 5566 not found in node table. (navis)\n",
      "WARNING:navis:Soma 5566 not found in node table.\n",
      "WARNING : Soma 5566 not found in node table. (navis)\n",
      "WARNING:navis:Soma 5566 not found in node table.\n",
      "WARNING : Soma 5566 not found in node table. (navis)\n",
      "WARNING:navis:Soma 5566 not found in node table.\n",
      "WARNING : Soma 169 not found in node table. (navis)\n",
      "WARNING:navis:Soma 169 not found in node table.\n",
      "WARNING : Soma 169 not found in node table. (navis)\n",
      "WARNING:navis:Soma 169 not found in node table.\n",
      "WARNING : Soma 416 not found in node table. (navis)\n",
      "WARNING:navis:Soma 416 not found in node table.\n",
      "WARNING : Soma 416 not found in node table. (navis)\n",
      "WARNING:navis:Soma 416 not found in node table.\n",
      "WARNING : Soma 416 not found in node table. (navis)\n",
      "WARNING:navis:Soma 416 not found in node table.\n",
      "WARNING : Soma 5446 not found in node table. (navis)\n",
      "WARNING:navis:Soma 5446 not found in node table.\n",
      "WARNING : Soma 5446 not found in node table. (navis)\n",
      "WARNING:navis:Soma 5446 not found in node table.\n",
      "WARNING : Soma 5446 not found in node table. (navis)\n",
      "WARNING:navis:Soma 5446 not found in node table.\n",
      "WARNING : Soma 5446 not found in node table. (navis)\n",
      "WARNING:navis:Soma 5446 not found in node table.\n",
      "WARNING : Soma 64 not found in node table. (navis)\n",
      "WARNING:navis:Soma 64 not found in node table.\n",
      "WARNING : Soma 64 not found in node table. (navis)\n",
      "WARNING:navis:Soma 64 not found in node table.\n",
      "WARNING : Soma 64 not found in node table. (navis)\n",
      "WARNING:navis:Soma 64 not found in node table.\n",
      "WARNING : Soma 99 not found in node table. (navis)\n",
      "WARNING:navis:Soma 99 not found in node table.\n",
      "WARNING : Soma 99 not found in node table. (navis)\n",
      "WARNING:navis:Soma 99 not found in node table.\n",
      "WARNING : Soma 99 not found in node table. (navis)\n",
      "WARNING:navis:Soma 99 not found in node table.\n",
      "WARNING : Soma 99 not found in node table. (navis)\n",
      "WARNING:navis:Soma 99 not found in node table.\n",
      "WARNING : Soma 90 not found in node table. (navis)\n",
      "WARNING:navis:Soma 90 not found in node table.\n",
      "WARNING : Soma 5194 not found in node table. (navis)\n",
      "WARNING:navis:Soma 5194 not found in node table.\n",
      "WARNING : Soma 5194 not found in node table. (navis)\n",
      "WARNING:navis:Soma 5194 not found in node table.\n",
      "WARNING : Soma 5969 not found in node table. (navis)\n",
      "WARNING:navis:Soma 5969 not found in node table.\n",
      "WARNING : Soma 5969 not found in node table. (navis)\n",
      "WARNING:navis:Soma 5969 not found in node table.\n",
      "WARNING : Soma 5969 not found in node table. (navis)\n",
      "WARNING:navis:Soma 5969 not found in node table.\n",
      "WARNING : Soma 327 not found in node table. (navis)\n",
      "WARNING:navis:Soma 327 not found in node table.\n",
      "WARNING : Soma 327 not found in node table. (navis)\n",
      "WARNING:navis:Soma 327 not found in node table.\n"
     ]
    }
   ],
   "source": [
    "ring_cortex_neurites=remove_in_mesh(ring_neurites, eb_mesh)"
   ]
  },
  {
   "cell_type": "code",
   "execution_count": 15,
   "id": "71f627ab-190c-4178-b850-ad6898c8512c",
   "metadata": {},
   "outputs": [
    {
     "data": {
      "application/vnd.jupyter.widget-view+json": {
       "model_id": "",
       "version_major": 2,
       "version_minor": 0
      },
      "text/plain": [
       "Dividing:   0%|          | 0/268 [00:00<?, ?it/s]"
      ]
     },
     "metadata": {},
     "output_type": "display_data"
    },
    {
     "data": {
      "application/vnd.jupyter.widget-view+json": {
       "model_id": "",
       "version_major": 2,
       "version_minor": 0
      },
      "text/plain": [
       "Dotprops:   0%|          | 0/268 [00:00<?, ?it/s]"
      ]
     },
     "metadata": {},
     "output_type": "display_data"
    }
   ],
   "source": [
    "z_nbl = make_nblast(ring_neurons)"
   ]
  },
  {
   "cell_type": "code",
   "execution_count": 16,
   "id": "a62b5432-5a55-4bfb-8a81-19a65541d1a6",
   "metadata": {},
   "outputs": [],
   "source": [
    "lens_pd = pd.merge(pd.DataFrame({\"id\": ring_neurons.id}),pd.DataFrame({\"id\":ring_cortex_neurites.id, \"cable_length\":ring_cortex_neurites.cable_length}), \n",
    "                      on = 'id', how='outer')"
   ]
  },
  {
   "cell_type": "code",
   "execution_count": 17,
   "id": "0b1daf7b-e603-4961-aebb-9c457436973d",
   "metadata": {},
   "outputs": [
    {
     "name": "stdout",
     "output_type": "stream",
     "text": [
      "r^2 = 0.756459, p = 0.000000\n"
     ]
    },
    {
     "data": {
      "image/png": "[encoded data removed]",
      "text/plain": [
       "<Figure size 864x360 with 2 Axes>"
      ]
     },
     "metadata": {
      "needs_background": "light"
     },
     "output_type": "display_data"
    },
    {
     "data": {
      "text/html": [
       "<div>\n",
       "<style scoped>\n",
       "    .dataframe tbody tr th:only-of-type {\n",
       "        vertical-align: middle;\n",
       "    }\n",
       "\n",
       "    .dataframe tbody tr th {\n",
       "        vertical-align: top;\n",
       "    }\n",
       "\n",
       "    .dataframe thead th {\n",
       "        text-align: right;\n",
       "    }\n",
       "</style>\n",
       "<table border=\"1\" class=\"dataframe\">\n",
       "  <thead>\n",
       "    <tr style=\"text-align: right;\">\n",
       "      <th></th>\n",
       "      <th>Z_nbl</th>\n",
       "      <th>lens</th>\n",
       "      <th>cl</th>\n",
       "      <th>avglens</th>\n",
       "      <th>colors</th>\n",
       "      <th>cl_n</th>\n",
       "    </tr>\n",
       "  </thead>\n",
       "  <tbody>\n",
       "    <tr>\n",
       "      <th>121</th>\n",
       "      <td>[80.0, 330.0, 0.2771736091787173, 3.0]</td>\n",
       "      <td>104797.610666</td>\n",
       "      <td>29</td>\n",
       "      <td>99980.972871</td>\n",
       "      <td>C9</td>\n",
       "      <td>1</td>\n",
       "    </tr>\n",
       "    <tr>\n",
       "      <th>24</th>\n",
       "      <td>[185.0, 222.0, 0.2215164486571074, 2.0]</td>\n",
       "      <td>98938.155016</td>\n",
       "      <td>29</td>\n",
       "      <td>99980.972871</td>\n",
       "      <td>C9</td>\n",
       "      <td>1</td>\n",
       "    </tr>\n",
       "    <tr>\n",
       "      <th>16</th>\n",
       "      <td>[93.0, 201.0, 0.21223075441410844, 2.0]</td>\n",
       "      <td>99953.064727</td>\n",
       "      <td>29</td>\n",
       "      <td>99980.972871</td>\n",
       "      <td>C9</td>\n",
       "      <td>1</td>\n",
       "    </tr>\n",
       "    <tr>\n",
       "      <th>114</th>\n",
       "      <td>[179.0, 133.0, 0.2751180605414899, 2.0]</td>\n",
       "      <td>92608.273908</td>\n",
       "      <td>29</td>\n",
       "      <td>99980.972871</td>\n",
       "      <td>C9</td>\n",
       "      <td>1</td>\n",
       "    </tr>\n",
       "    <tr>\n",
       "      <th>122</th>\n",
       "      <td>[192.0, 285.0, 0.27749032926249323, 3.0]</td>\n",
       "      <td>86562.886685</td>\n",
       "      <td>29</td>\n",
       "      <td>99980.972871</td>\n",
       "      <td>C9</td>\n",
       "      <td>1</td>\n",
       "    </tr>\n",
       "    <tr>\n",
       "      <th>...</th>\n",
       "      <td>...</td>\n",
       "      <td>...</td>\n",
       "      <td>...</td>\n",
       "      <td>...</td>\n",
       "      <td>...</td>\n",
       "      <td>...</td>\n",
       "    </tr>\n",
       "    <tr>\n",
       "      <th>89</th>\n",
       "      <td>[45.0, 345.0, 0.2582801882223735, 3.0]</td>\n",
       "      <td>171158.691898</td>\n",
       "      <td>9</td>\n",
       "      <td>179835.302774</td>\n",
       "      <td>C9</td>\n",
       "      <td>31</td>\n",
       "    </tr>\n",
       "    <tr>\n",
       "      <th>0</th>\n",
       "      <td>[32.0, 17.0, 0.19129694108182382, 2.0]</td>\n",
       "      <td>196479.506395</td>\n",
       "      <td>9</td>\n",
       "      <td>179835.302774</td>\n",
       "      <td>C9</td>\n",
       "      <td>31</td>\n",
       "    </tr>\n",
       "    <tr>\n",
       "      <th>202</th>\n",
       "      <td>[424.0, 368.0, 0.40749736442075274, 6.0]</td>\n",
       "      <td>206380.197083</td>\n",
       "      <td>9</td>\n",
       "      <td>179835.302774</td>\n",
       "      <td>C9</td>\n",
       "      <td>31</td>\n",
       "    </tr>\n",
       "    <tr>\n",
       "      <th>69</th>\n",
       "      <td>[318.0, 276.0, 0.24385022296483852, 4.0]</td>\n",
       "      <td>175454.101979</td>\n",
       "      <td>9</td>\n",
       "      <td>179835.302774</td>\n",
       "      <td>C9</td>\n",
       "      <td>31</td>\n",
       "    </tr>\n",
       "    <tr>\n",
       "      <th>205</th>\n",
       "      <td>[438.0, 425.0, 0.4154214809339026, 6.0]</td>\n",
       "      <td>147199.477459</td>\n",
       "      <td>9</td>\n",
       "      <td>179835.302774</td>\n",
       "      <td>C9</td>\n",
       "      <td>31</td>\n",
       "    </tr>\n",
       "  </tbody>\n",
       "</table>\n",
       "<p>268 rows × 6 columns</p>\n",
       "</div>"
      ],
      "text/plain": [
       "                                        Z_nbl           lens  cl  \\\n",
       "121    [80.0, 330.0, 0.2771736091787173, 3.0]  104797.610666  29   \n",
       "24    [185.0, 222.0, 0.2215164486571074, 2.0]   98938.155016  29   \n",
       "16    [93.0, 201.0, 0.21223075441410844, 2.0]   99953.064727  29   \n",
       "114   [179.0, 133.0, 0.2751180605414899, 2.0]   92608.273908  29   \n",
       "122  [192.0, 285.0, 0.27749032926249323, 3.0]   86562.886685  29   \n",
       "..                                        ...            ...  ..   \n",
       "89     [45.0, 345.0, 0.2582801882223735, 3.0]  171158.691898   9   \n",
       "0      [32.0, 17.0, 0.19129694108182382, 2.0]  196479.506395   9   \n",
       "202  [424.0, 368.0, 0.40749736442075274, 6.0]  206380.197083   9   \n",
       "69   [318.0, 276.0, 0.24385022296483852, 4.0]  175454.101979   9   \n",
       "205   [438.0, 425.0, 0.4154214809339026, 6.0]  147199.477459   9   \n",
       "\n",
       "           avglens colors  cl_n  \n",
       "121   99980.972871     C9     1  \n",
       "24    99980.972871     C9     1  \n",
       "16    99980.972871     C9     1  \n",
       "114   99980.972871     C9     1  \n",
       "122   99980.972871     C9     1  \n",
       "..             ...    ...   ...  \n",
       "89   179835.302774     C9    31  \n",
       "0    179835.302774     C9    31  \n",
       "202  179835.302774     C9    31  \n",
       "69   179835.302774     C9    31  \n",
       "205  179835.302774     C9    31  \n",
       "\n",
       "[268 rows x 6 columns]"
      ]
     },
     "execution_count": 17,
     "metadata": {},
     "output_type": "execute_result"
    }
   ],
   "source": [
    "plot_age_nbl_clust(z_nbl, lens_pd.cable_length, t=.7)"
   ]
  },
  {
   "cell_type": "code",
   "execution_count": 97,
   "id": "259a1540-2af9-4683-aef9-a3add5c57223",
   "metadata": {},
   "outputs": [
    {
     "name": "stderr",
     "output_type": "stream",
     "text": [
      "/var/folders/6x/5lwmcqxs2kq4j9b3q_2bk1j00000gq/T/ipykernel_2973/3357001062.py:2: SettingWithCopyWarning: \n",
      "A value is trying to be set on a copy of a slice from a DataFrame.\n",
      "Try using .loc[row_indexer,col_indexer] = value instead\n",
      "\n",
      "See the caveats in the documentation: https://pandas.pydata.org/pandas-docs/stable/user_guide/indexing.html#returning-a-view-versus-a-copy\n",
      "  ring_types['root_id'] = pd.to_numeric(ring_rows.root_id)\n"
     ]
    }
   ],
   "source": [
    "ring_types = ring_rows[['root_id', 'cell_type', 'side']]\n",
    "ring_types['root_id'] = pd.to_numeric(ring_rows.root_id)\n",
    "ring_types = ring_types[ring_types.root_id.isin(ring_cortex_neurites.id)]\n",
    "ring_types = pd.merge(pd.DataFrame({\"root_id\": ring_cortex_neurites.id}),ring_types, \n",
    "                      on = 'root_id', how='outer')"
   ]
  },
  {
   "cell_type": "code",
   "execution_count": 112,
   "id": "17c9b987-2835-46e5-869c-0f6f587ddaa1",
   "metadata": {},
   "outputs": [
    {
     "name": "stdout",
     "output_type": "stream",
     "text": [
      "r^2 = 0.184776, p = 0.002390\n"
     ]
    },
    {
     "data": {
      "image/png": "[encoded data removed]",
      "text/plain": [
       "<Figure size 432x288 with 2 Axes>"
      ]
     },
     "metadata": {
      "needs_background": "light"
     },
     "output_type": "display_data"
    },
    {
     "name": "stdout",
     "output_type": "stream",
     "text": [
      "    types           lens  color_num   side  side_types  side_type_num        avglens\n",
      "88   ER3p   86562.886685          9  right  ER3p_right              6   99980.972871\n",
      "215  ER3p  109357.256080          9  right  ER3p_right              6   99980.972871\n",
      "229  ER3p   98938.155016          9  right  ER3p_right              6   99980.972871\n",
      "84   ER3p   92608.273908          9  right  ER3p_right              6   99980.972871\n",
      "103  ER3p  110933.766735          9  right  ER3p_right              6   99980.972871\n",
      "167  ER3p   96990.495845          9  right  ER3p_right              6   99980.972871\n",
      "14   ER3p   99687.246177          9  right  ER3p_right              6   99980.972871\n",
      "154  ER3p  104797.610666          9  right  ER3p_right              6   99980.972871\n",
      "53   ER3p   99953.064727          9  right  ER3p_right              6   99980.972871\n",
      "247  ER3w  100257.366370          3  right  ER3w_right             13  100132.759056\n",
      "246  ER3w  108802.538197          3  right  ER3w_right             13  100132.759056\n",
      "267  ER3w   93242.991193          3  right  ER3w_right             13  100132.759056\n",
      "144  ER3w   96915.761026          3  right  ER3w_right             13  100132.759056\n",
      "260  ER3w  106835.211450          3  right  ER3w_right             13  100132.759056\n",
      "93   ER3w  109899.500756          3  right  ER3w_right             13  100132.759056\n",
      "17   ER3w   82048.186528          3  right  ER3w_right             13  100132.759056\n",
      "252  ER3w   95801.629338          3  right  ER3w_right             13  100132.759056\n",
      "130  ER3w  101386.602852          3  right  ER3w_right             13  100132.759056\n",
      "125  ER3w  106137.802850          3  right  ER3w_right             13  100132.759056\n",
      "78    ER2  106542.760270          2  right   ER2_right              9  107877.640194\n",
      "74    ER2  121263.939376          2  right   ER2_right              9  107877.640194\n",
      "244   ER2  100599.347121          2  right   ER2_right              9  107877.640194\n",
      "239   ER2  104498.508085          2  right   ER2_right              9  107877.640194\n",
      "44    ER2   72009.379785          2  right   ER2_right              9  107877.640194\n",
      "250   ER2   97854.885169          2  right   ER2_right              9  107877.640194\n",
      "49    ER2  114286.512543          2  right   ER2_right              9  107877.640194\n",
      "253   ER2  103351.996335          2  right   ER2_right              9  107877.640194\n",
      "100   ER2   84320.747220          2  right   ER2_right              9  107877.640194\n",
      "243   ER2   98928.485485          2  right   ER2_right              9  107877.640194\n",
      "0     ER2  114347.733947          2  right   ER2_right              9  107877.640194\n",
      "177   ER2  103566.364365          2  right   ER2_right              9  107877.640194\n",
      "145   ER2  136114.126838          2  right   ER2_right              9  107877.640194\n",
      "194   ER2  108242.719942          2  right   ER2_right              9  107877.640194\n",
      "129   ER2  124805.785305          2  right   ER2_right              9  107877.640194\n",
      "190   ER2  127851.677533          2  right   ER2_right              9  107877.640194\n",
      "126   ER2  103469.161244          2  right   ER2_right              9  107877.640194\n",
      "76    ER2  121458.140053          2  right   ER2_right              9  107877.640194\n",
      "178   ER2  103619.793826          2  right   ER2_right              9  107877.640194\n",
      "81    ER2  110420.739430          2  right   ER2_right              9  107877.640194\n",
      "51   ER3d   87991.613567         10  right  ER3d_right              0  110106.615795\n",
      "155  ER3d   97092.659329         10  right  ER3d_right              0  110106.615795\n",
      "139  ER3d  120676.237026         10  right  ER3d_right              0  110106.615795\n",
      "266  ER3d  107235.515543         10  right  ER3d_right              0  110106.615795\n",
      "79   ER3d  125610.984609         10  right  ER3d_right              0  110106.615795\n",
      "54   ER3d  113990.594011         10  right  ER3d_right              0  110106.615795\n",
      "55   ER3d  121448.798414         10  right  ER3d_right              0  110106.615795\n",
      "57   ER3d  109473.524812         10  right  ER3d_right              0  110106.615795\n",
      "207  ER3d  106849.116703         10  right  ER3d_right              0  110106.615795\n",
      "206  ER3d  124362.221107         10  right  ER3d_right              0  110106.615795\n",
      "195  ER3d  122268.152320         10  right  ER3d_right              0  110106.615795\n",
      "257  ER3d  106274.329119         10  right  ER3d_right              0  110106.615795\n",
      "146  ER3d  100004.626162         10  right  ER3d_right              0  110106.615795\n",
      "261  ER3d   99320.823774         10  right  ER3d_right              0  110106.615795\n",
      "5    ER3d  117764.337361         10  right  ER3d_right              0  110106.615795\n",
      "217  ER3d  118143.027829         10  right  ER3d_right              0  110106.615795\n",
      "221  ER3d  111180.521796         10  right  ER3d_right              0  110106.615795\n",
      "112  ER3d  108685.405260         10  right  ER3d_right              0  110106.615795\n",
      "185  ER3d  114273.331213         10  right  ER3d_right              0  110106.615795\n",
      "110  ER3d  108742.055081         10  right  ER3d_right              0  110106.615795\n",
      "210  ER3d  103142.120403         10  right  ER3d_right              0  110106.615795\n",
      "87   ER3d  104376.341035         10  right  ER3d_right              0  110106.615795\n",
      "32   ER3d  103545.826809         10  right  ER3d_right              0  110106.615795\n",
      "204  ER3p  117582.405225          9   left   ER3p_left             15  116025.039865\n",
      "121  ER3p  103160.670883          9   left   ER3p_left             15  116025.039865\n",
      "75   ER3p  145493.495746          9   left   ER3p_left             15  116025.039865\n",
      "11   ER3p  131704.905006          9   left   ER3p_left             15  116025.039865\n",
      "123  ER3p  103978.699001          9   left   ER3p_left             15  116025.039865\n",
      "68   ER3p   99243.665649          9   left   ER3p_left             15  116025.039865\n",
      "35   ER3p  111011.437547          9   left   ER3p_left             15  116025.039865\n",
      "197   ER1  125370.384963          1  right   ER1_right              2  118011.480891\n",
      "46    ER1   98812.117012          1  right   ER1_right              2  118011.480891\n",
      "135   ER1  104812.752599          1  right   ER1_right              2  118011.480891\n",
      "156   ER1  117853.072603          1  right   ER1_right              2  118011.480891\n",
      "69    ER1  112056.965152          1  right   ER1_right              2  118011.480891\n",
      "263   ER1  138386.360678          1  right   ER1_right              2  118011.480891\n",
      "262   ER1  114074.647291          1  right   ER1_right              2  118011.480891\n",
      "106   ER1  118372.684378          1  right   ER1_right              2  118011.480891\n",
      "67    ER1  127082.108407          1  right   ER1_right              2  118011.480891\n",
      "23    ER1  125032.769886          1  right   ER1_right              2  118011.480891\n",
      "160   ER1  119294.051116          1  right   ER1_right              2  118011.480891\n",
      "119   ER1  117572.088513          1  right   ER1_right              2  118011.480891\n",
      "10    ER1  130522.526308          1  right   ER1_right              2  118011.480891\n",
      "141   ER1  109911.104004          1  right   ER1_right              2  118011.480891\n",
      "99    ER1  111018.580450          1  right   ER1_right              2  118011.480891\n",
      "187  ER3a  106617.603024          6  right  ER3a_right             18  126183.573834\n",
      "205  ER3a  131813.772885          6  right  ER3a_right             18  126183.573834\n",
      "4    ER3a  119635.658229          6  right  ER3a_right             18  126183.573834\n",
      "41   ER3a  130636.571655          6  right  ER3a_right             18  126183.573834\n",
      "98   ER3a  116269.742187          6  right  ER3a_right             18  126183.573834\n",
      "133  ER3a  147936.538764          6  right  ER3a_right             18  126183.573834\n",
      "89   ER3a  146358.445674          6  right  ER3a_right             18  126183.573834\n",
      "232  ER3a  124630.628934          6  right  ER3a_right             18  126183.573834\n",
      "128  ER3a  128897.932453          6  right  ER3a_right             18  126183.573834\n",
      "70   ER3a  132789.154556          6  right  ER3a_right             18  126183.573834\n",
      "20   ER3a  118929.425872          6  right  ER3a_right             18  126183.573834\n",
      "28   ER3a  126618.906409          6  right  ER3a_right             18  126183.573834\n",
      "228  ER3a   95809.884902          6  right  ER3a_right             18  126183.573834\n",
      "96   ER3a  139067.369519          6  right  ER3a_right             18  126183.573834\n",
      "132  ER3a  119571.437932          6  right  ER3a_right             18  126183.573834\n",
      "107  ER3a  125167.527860          6  right  ER3a_right             18  126183.573834\n",
      "150  ER3a  111911.074958          6  right  ER3a_right             18  126183.573834\n",
      "227  ER3a  148642.653194          6  right  ER3a_right             18  126183.573834\n",
      "48   ER3w  117505.704690          3   left   ER3w_left             21  128954.025889\n",
      "12   ER3w  126400.835089          3   left   ER3w_left             21  128954.025889\n",
      "173  ER3w  124320.030827          3   left   ER3w_left             21  128954.025889\n",
      "152  ER3w  116622.775633          3   left   ER3w_left             21  128954.025889\n",
      "16   ER3w  120990.172401          3   left   ER3w_left             21  128954.025889\n",
      "259  ER3w  125141.128737          3   left   ER3w_left             21  128954.025889\n",
      "255  ER3w  129087.468617          3   left   ER3w_left             21  128954.025889\n",
      "222  ER3w  105189.537498          3   left   ER3w_left             21  128954.025889\n",
      "220  ER3w  130422.695433          3   left   ER3w_left             21  128954.025889\n",
      "65   ER3w  147928.913278          3   left   ER3w_left             21  128954.025889\n",
      "148  ER3w  158927.848972          3   left   ER3w_left             21  128954.025889\n",
      "225  ER3w  133618.362945          3   left   ER3w_left             21  128954.025889\n",
      "136  ER3w  140246.862438          3   left   ER3w_left             21  128954.025889\n",
      "166   ER5  130676.238517          5  right   ER5_right             12  129639.600499\n",
      "22    ER5  133765.279029          5  right   ER5_right             12  129639.600499\n",
      "170   ER5  136977.578976          5  right   ER5_right             12  129639.600499\n",
      "235   ER5  129264.870932          5  right   ER5_right             12  129639.600499\n",
      "29    ER5  123054.082153          5  right   ER5_right             12  129639.600499\n",
      "15    ER5  126576.523499          5  right   ER5_right             12  129639.600499\n",
      "36    ER5  137549.373336          5  right   ER5_right             12  129639.600499\n",
      "13    ER5  127617.413365          5  right   ER5_right             12  129639.600499\n",
      "97    ER5  125337.183081          5  right   ER5_right             12  129639.600499\n",
      "175   ER5  125577.462105          5  right   ER5_right             12  129639.600499\n",
      "33    ER2  119952.761068          2   left    ER2_left             19  131941.452807\n",
      "219   ER2  153385.105580          2   left    ER2_left             19  131941.452807\n",
      "30    ER2  135189.417968          2   left    ER2_left             19  131941.452807\n",
      "169   ER2  139010.244962          2   left    ER2_left             19  131941.452807\n",
      "64    ER2  116060.021732          2   left    ER2_left             19  131941.452807\n",
      "61    ER2  125381.348939          2   left    ER2_left             19  131941.452807\n",
      "122   ER2  189759.601404          2   left    ER2_left             19  131941.452807\n",
      "184   ER2  169976.685798          2   left    ER2_left             19  131941.452807\n",
      "161   ER2  131120.920890          2   left    ER2_left             19  131941.452807\n",
      "188   ER2  108979.843287          2   left    ER2_left             19  131941.452807\n",
      "60    ER2  119483.266108          2   left    ER2_left             19  131941.452807\n",
      "19    ER2  116915.754996          2   left    ER2_left             19  131941.452807\n",
      "95    ER2  125304.894530          2   left    ER2_left             19  131941.452807\n",
      "198   ER2  128864.336911          2   left    ER2_left             19  131941.452807\n",
      "94    ER2  129052.124961          2   left    ER2_left             19  131941.452807\n",
      "203   ER2  130141.182190          2   left    ER2_left             19  131941.452807\n",
      "165   ER2  141574.056431          2   left    ER2_left             19  131941.452807\n",
      "191   ER2  121250.860689          2   left    ER2_left             19  131941.452807\n",
      "102   ER2  123242.013153          2   left    ER2_left             19  131941.452807\n",
      "80    ER2  114184.614543          2   left    ER2_left             19  131941.452807\n",
      "62   ER4m  121646.712141          8  right  ER4m_right              3  132075.841316\n",
      "234  ER4m  136539.271434          8  right  ER4m_right              3  132075.841316\n",
      "216  ER4m  143543.671476          8  right  ER4m_right              3  132075.841316\n",
      "47   ER4m  115795.044560          8  right  ER4m_right              3  132075.841316\n",
      "182  ER4m  140718.130688          8  right  ER4m_right              3  132075.841316\n",
      "256  ER4m  134212.217596          8  right  ER4m_right              3  132075.841316\n",
      "1    ER3m  128268.111182          7  right  ER3m_right              7  133006.094662\n",
      "159  ER3m  128472.038169          7  right  ER3m_right              7  133006.094662\n",
      "21   ER3m  130800.181687          7  right  ER3m_right              7  133006.094662\n",
      "82   ER3m  134042.944545          7  right  ER3m_right              7  133006.094662\n",
      "77   ER3m  139429.282574          7  right  ER3m_right              7  133006.094662\n",
      "31   ER3m  181075.166460          7  right  ER3m_right              7  133006.094662\n",
      "233  ER3m  119242.587531          7  right  ER3m_right              7  133006.094662\n",
      "249  ER3m  125124.564407          7  right  ER3m_right              7  133006.094662\n",
      "38   ER3m  110599.975407          7  right  ER3m_right              7  133006.094662\n",
      "242   ER1  125003.327702          1   left    ER1_left             10  133072.649089\n",
      "157   ER1  129202.469359          1   left    ER1_left             10  133072.649089\n",
      "212   ER1  126069.130697          1   left    ER1_left             10  133072.649089\n",
      "108   ER1  167028.489214          1   left    ER1_left             10  133072.649089\n",
      "86    ER1  127627.873950          1   left    ER1_left             10  133072.649089\n",
      "226   ER1  123303.322362          1   left    ER1_left             10  133072.649089\n",
      "105   ER1  132806.559085          1   left    ER1_left             10  133072.649089\n",
      "124   ER1  129983.481147          1   left    ER1_left             10  133072.649089\n",
      "254   ER1  132197.257104          1   left    ER1_left             10  133072.649089\n",
      "248   ER1  131765.999942          1   left    ER1_left             10  133072.649089\n",
      "179   ER1  127437.600189          1   left    ER1_left             10  133072.649089\n",
      "131   ER1  134437.248822          1   left    ER1_left             10  133072.649089\n",
      "134   ER1  143081.678578          1   left    ER1_left             10  133072.649089\n",
      "27   ER4m  124873.139338          8   left   ER4m_left              4  134504.832813\n",
      "58   ER4m  144297.699571          8   left   ER4m_left              4  134504.832813\n",
      "168  ER4m  129296.644193          8   left   ER4m_left              4  134504.832813\n",
      "201  ER4m  136450.744611          8   left   ER4m_left              4  134504.832813\n",
      "25   ER4m  137605.936349          8   left   ER4m_left              4  134504.832813\n",
      "211  ER4d  147089.144903          0  right  ER4d_right              8  135500.505645\n",
      "7    ER4d  146018.263412          0  right  ER4d_right              8  135500.505645\n",
      "149  ER4d  146279.961288          0  right  ER4d_right              8  135500.505645\n",
      "164  ER4d  145202.700726          0  right  ER4d_right              8  135500.505645\n",
      "230  ER4d  134346.746825          0  right  ER4d_right              8  135500.505645\n",
      "8    ER4d   90351.418660          0  right  ER4d_right              8  135500.505645\n",
      "6    ER4d  123106.420865          0  right  ER4d_right              8  135500.505645\n",
      "66   ER4d  115974.303050          0  right  ER4d_right              8  135500.505645\n",
      "73   ER4d  150243.605482          0  right  ER4d_right              8  135500.505645\n",
      "208  ER4d  144739.072612          0  right  ER4d_right              8  135500.505645\n",
      "151  ER4d  147153.924275          0  right  ER4d_right              8  135500.505645\n",
      "50   ER4d  151152.620829          0   left   ER4d_left             14  142920.714062\n",
      "85   ER4d  153497.046192          0   left   ER4d_left             14  142920.714062\n",
      "183  ER4d  122974.655512          0   left   ER4d_left             14  142920.714062\n",
      "172  ER4d  161360.079023          0   left   ER4d_left             14  142920.714062\n",
      "26   ER4d  150280.180465          0   left   ER4d_left             14  142920.714062\n",
      "138  ER4d  148575.880329          0   left   ER4d_left             14  142920.714062\n",
      "231  ER4d  153051.466070          0   left   ER4d_left             14  142920.714062\n",
      "18   ER4d  127251.781179          0   left   ER4d_left             14  142920.714062\n",
      "37   ER4d  143425.762416          0   left   ER4d_left             14  142920.714062\n",
      "189  ER4d  138722.108101          0   left   ER4d_left             14  142920.714062\n",
      "176  ER4d  144017.238781          0   left   ER4d_left             14  142920.714062\n",
      "43   ER4d  130479.098669          0   left   ER4d_left             14  142920.714062\n",
      "72   ER4d  129893.048486          0   left   ER4d_left             14  142920.714062\n",
      "45   ER4d  146209.030824          0   left   ER4d_left             14  142920.714062\n",
      "240   ER6  134950.949460          4  right   ER6_right             16  147090.379912\n",
      "163   ER6  159229.810364          4  right   ER6_right             16  147090.379912\n",
      "142   ER5  166104.006942          5   left    ER5_left             20  150600.396820\n",
      "140   ER5  142011.675476          5   left    ER5_left             20  150600.396820\n",
      "181   ER5  136577.799891          5   left    ER5_left             20  150600.396820\n",
      "171   ER5  144289.940547          5   left    ER5_left             20  150600.396820\n",
      "116   ER5  158453.540252          5   left    ER5_left             20  150600.396820\n",
      "115   ER5  144217.469041          5   left    ER5_left             20  150600.396820\n",
      "109   ER5  149514.111885          5   left    ER5_left             20  150600.396820\n",
      "265   ER5  146770.696298          5   left    ER5_left             20  150600.396820\n",
      "196   ER5  152699.428459          5   left    ER5_left             20  150600.396820\n",
      "90    ER5  147972.947986          5   left    ER5_left             20  150600.396820\n",
      "39    ER5  167992.748246          5   left    ER5_left             20  150600.396820\n",
      "218  ER3d  128731.802222         10   left   ER3d_left             11  150693.243847\n",
      "137  ER3d  187964.707515         10   left   ER3d_left             11  150693.243847\n",
      "143  ER3d  153141.228318         10   left   ER3d_left             11  150693.243847\n",
      "147  ER3d  155606.274357         10   left   ER3d_left             11  150693.243847\n",
      "2    ER3d  152206.796963         10   left   ER3d_left             11  150693.243847\n",
      "158  ER3d  167720.799396         10   left   ER3d_left             11  150693.243847\n",
      "9    ER3d  167547.618237         10   left   ER3d_left             11  150693.243847\n",
      "180  ER3d  118887.054257         10   left   ER3d_left             11  150693.243847\n",
      "34   ER3d  176430.029943         10   left   ER3d_left             11  150693.243847\n",
      "24   ER3d  116009.338583         10   left   ER3d_left             11  150693.243847\n",
      "117  ER3d  123743.624811         10   left   ER3d_left             11  150693.243847\n",
      "3    ER3d  168501.038287         10   left   ER3d_left             11  150693.243847\n",
      "120  ER3d  161329.893511         10   left   ER3d_left             11  150693.243847\n",
      "258  ER3d  156413.553284         10   left   ER3d_left             11  150693.243847\n",
      "192  ER3d  109260.512256         10   left   ER3d_left             11  150693.243847\n",
      "71   ER3d  117455.199825         10   left   ER3d_left             11  150693.243847\n",
      "42   ER3d  180632.071912         10   left   ER3d_left             11  150693.243847\n",
      "245  ER3d  182135.771028         10   left   ER3d_left             11  150693.243847\n",
      "101  ER3d  182375.212087         10   left   ER3d_left             11  150693.243847\n",
      "56   ER3d  128087.739250         10   left   ER3d_left             11  150693.243847\n",
      "114  ER3d  178703.209434         10   left   ER3d_left             11  150693.243847\n",
      "200  ER3d  168644.052663         10   left   ER3d_left             11  150693.243847\n",
      "199  ER3d  148929.982908         10   left   ER3d_left             11  150693.243847\n",
      "241  ER3d  154256.739740         10   left   ER3d_left             11  150693.243847\n",
      "202  ER3d  124927.784807         10   left   ER3d_left             11  150693.243847\n",
      "83   ER3d  108382.304425         10   left   ER3d_left             11  150693.243847\n",
      "113  ER3a  133247.603260          6   left   ER3a_left              1  151407.481136\n",
      "186  ER3a  184498.171644          6   left   ER3a_left              1  151407.481136\n",
      "214  ER3a  144998.154141          6   left   ER3a_left              1  151407.481136\n",
      "209  ER3a  147059.003365          6   left   ER3a_left              1  151407.481136\n",
      "264  ER3a  142139.854783          6   left   ER3a_left              1  151407.481136\n",
      "251  ER3a  132725.124544          6   left   ER3a_left              1  151407.481136\n",
      "92   ER3a  162624.432903          6   left   ER3a_left              1  151407.481136\n",
      "237  ER3a  150856.269326          6   left   ER3a_left              1  151407.481136\n",
      "236  ER3a  144811.280029          6   left   ER3a_left              1  151407.481136\n",
      "59   ER3a  138422.475858          6   left   ER3a_left              1  151407.481136\n",
      "224  ER3a  135389.550102          6   left   ER3a_left              1  151407.481136\n",
      "52   ER3a  178176.164296          6   left   ER3a_left              1  151407.481136\n",
      "91   ER3a  136337.161148          6   left   ER3a_left              1  151407.481136\n",
      "238  ER3a  153666.208016          6   left   ER3a_left              1  151407.481136\n",
      "104  ER3a  147055.918599          6   left   ER3a_left              1  151407.481136\n",
      "223  ER3a  192170.736747          6   left   ER3a_left              1  151407.481136\n",
      "118  ER3a  149749.070547          6   left   ER3a_left              1  151407.481136\n",
      "153   ER6  190769.322390          4   left    ER6_left              5  176556.722152\n",
      "193   ER6  162344.121915          4   left    ER6_left              5  176556.722152\n",
      "213  ER3m  206380.197083          7   left   ER3m_left             17  179835.302774\n",
      "63   ER3m  183992.436689          7   left   ER3m_left             17  179835.302774\n",
      "127  ER3m  175454.101979          7   left   ER3m_left             17  179835.302774\n",
      "40   ER3m  171158.691898          7   left   ER3m_left             17  179835.302774\n",
      "162  ER3m  196479.506395          7   left   ER3m_left             17  179835.302774\n",
      "111  ER3m  147199.477459          7   left   ER3m_left             17  179835.302774\n",
      "174  ER3m  178182.707916          7   left   ER3m_left             17  179835.302774\n"
     ]
    }
   ],
   "source": [
    "print(plot_age_type(ring_types.cell_type, ring_cortex_neurites.cable_length, sides = ring_types.side).to_string())"
   ]
  },
  {
   "cell_type": "code",
   "execution_count": null,
   "id": "fa818337-707a-4e46-8571-a75a2a512c50",
   "metadata": {},
   "outputs": [],
   "source": [
    "plot_3d_cell_types(ring_cortex_neurites, ring_types.cell_type)"
   ]
  },
  {
   "cell_type": "markdown",
   "id": "e00bbdce-6777-46c4-aaaa-af0566398a9b",
   "metadata": {
    "tags": []
   },
   "source": [
    "# testing"
   ]
  },
  {
   "cell_type": "code",
   "execution_count": null,
   "id": "d8cef88b-2ea1-43b8-bc47-e74cbd9a98c1",
   "metadata": {},
   "outputs": [],
   "source": []
  }
 ],
 "metadata": {
  "kernelspec": {
   "display_name": "Python 3 (ipykernel)",
   "language": "python",
   "name": "python3"
  },
  "language_info": {
   "codemirror_mode": {
    "name": "ipython",
    "version": 3
   },
   "file_extension": ".py",
   "mimetype": "text/x-python",
   "name": "python",
   "nbconvert_exporter": "python",
   "pygments_lexer": "ipython3",
   "version": "3.9.7"
  }
 },
 "nbformat": 4,
 "nbformat_minor": 5
}
